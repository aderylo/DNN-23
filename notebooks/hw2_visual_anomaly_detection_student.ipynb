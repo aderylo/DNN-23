{
  "cells": [
    {
      "cell_type": "markdown",
      "metadata": {
        "id": "ISUBZbOTVZxn"
      },
      "source": [
        "# Low-shot visual anomaly detection (v2.1)\n",
        "\n",
        "*This is the updated version of the homework with some additional clarifications and changes in the task descriptions (see slack channel for details). The code remains untouched.*\n",
        "\n",
        "In this notebook you'll investigate visual anomaly detection in a typical industrial setting - we don't have much data and we can train only only normal (non-anomalous) examples.\n",
        "Read the [PADIM paper](https://arxiv.org/pdf/2011.08785.pdf) carefully.\n",
        "The code here is based on the original implementation from its authors.\n",
        "\n",
        "If you have any questions - please write them on slack in the channel.\n",
        "\n",
        "### Bibliography\n",
        "\n",
        "1. Defard, T., Setkov, A., Loesch, A., & Audigier, R. (2021). [Padim: a patch distribution modeling framework for anomaly detection and localization](https://arxiv.org/pdf/2011.08785.pdf). In International Conference on Pattern Recognition (pp. 475-489). Cham: Springer International Publishing."
      ]
    },
    {
      "cell_type": "markdown",
      "metadata": {
        "id": "8Gwf82SgVZxo"
      },
      "source": [
        "## Data\n",
        "\n",
        "In case of any problems - please visit [MVTec AD](https://www.mvtec.com/company/research/datasets/mvtec-ad/downloads) to get the access to the data."
      ]
    },
    {
      "cell_type": "code",
      "execution_count": null,
      "metadata": {
        "id": "1yRQ3gPIVZxp"
      },
      "outputs": [],
      "source": [
        "# %pip install --quiet gdown  # for those who don't run it on Google Colab\n",
        "# !gdown -q '1r7WJeDb-E5zzgQSOx7F7bNWg8kYX3yKE'\n",
        "# !gdown -q '1Kb420ygkN1iBni5Iy_-psLGNoY0gQFk9'\n",
        "# !gdown -q '12wDP9I3aVIr1qLekWY3GLhQO7c6SRhGn'"
      ]
    },
    {
      "cell_type": "code",
      "execution_count": 1,
      "metadata": {
        "id": "liTm9VH-VZxp"
      },
      "outputs": [],
      "source": [
        "from pathlib import Path\n",
        "import tarfile\n",
        "\n",
        "DATA_PATH = Path('./mvtec_anomaly_detection')\n",
        "DATA_PATH.mkdir(exist_ok=True)\n",
        "\n",
        "for class_name in ['bottle', 'metal_nut', 'transistor']:\n",
        "    if not (DATA_PATH / class_name).exists():\n",
        "        with tarfile.open(class_name + '.tar.xz') as tar:\n",
        "            tar.extractall(path=DATA_PATH)"
      ]
    },
    {
      "cell_type": "markdown",
      "metadata": {
        "id": "WQyQYffqVZxq"
      },
      "source": [
        "## PADIM implementation"
      ]
    },
    {
      "cell_type": "code",
      "execution_count": 2,
      "metadata": {
        "id": "uvPuyg5vVZxq"
      },
      "outputs": [],
      "source": [
        "import os\n",
        "import random\n",
        "import time\n",
        "from pathlib import Path\n",
        "from random import sample\n",
        "from typing import cast, Any, Dict, List, Optional, Tuple\n",
        "\n",
        "import pandas as pd\n",
        "import matplotlib.pyplot as plt\n",
        "import numpy as np\n",
        "import torch\n",
        "import torch.backends, torch.backends.mps\n",
        "import torch.nn.functional as F\n",
        "from numpy.typing import NDArray\n",
        "from matplotlib import colors\n",
        "from PIL import Image\n",
        "from sklearn.metrics import roc_auc_score, roc_curve, precision_recall_curve\n",
        "from scipy.spatial.distance import mahalanobis\n",
        "from scipy.ndimage import gaussian_filter\n",
        "from skimage import morphology\n",
        "from skimage.segmentation import mark_boundaries\n",
        "from torch.utils.data import DataLoader, Dataset\n",
        "from torchvision.models import wide_resnet50_2, resnet18, Wide_ResNet50_2_Weights, ResNet18_Weights\n",
        "from torch import nn\n",
        "from torchvision import transforms as T\n",
        "from tqdm import tqdm\n",
        "from torch.utils.data.sampler import SubsetRandomSampler\n",
        "\n",
        "FloatNDArray = NDArray[np.float32]"
      ]
    },
    {
      "cell_type": "code",
      "execution_count": 3,
      "metadata": {
        "id": "SuSoeQJMVZxr"
      },
      "outputs": [],
      "source": [
        "# Leave it as is if you're unsure, this notebook will guess this for you below.\n",
        "DEVICE: Optional[torch.device] = None\n",
        "SEED: int = 42  # do not modify\n",
        "\n",
        "plt.style.use(\"dark_background\")"
      ]
    },
    {
      "cell_type": "code",
      "execution_count": 4,
      "metadata": {
        "id": "w6q4z2STVZxr"
      },
      "outputs": [],
      "source": [
        "def seed_all(seed: int = 0) -> None:\n",
        "    random.seed(seed)\n",
        "    np.random.seed(seed)\n",
        "    torch.manual_seed(seed)\n",
        "    if torch.cuda.is_available():\n",
        "        torch.cuda.manual_seed_all(seed)\n",
        "\n",
        "\n",
        "def get_best_device_for_pytorch() -> torch.device:\n",
        "    if torch.cuda.is_available():\n",
        "        device_str = \"cuda\"     # GPU\n",
        "    elif hasattr(torch.backends, \"mps\") and torch.backends.mps.is_available():\n",
        "        device_str = \"mps\"      # Apple silicon\n",
        "    else:\n",
        "        device_str = \"cpu\"      # CPU\n",
        "    return torch.device(device_str)"
      ]
    },
    {
      "cell_type": "code",
      "execution_count": 5,
      "metadata": {
        "id": "VJUMYdKqVZxr",
        "outputId": "3c7a5fd5-4d39-4520-f9e1-85e11058e48a"
      },
      "outputs": [
        {
          "name": "stdout",
          "output_type": "stream",
          "text": [
            "Using PyTorch with mps backend.\n",
            "Seeded everything with 42.\n"
          ]
        }
      ],
      "source": [
        "if not DEVICE:\n",
        "    DEVICE = get_best_device_for_pytorch()\n",
        "print(f\"Using PyTorch with {DEVICE} backend.\")\n",
        "\n",
        "seed_all(SEED)\n",
        "print(f\"Seeded everything with {SEED}.\")"
      ]
    },
    {
      "cell_type": "markdown",
      "metadata": {
        "id": "_YAV-eWoVZxs"
      },
      "source": [
        "### MVTecDataset"
      ]
    },
    {
      "cell_type": "code",
      "execution_count": 6,
      "metadata": {
        "id": "FFDn_Y7xVZxt"
      },
      "outputs": [],
      "source": [
        "class MVTecDataset(Dataset[Tuple[torch.Tensor, int, torch.Tensor]]):\n",
        "    \"\"\"MVTec dataset of industrial objects with and without anomalies.\n",
        "\n",
        "    Yields (x, y, mask) tuples where:\n",
        "    - x is an RGB image from the class, as float tensor of shape (3, cropsize, cropsize);\n",
        "    - y is an int, 0 for good images, 1 for anomalous images;\n",
        "    - mask is 0 for normal pixels, 1 for anomalous pixels, as float tensor of shape (1, cropsize, cropsize).\n",
        "\n",
        "    Source: https://github.com/xiahaifeng1995/PaDiM-Anomaly-Detection-Localization-master/blob/main/datasets/mvtec.py\n",
        "    \"\"\"\n",
        "\n",
        "    def __init__(self, dataset_path: Path, class_name: str = 'bottle',\n",
        "                 is_train: bool = True, resize: int = 256, cropsize: int = 224, return_only_indices=False):\n",
        "        self.dataset_path = dataset_path\n",
        "        self.class_name = class_name\n",
        "        assert (dataset_path / class_name).is_dir(), f'Dataset class not found: {dataset_path / class_name}'\n",
        "        self.is_train = is_train\n",
        "\n",
        "        self.resize = resize\n",
        "        self.cropsize = cropsize\n",
        "\n",
        "        # load dataset\n",
        "        self.x, self.y, self.mask = self.load_dataset_folder()\n",
        "\n",
        "        # set transforms\n",
        "        self.transform_x = T.Compose([T.Resize(resize, Image.LANCZOS),\n",
        "                                      T.CenterCrop(cropsize),\n",
        "                                      T.ToTensor(),\n",
        "                                      T.Normalize(mean=[0.485, 0.456, 0.406],\n",
        "                                                  std=[0.229, 0.224, 0.225])])\n",
        "        self.transform_mask = T.Compose([T.Resize(resize, Image.NEAREST),\n",
        "                                         T.CenterCrop(cropsize),\n",
        "                                         T.ToTensor()])\n",
        "\n",
        "        self.return_only_indices = return_only_indices\n",
        "\n",
        "    def __getitem__(self, idx: int) -> Tuple[torch.Tensor, int, torch.Tensor]:\n",
        "        if self.return_only_indices:  # Used for checking the answer of T1.1.\n",
        "            return idx\n",
        "\n",
        "        x, y, mask = self.x[idx], self.y[idx], self.mask[idx]\n",
        "\n",
        "        x = Image.open(x).convert('RGB')\n",
        "        x = cast(torch.Tensor, self.transform_x(x))\n",
        "\n",
        "        if y == 0:\n",
        "            mask = torch.zeros([1, self.cropsize, self.cropsize])\n",
        "        else:\n",
        "            assert mask is not None\n",
        "            mask = Image.open(mask)\n",
        "            mask = cast(torch.Tensor, self.transform_mask(mask))\n",
        "\n",
        "        return x, y, mask\n",
        "\n",
        "    def __len__(self) -> int:\n",
        "        return len(self.x)\n",
        "\n",
        "    def load_dataset_folder(self) -> Tuple[List[Path], List[int], List[Optional[Path]]]:\n",
        "        phase = 'train' if self.is_train else 'test'\n",
        "        x: List[Path] = []\n",
        "        y: List[int] = []\n",
        "        mask: List[Optional[Path]] = []\n",
        "\n",
        "        img_dir = self.dataset_path / self.class_name / phase\n",
        "        gt_dir = self.dataset_path / self.class_name / 'ground_truth'\n",
        "\n",
        "        for img_type_dir in sorted(img_dir.iterdir()):\n",
        "            # Load images.\n",
        "            if not img_type_dir.is_dir():\n",
        "                continue\n",
        "            img_fpath_list = sorted(img_type_dir.glob('*.png'))\n",
        "            x.extend(img_fpath_list)\n",
        "\n",
        "            # Load ground-truth labels and masks.\n",
        "            if img_type_dir.name == 'good':\n",
        "                y.extend([0] * len(img_fpath_list))\n",
        "                mask.extend([None] * len(img_fpath_list))\n",
        "            else:\n",
        "                y.extend([1] * len(img_fpath_list))\n",
        "                mask.extend([gt_dir / img_type_dir.name / (f.stem + '_mask.png')\n",
        "                            for f in img_fpath_list])\n",
        "\n",
        "        assert len(x) == len(y) == len(mask), 'Number of x, y, and mask should be the same.'\n",
        "        return x, y, mask"
      ]
    },
    {
      "cell_type": "code",
      "execution_count": 7,
      "metadata": {
        "id": "jc3w7-nVVZxt"
      },
      "outputs": [],
      "source": [
        "def sample_idx(number_of_features: int, max_number_of_features: int) -> torch.Tensor:\n",
        "    assert number_of_features <= max_number_of_features\n",
        "    return torch.tensor(sample(range(0, max_number_of_features), number_of_features))\n",
        "\n",
        "\n",
        "def denormalization(x: FloatNDArray) -> NDArray[np.uint8]:\n",
        "    \"\"\"Denormalize with ImageNet values.\"\"\"\n",
        "    mean = np.array([0.485, 0.456, 0.406])\n",
        "    std = np.array([0.229, 0.224, 0.225])\n",
        "    return (((x.transpose(1, 2, 0) * std) + mean) * 255.).astype(np.uint8)\n",
        "\n",
        "\n",
        "def embedding_concat(x: torch.Tensor, y: torch.Tensor) -> torch.Tensor:\n",
        "    \"\"\"\n",
        "    Concatenate embeddings (along the channel dimension, upscaling y to match x).\n",
        "\n",
        "    Args:\n",
        "        x: Tensor of shape (B, C1, H1, W1).\n",
        "        y: Tensor of shape (B, C2, H2, W2).\n",
        "\n",
        "    Returns:\n",
        "        Tensor of shape is (B, C1 + C2, H1, W1).\n",
        "    \"\"\"\n",
        "    B, C1, H1, W1 = x.size()\n",
        "    _, C2, H2, W2 = y.size()\n",
        "    s = int(H1 / H2)\n",
        "    x = F.unfold(x, kernel_size=s, dilation=1, stride=s)\n",
        "    x = x.view(B, C1, s * s, H2, W2)\n",
        "    z = torch.zeros(B, C1 + C2, s * s, H2, W2).to(x.device)\n",
        "    for i in range(s * s):\n",
        "        z[:, :, i, :, :] = torch.cat((x[:, :, i, :, :], y), dim=1)\n",
        "    z = z.view(B, -1, H2 * W2)\n",
        "    z = F.fold(z, kernel_size=s, output_size=(H1, W1), stride=s)\n",
        "    return z\n",
        "\n",
        "def concatenate_embeddings_from_all_layers(layer_outputs: Dict[str, torch.Tensor]) -> torch.Tensor:\n",
        "        embedding_vectors = layer_outputs['layer1']\n",
        "        for layer_name in ['layer2', 'layer3']:\n",
        "            embedding_vectors = embedding_concat(embedding_vectors, layer_outputs[layer_name])\n",
        "        return embedding_vectors\n",
        "\n",
        "def plot_fig(test_img, scores, gts, threshold: float, save_dir: Path, class_name: str):\n",
        "    num = len(scores)\n",
        "    vmax = scores.max() * 255.\n",
        "    vmin = scores.min() * 255.\n",
        "    for i in range(num):\n",
        "        img = test_img[i]\n",
        "        img = denormalization(img)\n",
        "        gt = gts[i].transpose(1, 2, 0).squeeze()\n",
        "        heat_map = scores[i] * 255\n",
        "        mask = scores[i]\n",
        "        mask[mask > threshold] = 1\n",
        "        mask[mask <= threshold] = 0\n",
        "        kernel = morphology.disk(4)\n",
        "        mask = morphology.opening(mask, kernel)\n",
        "        mask *= 255\n",
        "        vis_img = mark_boundaries(img, mask, color=(1, 0, 0), mode='thick')\n",
        "        fig_img, ax_img = plt.subplots(1, 5, figsize=(12, 3))\n",
        "        fig_img.subplots_adjust(right=0.9)\n",
        "        norm = colors.Normalize(vmin=vmin, vmax=vmax)\n",
        "        for ax_i in ax_img:\n",
        "            ax_i.axes.xaxis.set_visible(False)\n",
        "            ax_i.axes.yaxis.set_visible(False)\n",
        "        ax_img[0].imshow(img)\n",
        "        ax_img[0].title.set_text('Image')\n",
        "        ax_img[1].imshow(gt, cmap='gray')\n",
        "        ax_img[1].title.set_text('GroundTruth')\n",
        "        ax = ax_img[2].imshow(heat_map, cmap='jet', norm=norm)\n",
        "        ax_img[2].imshow(img, cmap='gray', interpolation='none')\n",
        "        ax_img[2].imshow(heat_map, cmap='jet', alpha=0.5, interpolation='none')\n",
        "        ax_img[2].title.set_text('Predicted heat map')\n",
        "        ax_img[3].imshow(mask, cmap='gray')\n",
        "        ax_img[3].title.set_text('Predicted mask')\n",
        "        ax_img[4].imshow(vis_img)\n",
        "        ax_img[4].title.set_text('Segmentation result')\n",
        "        left = 0.92\n",
        "        bottom = 0.15\n",
        "        width = 0.015\n",
        "        height = 1 - 2 * bottom\n",
        "        rect = [left, bottom, width, height]\n",
        "        cbar_ax = fig_img.add_axes(rect)\n",
        "        cb = plt.colorbar(ax, shrink=0.6, cax=cbar_ax, fraction=0.046)\n",
        "        cb.ax.tick_params(labelsize=8)\n",
        "        font = {\n",
        "            'family': 'serif',\n",
        "            'color': 'black',\n",
        "            'weight': 'normal',\n",
        "            'size': 8,\n",
        "        }\n",
        "        cb.set_label('Anomaly Score', fontdict=font)\n",
        "\n",
        "        fig_img.savefig(save_dir / f'{class_name}_{i}', dpi=100)\n",
        "        plt.close()"
      ]
    },
    {
      "cell_type": "code",
      "execution_count": 8,
      "metadata": {
        "id": "VGs7EmL9VZxt"
      },
      "outputs": [],
      "source": [
        "def get_feature_extractor(arch: str) -> nn.Module:\n",
        "    if arch == 'resnet18':\n",
        "        model = resnet18(weights=ResNet18_Weights.IMAGENET1K_V1, progress=True)\n",
        "        # t_d = 448\n",
        "        # d = 40\n",
        "    elif arch == 'wide_resnet50_2':\n",
        "        model = wide_resnet50_2(weights=Wide_ResNet50_2_Weights.IMAGENET1K_V1, progress=True)\n",
        "        # t_d = 1792\n",
        "        # d = 550\n",
        "    else:\n",
        "        raise NotImplementedError\n",
        "    return model"
      ]
    },
    {
      "cell_type": "markdown",
      "metadata": {
        "id": "TzRgYQYxVZxu"
      },
      "source": [
        "### PADIM class"
      ]
    },
    {
      "cell_type": "code",
      "execution_count": 28,
      "metadata": {
        "id": "m5AzS1u1VZxu"
      },
      "outputs": [],
      "source": [
        "class PADIM():\n",
        "\n",
        "    def __init__(\n",
        "            self,\n",
        "            backbone: str,\n",
        "            device: torch.device,\n",
        "            save_path: Path,\n",
        "            backbone_features_idx: torch.Tensor,\n",
        "            class_names: List[str] = [\"bottle\"],\n",
        "            plot_metrics: bool = False,\n",
        "    ) -> None:\n",
        "        self.arch = backbone\n",
        "        self.device = device\n",
        "        self.model = get_feature_extractor(backbone)\n",
        "        self.model.to(device)\n",
        "        self.model.eval()\n",
        "\n",
        "        self.feature_subset_indices = backbone_features_idx\n",
        "        self.feature_subset_indices.to(device)\n",
        "\n",
        "        self.outputs: Dict[str, torch.Tensor] = {}\n",
        "\n",
        "        self.class_names = class_names\n",
        "        self.save_path = save_path\n",
        "        self.plot_metrics = plot_metrics\n",
        "\n",
        "        self.setup_hooks()\n",
        "        (self.save_path / f'temp_{self.arch}').mkdir(parents=True, exist_ok=True)\n",
        "\n",
        "        self.mean: FloatNDArray  # shape (C, H * W)\n",
        "        self.cov: FloatNDArray  # shape (C, C, H * W)\n",
        "\n",
        "    def setup_hooks(self):\n",
        "        \"\"\"Setup hooks to store model's intermediate outputs.\"\"\"\n",
        "        self.model.layer1[-1].register_forward_hook(lambda _, __, x: self.outputs.update({'layer1': x}))\n",
        "        self.model.layer2[-1].register_forward_hook(lambda _, __, x: self.outputs.update({'layer2': x}))\n",
        "        self.model.layer3[-1].register_forward_hook(lambda _, __, x: self.outputs.update({'layer3': x}))\n",
        "\n",
        "    def train_and_test(self, train_dataloader: DataLoader, test_dataloader: DataLoader) -> float:\n",
        "        self.train(train_dataloader)\n",
        "        return self.test(test_dataloader)\n",
        "\n",
        "    def train(self, train_dataloader: DataLoader) -> None:\n",
        "        self.train_outputs: Dict[str, List[torch.Tensor]] = {'layer1': [], 'layer2': [], 'layer3': []}\n",
        "        for x, _, _ in tqdm(train_dataloader, desc='Feature extraction (train)'):\n",
        "            # Run model prediction.\n",
        "            with torch.no_grad():\n",
        "                _ = self.model(x.to(DEVICE))\n",
        "            # Get intermediate layer outputs.\n",
        "            assert list(self.outputs.keys())  == ['layer1', 'layer2', 'layer3'], list(self.outputs.keys())\n",
        "            for k, v in self.outputs.items():\n",
        "                self.train_outputs[k].append(v.cpu().detach())\n",
        "            # Reset hook outputs.\n",
        "            self.outputs = {}\n",
        "\n",
        "        embedding_vectors = concatenate_embeddings_from_all_layers(\n",
        "            {k: torch.cat(v, 0) for k, v in self.train_outputs.items()})\n",
        "        embedding_vectors_subset = torch.index_select(embedding_vectors, 1, self.feature_subset_indices.cpu())\n",
        "\n",
        "        self.mean, self.cov = self.estimate_multivariate_gaussian(embedding_vectors_subset)\n",
        "        del(self.train_outputs)\n",
        "\n",
        "    def estimate_multivariate_gaussian(self, embedding_vectors: torch.Tensor\n",
        "                                       ) -> Tuple[FloatNDArray, FloatNDArray]:\n",
        "        \"\"\"Calculates multivariate Gaussian distribution.\n",
        "\n",
        "        Takes embeddings of shape (N, C, H, W).\n",
        "        Returns (mean, covariance) of shape (C, H * W) and (C, C, H * W) respectively.\n",
        "        \"\"\"\n",
        "        B, C, H, W = embedding_vectors.size()\n",
        "        embedding_vectors = embedding_vectors.view(B, C, H * W)\n",
        "        mean = torch.mean(embedding_vectors, dim=0).numpy()\n",
        "        cov = torch.zeros(C, C, H * W).numpy()\n",
        "        I = np.identity(C)\n",
        "        for i in tqdm(range(H * W), desc=\"Covariance estimation\"):\n",
        "            cov[:, :, i] = np.cov(embedding_vectors[:, :, i].numpy(), rowvar=False) + 0.01 * I\n",
        "        return mean, cov\n",
        "\n",
        "    def test(self, test_dataloader: DataLoader) -> float:\n",
        "        self.test_outputs: Dict[str, List[torch.Tensor]] = {'layer1': [], 'layer2': [], 'layer3': []}\n",
        "        test_imgs: List[FloatNDArray] = []\n",
        "        gt_list: List[NDArray[Any]] = []\n",
        "        gt_mask_list: List[FloatNDArray] = []\n",
        "\n",
        "        # Extract test set features.\n",
        "        for x, y, mask in tqdm(test_dataloader, desc='Feature extraction (test)', disable=False):\n",
        "            x_shape = x.shape\n",
        "            test_imgs.extend(x.cpu().detach().numpy())\n",
        "            gt_list.extend(y.cpu().detach().numpy())\n",
        "            gt_mask_list.extend(mask.cpu().detach().numpy())\n",
        "            # Run model prediction.\n",
        "            with torch.no_grad():\n",
        "                _ = self.model(x.to(DEVICE))\n",
        "            # Get intermediate layer outputs.\n",
        "            assert list(self.outputs.keys())  == ['layer1', 'layer2', 'layer3']\n",
        "            for k, v in self.outputs.items():\n",
        "                self.test_outputs[k].append(v.cpu().detach())\n",
        "            # Reset hook outputs.\n",
        "            self.outputs = {}\n",
        "        gt_mask = np.asarray(gt_mask_list)  # shape (len(test_dataset), 1, H, W)\n",
        "\n",
        "        embedding_vectors = concatenate_embeddings_from_all_layers(\n",
        "            {k: torch.cat(v, 0) for k, v in self.test_outputs.items()})\n",
        "        # shape (len(test_dataset), len(feature_subset_indices), H1, W1)\n",
        "        embedding_vectors_subset = torch.index_select(embedding_vectors, 1, self.feature_subset_indices.cpu())\n",
        "\n",
        "        distances = self.calculate_distances(embedding_vectors_subset)\n",
        "        score_map = self.prepare_anomaly_map((x_shape[2], x_shape[3]), distances)\n",
        "\n",
        "        img_fpr, img_tpr, img_auroc = self.calculate_auroc_image_level(score_map, gt_list)\n",
        "        pxl_fpr, pxl_tpr, pxl_auroc = self.calculate_auroc_pixel_level(score_map, gt_mask)\n",
        "\n",
        "        if self.plot_metrics:\n",
        "            print(f'[TEST] Image AUROC: {img_auroc:.3f}')\n",
        "            print(f'[TEST] Pixel AUROC: {pxl_auroc:.3f}')\n",
        "            threshold = self.calculate_optimal_threshold(score_map, gt_mask)\n",
        "            self.plot_test_results_for_class(gt_mask_list, test_imgs, score_map, threshold, img_fpr, img_tpr, img_auroc, pxl_fpr, pxl_tpr, pxl_auroc)\n",
        "\n",
        "        return pxl_auroc\n",
        "\n",
        "    # TODO: Some of your code for Task 1 goes here. You can add more functions if needed, but use the ones below - we will use them for checking your solution.\n",
        "    def test_permutation_importance(self, val_dataloader: DataLoader, features_to_permute: List[int]) -> List[float]:\n",
        "        \"\"\"Runs a series of tests on `val_dataloader`.\n",
        "        Returns a list of pixelwise AUROCs, where the n-th element of the list is generated by testing the embeddings from `permute_feature(embeddings, features_to_permute[n]).\"\"\"\n",
        "        self.test_outputs: Dict[str, List[torch.Tensor]] = {'layer1': [], 'layer2': [], 'layer3': []}\n",
        "        test_imgs: List[FloatNDArray] = []\n",
        "        gt_list: List[NDArray[Any]] = []\n",
        "        gt_mask_list: List[FloatNDArray] = []\n",
        "\n",
        "        # Extract test set features.\n",
        "        for x, y, mask in tqdm(val_dataloader, desc='Feature extraction (test)', disable=False):\n",
        "            x_shape = x.shape\n",
        "            test_imgs.extend(x.cpu().detach().numpy())\n",
        "            gt_list.extend(y.cpu().detach().numpy())\n",
        "            gt_mask_list.extend(mask.cpu().detach().numpy())\n",
        "            # Run model prediction.\n",
        "            with torch.no_grad():\n",
        "                _ = self.model(x.to(DEVICE))\n",
        "            # Get intermediate layer outputs.\n",
        "            assert list(self.outputs.keys())  == ['layer1', 'layer2', 'layer3']\n",
        "            for k, v in self.outputs.items():\n",
        "                self.test_outputs[k].append(v.cpu().detach())\n",
        "            # Reset hook outputs.\n",
        "            self.outputs = {}\n",
        "        gt_mask = np.asarray(gt_mask_list)  # shape (len(test_dataset), 1, H, W)\n",
        "\n",
        "        embedding_vectors = concatenate_embeddings_from_all_layers(\n",
        "            {k: torch.cat(v, 0) for k, v in self.test_outputs.items()})\n",
        "        # shape (len(test_dataset), len(feature_subset_indices), H1, W1)\n",
        "        embedding_vectors_subset = torch.index_select(embedding_vectors, 1, self.feature_subset_indices.cpu())\n",
        "\n",
        "        pxl_auroc_list = []\n",
        "        for feature in tqdm(list(features_to_permute), desc=\"Scoring feature importance\"):\n",
        "            permuted_embedding_vecs = self.permute_feature(embedding_vectors_subset, feature)\n",
        "\n",
        "            distances = self.calculate_distances(permuted_embedding_vecs)\n",
        "            score_map = self.prepare_anomaly_map((x_shape[2], x_shape[3]), distances)\n",
        "\n",
        "            pxl_fpr, pxl_tpr, pxl_auroc = self.calculate_auroc_pixel_level(score_map, gt_mask)\n",
        "            pxl_auroc_list.append(pxl_auroc)\n",
        "\n",
        "        return pxl_auroc_list\n",
        "\n",
        "    def permute_feature(self, embedding_vectors_subset: torch.Tensor, number_of_feature_to_permute: int) -> torch.Tensor:\n",
        "        \"\"\"Permutes the embeddings.\n",
        "\n",
        "        Takes embeddings of shape (N, C, H, W) and feature number to permute.\n",
        "        Returns embeddings with the same shape. See the description of T1 for the details.\n",
        "        \"\"\"\n",
        "        tensor = embedding_vectors_subset.clone()\n",
        "        b, c, h, w = tensor.shape\n",
        "        perm_h = torch.randperm(h).to(tensor.device)\n",
        "        perm_w = torch.randperm(w).to(tensor.device)\n",
        "\n",
        "        tensor[:, number_of_feature_to_permute, :, :] = tensor[:, number_of_feature_to_permute, perm_h, :]\n",
        "        tensor[:, number_of_feature_to_permute, :, :] = tensor[:, number_of_feature_to_permute, :, perm_w]\n",
        "\n",
        "        return tensor\n",
        "\n",
        "    # TODO: End of your code for Task 1 (here)\n",
        "\n",
        "    def plot_test_results_for_class(self, gt_mask_list, test_imgs,\n",
        "                                    score_map, threshold: float,\n",
        "                                    img_fpr, img_tpr, img_auroc: float,\n",
        "                                    pxl_fpr, pxl_tpr, pxl_auroc: float):\n",
        "        _, ax = plt.subplots(1, 2, figsize=(8, 4))\n",
        "        ax[0].plot(img_fpr, img_tpr, label=f'Image AUROC: {img_auroc:.3f}')\n",
        "        ax[1].plot(pxl_fpr, pxl_tpr, label=f'Pixel AUROC: {pxl_auroc:.3f}')\n",
        "\n",
        "        save_dir = self.save_path / f'pictures_{self.arch}'\n",
        "        save_dir.mkdir(parents=True, exist_ok=True)\n",
        "        plot_fig(test_imgs, score_map, gt_mask_list,\n",
        "                 threshold, save_dir, \"\")\n",
        "\n",
        "    def calculate_auroc_image_level(self, score_map: FloatNDArray, gt_list: List[NDArray[Any]]) -> Tuple[FloatNDArray, FloatNDArray, float]:\n",
        "        \"\"\"Calculate image-level AUROC score.\"\"\"\n",
        "        img_scores = score_map.reshape(score_map.shape[0], -1).max(axis=1)\n",
        "        fpr, tpr, _ = roc_curve(gt_list, img_scores)  # false-positive-rates and true-positive-rates for consecutive thresholds (for plotting).\n",
        "        img_auroc = roc_auc_score(gt_list, img_scores)\n",
        "        return fpr, tpr, float(img_auroc)\n",
        "\n",
        "    def calculate_auroc_pixel_level(self, score_map: FloatNDArray, gt_mask: FloatNDArray) -> Tuple[FloatNDArray, FloatNDArray, float]:\n",
        "        \"\"\"Calculate per-pixel level AUROC.\"\"\"\n",
        "        assert score_map.shape == gt_mask.squeeze().shape, f\"{score_map.shape=}, {gt_mask.shape=}\"\n",
        "        fpr, tpr, _ = roc_curve(gt_mask.flatten(), score_map.flatten())\n",
        "        per_pixel_auroc = roc_auc_score(gt_mask.flatten(), score_map.flatten())\n",
        "        return fpr, tpr, float(per_pixel_auroc)\n",
        "\n",
        "    def calculate_optimal_threshold(self, score_map: FloatNDArray, gt_mask: FloatNDArray) -> float:\n",
        "        \"\"\"Calculate the optimal threshold with regard to F1 score.\"\"\"\n",
        "        assert score_map.shape == gt_mask.squeeze().shape\n",
        "        precision, recall, thresholds = precision_recall_curve(\n",
        "            gt_mask.flatten(), score_map.flatten())\n",
        "        a = 2 * precision * recall\n",
        "        b = precision + recall\n",
        "        f1 = np.divide(a, b, out=np.zeros_like(a), where=(b != 0))\n",
        "        threshold = thresholds[np.argmax(f1)]\n",
        "        return threshold\n",
        "\n",
        "    def calculate_distances(self, embedding_vectors: torch.Tensor) -> FloatNDArray:\n",
        "        \"\"\"Calculate Mahalanobis distance of each embedding vector from self.mean.\n",
        "\n",
        "        For embeddings of shape (N, C, H, W), returns shape (N, H, W).\n",
        "        \"\"\"\n",
        "        B, C, H, W = embedding_vectors.size()\n",
        "        embedding_vectors = embedding_vectors.view(B, C, H * W).numpy()\n",
        "        dist_list: List[List[np.float64]] = []\n",
        "        for i in range(H * W):\n",
        "            mean = self.mean[:, i]\n",
        "            conv_inv = np.linalg.inv(self.cov[:, :, i])\n",
        "            dist = [mahalanobis(sample[:, i], mean, conv_inv)\n",
        "                    for sample in embedding_vectors]\n",
        "            dist_list.append(dist)\n",
        "\n",
        "        return np.array(dist_list).transpose(1, 0).reshape(B, H, W)\n",
        "\n",
        "    def prepare_anomaly_map(self, shape: Tuple[int, int], distances: FloatNDArray) -> FloatNDArray:\n",
        "        \"\"\"Upsample distances to `shape`, apply Gaussian smoothing, and normalize to [0,1].\n",
        "\n",
        "        For distances of shape (N, H, W) and `shape` equal to (H2, W2), returns shape (N, H2, W2).\n",
        "        \"\"\"\n",
        "        dists = torch.Tensor(distances).unsqueeze(1)\n",
        "        shape = (dists.shape[0],) + shape\n",
        "        score_map = cast(FloatNDArray, F.interpolate(\n",
        "            dists, size=shape[2], mode='bilinear', align_corners=False).squeeze().numpy())\n",
        "        for i in range(score_map.shape[0]):\n",
        "            score_map[i] = gaussian_filter(score_map[i], sigma=4)\n",
        "\n",
        "        min_score, max_score = score_map.min(), score_map.max()\n",
        "        return (score_map - min_score) / (max_score - min_score + 1e-10)"
      ]
    },
    {
      "cell_type": "markdown",
      "metadata": {
        "id": "BufmMzabVZxu"
      },
      "source": [
        "### Let's see whether it works.\n",
        "Take a look to the `SAVE_PATH` to inspect the results."
      ]
    },
    {
      "cell_type": "code",
      "execution_count": 10,
      "metadata": {
        "id": "HlfOLsv3VZxv",
        "outputId": "b24cb2fe-87a7-43c3-a87b-df8355b3f44b"
      },
      "outputs": [
        {
          "name": "stdout",
          "output_type": "stream",
          "text": [
            "========== bottle\n"
          ]
        },
        {
          "name": "stderr",
          "output_type": "stream",
          "text": [
            "Feature extraction (train): 100%|██████████| 105/105 [00:07<00:00, 13.81it/s]\n",
            "Covariance estimation: 100%|██████████| 3136/3136 [00:00<00:00, 6449.88it/s]\n",
            "Feature extraction (test): 100%|██████████| 42/42 [00:03<00:00, 12.28it/s]\n"
          ]
        },
        {
          "name": "stdout",
          "output_type": "stream",
          "text": [
            "[TEST] Image AUROC: 0.998\n",
            "[TEST] Pixel AUROC: 0.981\n"
          ]
        },
        {
          "data": {
            "image/png": "[encoded data removed]",
            "text/plain": [
              "<Figure size 800x400 with 2 Axes>"
            ]
          },
          "metadata": {},
          "output_type": "display_data"
        }
      ],
      "source": [
        "seed_all(SEED)\n",
        "CLASS_NAMES = [\n",
        "            'bottle', #'metal_nut'\n",
        "            # 'cable', 'capsule', 'carpet', 'grid', 'hazelnut', 'leather',\n",
        "            # 'pill', 'screw', 'tile', 'toothbrush', 'transistor', 'wood', 'zipper'\n",
        "        ]\n",
        "BATCH_SIZE = 2\n",
        "RESIZE = 256 * 1\n",
        "CROP_SIZE = 224 * 1\n",
        "BACKBONE = \"resnet18\"\n",
        "NUMBER_OF_BACKBONE_FEATURES = 50\n",
        "MAX_NUMBER_OF_BACKBONE_FEATURES = 448\n",
        "\n",
        "run_timestamp = time.time()\n",
        "for class_name in CLASS_NAMES:\n",
        "    print('=' * 10, class_name)\n",
        "    SAVE_PATH = Path(f\"./results/{run_timestamp}/{class_name}\")\n",
        "\n",
        "    train_dataset = MVTecDataset(DATA_PATH, class_name=class_name, is_train=True, resize=RESIZE, cropsize=CROP_SIZE)\n",
        "    train_dataloader = DataLoader(train_dataset, batch_size=BATCH_SIZE, pin_memory=True)\n",
        "    test_dataset = MVTecDataset(DATA_PATH, class_name=class_name, is_train=False, resize=RESIZE, cropsize=CROP_SIZE)\n",
        "    test_dataloader = DataLoader(test_dataset, batch_size=BATCH_SIZE, pin_memory=True)\n",
        "\n",
        "    padim = PADIM(\n",
        "        backbone=BACKBONE,\n",
        "        device=DEVICE,\n",
        "        backbone_features_idx=sample_idx(NUMBER_OF_BACKBONE_FEATURES, MAX_NUMBER_OF_BACKBONE_FEATURES),\n",
        "        save_path=SAVE_PATH,\n",
        "        plot_metrics=True,\n",
        "    )\n",
        "\n",
        "    padim.train_and_test(\n",
        "        train_dataloader=train_dataloader,\n",
        "        test_dataloader=test_dataloader,\n",
        "    )"
      ]
    },
    {
      "cell_type": "markdown",
      "metadata": {
        "id": "XL00CE8iVZxw"
      },
      "source": [
        "# Task 1. Finding the right features (40%)\n",
        "\n",
        "The authors of the paper argue that it doesn't really matter how we choose a subset of features. Let's make some steps towards exploring whether it's true for three different classes (`bottle`, `transistor`, `metal_nut`).\n",
        "Design an experiment which will rank the ResNet18 features by its importance. To do so, we'll implement our variation of [permutation feature importance](https://scikit-learn.org/stable/modules/permutation_importance.html#outline-of-the-permutation-importance-algorithm) on a subset of features produced by the backbone.\n",
        "\n",
        "## 1.1 Preparing the data\n",
        "- Using the test dataset, create `val_dataloader` (every even sample from the original test dataset) and `test_dataloader` (every odd sample). `SubsetRandomSampler` might be handy here.\n",
        "- Then, create 3-fold cross validation-like process in which you'll train three PADIM models on the first 100 ResNet features in three equally sized subsets of train dataset in which you discard 1/3 of the data ($\\texttt{padim}_{k}\\texttt{.train}(\\texttt{train\\_dataloader}_k)$) (see below). Again, `SubsetRandomSampler` might be handy here.\n",
        "\n",
        "In other words, you should have:\n",
        "\n",
        "- for $k=0$, the first 10 images indexes from the train dataset we should train on are `[1, 2, 4, 5, 7, 8, 10, 11, 13, 14]`,\n",
        "- for $k=1$, that's `[0, 2, 3, 5, 6, 8, 9, 11, 12, 14]`,\n",
        "- and for $k=2$, that's `[0, 1, 3, 4, 6, 7, 9, 10, 12, 13]`.\n",
        "\n",
        "For val and train, you should have `[0, 2, 4, ...]` and `[1, 3, 5, ...]` respectively (from the test dataset).\n",
        "\n",
        "Don't worry about the sampling order.\n",
        "Use these names for DataLoaders `val_dataloader`, `test_dataloader`. For k-fold training, store dataloaders in `train_dataloaders: List[DataLoader]`, where each element represent different $k$.\n",
        "For each class, store the results in `dataloaders` dictionary (the variable is defined in the code below) - we will use this to check your solution.\n",
        "\n",
        "## 1.2 Calculating the importances\n",
        "- In a given fold, each $j$-th feature shall be ranked based on the pixel-wise AUROC difference between the output of that model ($s_{k} \\leftarrow \\texttt{padim}_{k}\\texttt{.test}(\\texttt{val\\_dataloader})$) and the output with the model with permuted $j$-th feature ($s_{k, j} \\leftarrow \\texttt{padim}_{k}\\texttt{.test\\_permutation\\_importance}(\\texttt{val\\_dataloader, features\\_to\\_permute=}[j])$). In practice you can pass all the numbers of features to permute (instead of 1-element list and do the loop inside the method. See also `test_permutation_importance` method stub above.\n",
        "- Implement `permute_feature` method as follows: given the tensor with embeddings with shape `[B, C, H, W]`, by permutation of the $j$-th feature we mean randomly swapped values for $C=j$. Although (ideally) the order of swapping shall be **different** for every image, we don't require you to strictly guarantee that you won't get the same permutation twice (what matters here is not using the same permutation for **every** sample - you can e.g. use distinct calls to a shuffling function for every sample). In other words, for every image $b$ and feature $j$ you need to shuffle the last two dimensions (marked as stars in `[b, j, *, *]`) in an (ideally) unique manner.\n",
        "- Then, calculate the mean importance $i$ averaged on these folds and plot weights importance for the class ($i_j \\leftarrow \\frac{1}{K} \\sum_{k} ( s_k -  s_{k, j} )$, where $K$ is the number of folds).\n",
        "- Append results in `results` dictionary, where keys are class names and values are the lists of averaged feature importances (from feature 0 to feature 99).\n",
        "\n",
        "## 1.3 Drawing conclusions\n",
        "\n",
        "- Finally, for every class train three models on the full training data and evaluate it on the `test_dataloader`. The first model shall use the first 10 features, the second shall use worst 10 features (in terms of feature importance), and the third shall contain the best 10 features.\n",
        "- Write your conclusions (with the things enlisted below in mind). Simply plotting charts or outputting logs without any comment doesn't qualify as an answer to a question.\n",
        "\n",
        "Note 1: Limit yourself to the first 100 features of ResNet18. If you want, you can go with all of available features instead of 100, but it'll take some time to calculate. Converting parts of the code to PyTorch and running on GPU might change a lot here, but this is not evaluated in this exercise. This experiment can be calculated without GPU in less than one hour anyway.\n",
        "\n",
        "Note 2: If you'd like to be fully covered, one needs to explore if the features are correlated, as this might bias the results of feature importance calculations. However, this is not evaluated in this task for the sake of simplicity (that is, examining the 100 first features without worrying about correlated features are enough to get 100% from this task)."
      ]
    },
    {
      "cell_type": "code",
      "execution_count": 30,
      "metadata": {
        "id": "LzYc9ExXVZxw"
      },
      "outputs": [],
      "source": [
        "# do not modify\n",
        "CLASS_NAMES = ['bottle'] # ['bottle', 'metal_nut', 'transistor'] \n",
        "\n",
        "BATCH_SIZE = 1\n",
        "RESIZE = 256 * 2 // 4\n",
        "CROP_SIZE = 224 * 2 // 4\n",
        "BACKBONE = \"resnet18\"\n",
        "NUMBER_OF_BACKBONE_FEATURES = 10\n",
        "MAX_NUMBER_OF_BACKBONE_FEATURES = 100  # 448\n",
        "folds = 3"
      ]
    },
    {
      "cell_type": "code",
      "execution_count": 31,
      "metadata": {
        "id": "3UHb3HymVZxx"
      },
      "outputs": [
        {
          "name": "stdout",
          "output_type": "stream",
          "text": [
            "1702820924.571866\n"
          ]
        }
      ],
      "source": [
        "seed_all(SEED)\n",
        "results = {c: [0] * MAX_NUMBER_OF_BACKBONE_FEATURES for c in CLASS_NAMES}\n",
        "\n",
        "run_timestamp = time.time()\n",
        "print(f\"{run_timestamp}\")\n",
        "\n",
        "idx_all_fatures = torch.Tensor(range(MAX_NUMBER_OF_BACKBONE_FEATURES)).int()\n",
        "idx_first_n_features = torch.Tensor(range(NUMBER_OF_BACKBONE_FEATURES)).int()\n",
        "\n",
        "dataloaders = {c: {\"val_dataloader\": None, \"test_dataloader\": None, \"train_dataloaders\": None} for c in CLASS_NAMES}\n",
        "\n",
        "# TODO: Your code for T1.1, T1.2, and T1.3 goes below. Don't forget to write `test_permutation_importance` and `permute_feature` above in the PADIM code."
      ]
    },
    {
      "cell_type": "code",
      "execution_count": 32,
      "metadata": {},
      "outputs": [
        {
          "name": "stdout",
          "output_type": "stream",
          "text": [
            "[tensor(0, dtype=torch.int32), tensor(1, dtype=torch.int32), tensor(2, dtype=torch.int32), tensor(3, dtype=torch.int32), tensor(4, dtype=torch.int32), tensor(5, dtype=torch.int32), tensor(6, dtype=torch.int32), tensor(7, dtype=torch.int32), tensor(8, dtype=torch.int32), tensor(9, dtype=torch.int32), tensor(10, dtype=torch.int32), tensor(11, dtype=torch.int32), tensor(12, dtype=torch.int32), tensor(13, dtype=torch.int32), tensor(14, dtype=torch.int32), tensor(15, dtype=torch.int32), tensor(16, dtype=torch.int32), tensor(17, dtype=torch.int32), tensor(18, dtype=torch.int32), tensor(19, dtype=torch.int32), tensor(20, dtype=torch.int32), tensor(21, dtype=torch.int32), tensor(22, dtype=torch.int32), tensor(23, dtype=torch.int32), tensor(24, dtype=torch.int32), tensor(25, dtype=torch.int32), tensor(26, dtype=torch.int32), tensor(27, dtype=torch.int32), tensor(28, dtype=torch.int32), tensor(29, dtype=torch.int32), tensor(30, dtype=torch.int32), tensor(31, dtype=torch.int32), tensor(32, dtype=torch.int32), tensor(33, dtype=torch.int32), tensor(34, dtype=torch.int32), tensor(35, dtype=torch.int32), tensor(36, dtype=torch.int32), tensor(37, dtype=torch.int32), tensor(38, dtype=torch.int32), tensor(39, dtype=torch.int32), tensor(40, dtype=torch.int32), tensor(41, dtype=torch.int32), tensor(42, dtype=torch.int32), tensor(43, dtype=torch.int32), tensor(44, dtype=torch.int32), tensor(45, dtype=torch.int32), tensor(46, dtype=torch.int32), tensor(47, dtype=torch.int32), tensor(48, dtype=torch.int32), tensor(49, dtype=torch.int32), tensor(50, dtype=torch.int32), tensor(51, dtype=torch.int32), tensor(52, dtype=torch.int32), tensor(53, dtype=torch.int32), tensor(54, dtype=torch.int32), tensor(55, dtype=torch.int32), tensor(56, dtype=torch.int32), tensor(57, dtype=torch.int32), tensor(58, dtype=torch.int32), tensor(59, dtype=torch.int32), tensor(60, dtype=torch.int32), tensor(61, dtype=torch.int32), tensor(62, dtype=torch.int32), tensor(63, dtype=torch.int32), tensor(64, dtype=torch.int32), tensor(65, dtype=torch.int32), tensor(66, dtype=torch.int32), tensor(67, dtype=torch.int32), tensor(68, dtype=torch.int32), tensor(69, dtype=torch.int32), tensor(70, dtype=torch.int32), tensor(71, dtype=torch.int32), tensor(72, dtype=torch.int32), tensor(73, dtype=torch.int32), tensor(74, dtype=torch.int32), tensor(75, dtype=torch.int32), tensor(76, dtype=torch.int32), tensor(77, dtype=torch.int32), tensor(78, dtype=torch.int32), tensor(79, dtype=torch.int32), tensor(80, dtype=torch.int32), tensor(81, dtype=torch.int32), tensor(82, dtype=torch.int32), tensor(83, dtype=torch.int32), tensor(84, dtype=torch.int32), tensor(85, dtype=torch.int32), tensor(86, dtype=torch.int32), tensor(87, dtype=torch.int32), tensor(88, dtype=torch.int32), tensor(89, dtype=torch.int32), tensor(90, dtype=torch.int32), tensor(91, dtype=torch.int32), tensor(92, dtype=torch.int32), tensor(93, dtype=torch.int32), tensor(94, dtype=torch.int32), tensor(95, dtype=torch.int32), tensor(96, dtype=torch.int32), tensor(97, dtype=torch.int32), tensor(98, dtype=torch.int32), tensor(99, dtype=torch.int32)]\n"
          ]
        }
      ],
      "source": [
        "print(list(idx_all_fatures))"
      ]
    },
    {
      "cell_type": "code",
      "execution_count": 33,
      "metadata": {},
      "outputs": [],
      "source": [
        "# T1.1\n",
        "from torch.utils.data import SubsetRandomSampler\n",
        "\n",
        "\n",
        "for class_name in CLASS_NAMES:\n",
        "    test_dataset = MVTecDataset(DATA_PATH, class_name=class_name, is_train=False, resize=RESIZE, cropsize=CROP_SIZE)\n",
        "    train_dataset = MVTecDataset(DATA_PATH, class_name=class_name, is_train=True, resize=RESIZE, cropsize=CROP_SIZE)\n",
        "    \n",
        "    odd_indices = list(range(len(test_dataset)))[::2]\n",
        "    even_indices = list(range(len(test_dataset)))[1::2]\n",
        "\n",
        "    val_dataloader = DataLoader(test_dataset, batch_size=BATCH_SIZE, pin_memory=True, \n",
        "                                sampler=SubsetRandomSampler(even_indices))\n",
        "    test_dataloader = DataLoader(test_dataset, batch_size=BATCH_SIZE, pin_memory=True,\n",
        "                                sampler=SubsetRandomSampler(odd_indices))\n",
        "    \n",
        "    train_dataloaders = []\n",
        "    for fold in range(folds):\n",
        "        train_indices = [idx for idx in list(range(len(train_dataset))) if idx % folds != fold]\n",
        "        train_dataloader = DataLoader(train_dataset, batch_size=BATCH_SIZE, pin_memory=True,\n",
        "                                    sampler=SubsetRandomSampler(train_indices))\n",
        "        train_dataloaders.append(train_dataloader)\n",
        "\n",
        "    dataloaders[class_name] = {\"val_dataloader\": val_dataloader, \"test_dataloader\": test_dataloader, \"train_dataloaders\": train_dataloaders}"
      ]
    },
    {
      "cell_type": "code",
      "execution_count": 36,
      "metadata": {},
      "outputs": [
        {
          "name": "stdout",
          "output_type": "stream",
          "text": [
            "========== bottle\n",
            "Fold: 0\n"
          ]
        },
        {
          "name": "stderr",
          "output_type": "stream",
          "text": [
            "Feature extraction (train): 100%|██████████| 139/139 [00:04<00:00, 28.37it/s]\n",
            "Covariance estimation: 100%|██████████| 784/784 [00:00<00:00, 5434.00it/s]\n",
            "Feature extraction (test): 100%|██████████| 41/41 [00:01<00:00, 25.51it/s]\n",
            "Feature extraction (test): 100%|██████████| 41/41 [00:01<00:00, 27.19it/s]\n",
            "100%|██████████| 100/100 [01:53<00:00,  1.13s/it]\n"
          ]
        },
        {
          "name": "stdout",
          "output_type": "stream",
          "text": [
            "Fold: 1\n"
          ]
        },
        {
          "name": "stderr",
          "output_type": "stream",
          "text": [
            "Feature extraction (train): 100%|██████████| 139/139 [00:04<00:00, 28.01it/s]\n",
            "Covariance estimation: 100%|██████████| 784/784 [00:00<00:00, 5509.07it/s]\n",
            "Feature extraction (test): 100%|██████████| 41/41 [00:01<00:00, 24.05it/s]\n",
            "Feature extraction (test): 100%|██████████| 41/41 [00:01<00:00, 25.38it/s]\n",
            "100%|██████████| 100/100 [02:40<00:00,  1.61s/it]\n"
          ]
        },
        {
          "name": "stdout",
          "output_type": "stream",
          "text": [
            "Fold: 2\n"
          ]
        },
        {
          "name": "stderr",
          "output_type": "stream",
          "text": [
            "Feature extraction (train): 100%|██████████| 140/140 [00:04<00:00, 28.39it/s]\n",
            "Covariance estimation: 100%|██████████| 784/784 [00:00<00:00, 5043.26it/s]\n",
            "Feature extraction (test): 100%|██████████| 41/41 [00:01<00:00, 25.49it/s]\n",
            "Feature extraction (test): 100%|██████████| 41/41 [00:01<00:00, 26.51it/s]\n",
            "100%|██████████| 100/100 [01:47<00:00,  1.08s/it]\n"
          ]
        }
      ],
      "source": [
        "# T1.2\n",
        "\n",
        "for class_name in CLASS_NAMES:\n",
        "    print('=' * 10, class_name)\n",
        "    val_dataloader = dataloaders[class_name][\"val_dataloader\"]\n",
        "    test_dataloader = dataloaders[class_name][\"test_dataloader\"]\n",
        "    train_dataloaders = dataloaders[class_name][\"train_dataloaders\"]\n",
        "\n",
        "    for fold in range(folds):\n",
        "        print(f\"Fold: {fold}\")\n",
        "        padim_k = PADIM(\n",
        "            backbone=BACKBONE,\n",
        "            device=DEVICE,\n",
        "            backbone_features_idx=idx_all_fatures,\n",
        "            save_path=SAVE_PATH,\n",
        "            plot_metrics=False,\n",
        "        )\n",
        "        padim_k.train(train_dataloaders[fold])\n",
        "        features_to_permute = list(range(MAX_NUMBER_OF_BACKBONE_FEATURES))\n",
        "        score_k = padim_k.test(val_dataloader)\n",
        "        score_k_j_list = padim_k.test_permutation_importance(val_dataloader, features_to_permute)\n",
        "        \n",
        "        for j in range(MAX_NUMBER_OF_BACKBONE_FEATURES):\n",
        "            results[class_name][j] += (score_k - score_k_j_list[j]) / folds"
      ]
    },
    {
      "cell_type": "code",
      "execution_count": 37,
      "metadata": {},
      "outputs": [
        {
          "name": "stdout",
          "output_type": "stream",
          "text": [
            "========== bottle\n",
            "========== first_10_features\n"
          ]
        },
        {
          "name": "stderr",
          "output_type": "stream",
          "text": [
            "Feature extraction (train): 100%|██████████| 209/209 [00:07<00:00, 28.17it/s]\n",
            "Covariance estimation: 100%|██████████| 784/784 [00:00<00:00, 40468.32it/s]\n",
            "Feature extraction (test): 100%|██████████| 42/42 [00:01<00:00, 26.65it/s]\n"
          ]
        },
        {
          "name": "stdout",
          "output_type": "stream",
          "text": [
            "[TEST] Image AUROC: 1.000\n",
            "[TEST] Pixel AUROC: 0.975\n",
            "========== most_important_features\n"
          ]
        },
        {
          "name": "stderr",
          "output_type": "stream",
          "text": [
            "Feature extraction (train): 100%|██████████| 209/209 [00:07<00:00, 29.12it/s]\n",
            "Covariance estimation: 100%|██████████| 784/784 [00:00<00:00, 40147.17it/s]\n",
            "Feature extraction (test): 100%|██████████| 42/42 [00:01<00:00, 26.47it/s]\n"
          ]
        },
        {
          "name": "stdout",
          "output_type": "stream",
          "text": [
            "[TEST] Image AUROC: 0.997\n",
            "[TEST] Pixel AUROC: 0.974\n",
            "========== least_important_features\n"
          ]
        },
        {
          "name": "stderr",
          "output_type": "stream",
          "text": [
            "Feature extraction (train): 100%|██████████| 209/209 [00:07<00:00, 28.51it/s]\n",
            "Covariance estimation: 100%|██████████| 784/784 [00:00<00:00, 40555.16it/s]\n",
            "Feature extraction (test): 100%|██████████| 42/42 [00:01<00:00, 26.69it/s]\n"
          ]
        },
        {
          "name": "stdout",
          "output_type": "stream",
          "text": [
            "[TEST] Image AUROC: 1.000\n",
            "[TEST] Pixel AUROC: 0.969\n"
          ]
        },
        {
          "data": {
            "image/png": "[encoded data removed]",
            "text/plain": [
              "<Figure size 800x400 with 2 Axes>"
            ]
          },
          "metadata": {},
          "output_type": "display_data"
        },
        {
          "data": {
            "image/png": "[encoded data removed]",
            "text/plain": [
              "<Figure size 800x400 with 2 Axes>"
            ]
          },
          "metadata": {},
          "output_type": "display_data"
        },
        {
          "data": {
            "image/png": "[encoded data removed]",
            "text/plain": [
              "<Figure size 800x400 with 2 Axes>"
            ]
          },
          "metadata": {},
          "output_type": "display_data"
        }
      ],
      "source": [
        "# T1.3\n",
        "\n",
        "for class_name in CLASS_NAMES:\n",
        "    print('=' * 10, class_name)\n",
        "    train_dataset = MVTecDataset(DATA_PATH, class_name=class_name, is_train=True, resize=RESIZE, cropsize=CROP_SIZE)\n",
        "    train_dataloader = DataLoader(train_dataset, batch_size=BATCH_SIZE, pin_memory=True)\n",
        "\n",
        "    feature_importance = results[class_name]\n",
        "    sorted_f_imp_idx = sorted(enumerate(feature_importance), key=lambda x: x[1], reverse=True)\n",
        "\n",
        "    feature_sets = {\n",
        "        \"first_10_features\" : list(range(10)),\n",
        "        \"most_important_features\" : [index for index, number in sorted_f_imp_idx[:10]],\n",
        "        \"least_important_features\" : [index for index, number in sorted_f_imp_idx[-10:]],\n",
        "    } \n",
        "\n",
        "    for feature_set_name, feature_set in feature_sets.items():\n",
        "        print(\"=\" * 10, feature_set_name)\n",
        "        padim = PADIM(\n",
        "            backbone=BACKBONE,\n",
        "            device=DEVICE,\n",
        "            backbone_features_idx=torch.Tensor(feature_set).int(),\n",
        "            save_path=SAVE_PATH,\n",
        "            plot_metrics=True,\n",
        "        )\n",
        "\n",
        "        padim.train_and_test(train_dataloader, dataloaders[class_name][\"test_dataloader\"])\n",
        "\n",
        "\n"
      ]
    },
    {
      "cell_type": "markdown",
      "metadata": {},
      "source": [
        "### T1.3.: Thoughts and conclusion\n",
        "\n",
        "Our results indicate that specific choice of features doesn't seem to matter in the grand picture. My hypothesis is that resNet tries to encode the most important data through the consecutive layers and thus no matter from which layer we would choose our features the information relevant for classification is still encoded in them. "
      ]
    },
    {
      "cell_type": "code",
      "execution_count": 38,
      "metadata": {
        "id": "za2w3WO3VZxx"
      },
      "outputs": [
        {
          "name": "stdout",
          "output_type": "stream",
          "text": [
            "[44, 95, 87, 60, 10, 51, 14, 25, 21, 57]\n",
            "[83, 62, 96, 64, 68, 45, 84, 91, 67, 35]\n",
            "[1, 3, 5, 7, 9, 11, 13, 15, 17, 19, 21, 23, 25, 27, 29, 31, 33, 35, 37, 39, 41, 43, 45, 47, 49, 51, 53, 55, 57, 59, 61, 63, 65, 67, 69, 71, 73, 75, 77, 79, 81]\n",
            "[0, 2, 4, 6, 8, 10, 12, 14, 16, 18, 20, 22, 24, 26, 28, 30, 32, 34, 36, 38, 40, 42, 44, 46, 48, 50, 52, 54, 56, 58, 60, 62, 64, 66, 68, 70, 72, 74, 76, 78, 80, 82]\n",
            "[1, 2, 4, 5, 7, 8, 10, 11, 13, 14, 16, 17, 19, 20, 22, 23, 25, 26, 28, 29, 31, 32, 34, 35, 37, 38, 40, 41, 43, 44, 46, 47, 49, 50, 52, 53, 55, 56, 58, 59, 61, 62, 64, 65, 67, 68, 70, 71, 73, 74, 76, 77, 79, 80, 82, 83, 85, 86, 88, 89, 91, 92, 94, 95, 97, 98, 100, 101, 103, 104, 106, 107, 109, 110, 112, 113, 115, 116, 118, 119, 121, 122, 124, 125, 127, 128, 130, 131, 133, 134, 136, 137, 139, 140, 142, 143, 145, 146, 148, 149, 151, 152, 154, 155, 157, 158, 160, 161, 163, 164, 166, 167, 169, 170, 172, 173, 175, 176, 178, 179, 181, 182, 184, 185, 187, 188, 190, 191, 193, 194, 196, 197, 199, 200, 202, 203, 205, 206, 208]\n",
            "[0, 2, 3, 5, 6, 8, 9, 11, 12, 14, 15, 17, 18, 20, 21, 23, 24, 26, 27, 29, 30, 32, 33, 35, 36, 38, 39, 41, 42, 44, 45, 47, 48, 50, 51, 53, 54, 56, 57, 59, 60, 62, 63, 65, 66, 68, 69, 71, 72, 74, 75, 77, 78, 80, 81, 83, 84, 86, 87, 89, 90, 92, 93, 95, 96, 98, 99, 101, 102, 104, 105, 107, 108, 110, 111, 113, 114, 116, 117, 119, 120, 122, 123, 125, 126, 128, 129, 131, 132, 134, 135, 137, 138, 140, 141, 143, 144, 146, 147, 149, 150, 152, 153, 155, 156, 158, 159, 161, 162, 164, 165, 167, 168, 170, 171, 173, 174, 176, 177, 179, 180, 182, 183, 185, 186, 188, 189, 191, 192, 194, 195, 197, 198, 200, 201, 203, 204, 206, 207]\n",
            "[0, 1, 3, 4, 6, 7, 9, 10, 12, 13, 15, 16, 18, 19, 21, 22, 24, 25, 27, 28, 30, 31, 33, 34, 36, 37, 39, 40, 42, 43, 45, 46, 48, 49, 51, 52, 54, 55, 57, 58, 60, 61, 63, 64, 66, 67, 69, 70, 72, 73, 75, 76, 78, 79, 81, 82, 84, 85, 87, 88, 90, 91, 93, 94, 96, 97, 99, 100, 102, 103, 105, 106, 108, 109, 111, 112, 114, 115, 117, 118, 120, 121, 123, 124, 126, 127, 129, 130, 132, 133, 135, 136, 138, 139, 141, 142, 144, 145, 147, 148, 150, 151, 153, 154, 156, 157, 159, 160, 162, 163, 165, 166, 168, 169, 171, 172, 174, 175, 177, 178, 180, 181, 183, 184, 186, 187, 189, 190, 192, 193, 195, 196, 198, 199, 201, 202, 204, 205, 207, 208]\n"
          ]
        }
      ],
      "source": [
        "# Run at the end, but do not modify - we will use this to asses your output.\n",
        "for c in CLASS_NAMES:\n",
        "    s = pd.Series(results[c])\n",
        "    print(s.sort_values(ascending=False)[:10].index.tolist())\n",
        "    print(s.sort_values(ascending=True)[:10].index.tolist())\n",
        "\n",
        "def get_sorted_indices(loader):\n",
        "    loader.dataset.return_only_indices = True\n",
        "    indices = sorted([x.item() for x in loader])\n",
        "    loader.dataset.return_only_indices = False\n",
        "    return indices\n",
        "\n",
        "for c in CLASS_NAMES:\n",
        "    print(get_sorted_indices(dataloaders[c][\"val_dataloader\"]))\n",
        "    print(get_sorted_indices(dataloaders[c][\"test_dataloader\"]))\n",
        "    for v in dataloaders[c][\"train_dataloaders\"]:\n",
        "        print(get_sorted_indices(v))"
      ]
    },
    {
      "cell_type": "markdown",
      "metadata": {
        "id": "5qtn9ylbVZxx"
      },
      "source": [
        "# Task 2. Improving PADIM with Online Covariance Estimation\n",
        "\n",
        "This implementation of PADIM can be improved in numerous ways. In this exercise, you'll try to indicate its shortcomings and provide some means to mitigate them.\n",
        "\n",
        "#### 2.1. PADIM's training complexity (15%)\n",
        "\n",
        "- Identify the key operations contributing to the algorithm's training space complexity *in this implementation*. Don't focus on the backbone, as it is not the part of the algorithm (however, its output is).\n",
        "- Shortly discuss the implications for scalability. You can support your claims by charts if needed.\n",
        "\n",
        "*Hint: this doesn't need to be super formal analysis - it's about fiding the \"worst\" parts of this implementation. You can support your claims with a chart and brief description (e.g. \"X dominates the complexity, as it's quadratic.\")*"
      ]
    },
    {
      "cell_type": "markdown",
      "metadata": {
        "id": "qdODnlnsVZxx"
      },
      "source": [
        "```Your answer to task 2.1 goes here```"
      ]
    },
    {
      "cell_type": "code",
      "execution_count": null,
      "metadata": {
        "id": "fD9esI1fVZxx"
      },
      "outputs": [],
      "source": [
        "# Your code goes here (if needed)"
      ]
    },
    {
      "cell_type": "markdown",
      "metadata": {
        "id": "by7h9sp3VZxx"
      },
      "source": [
        "#### 2.2 Online mean and covariance (35%)\n",
        "Implement a PyTorch version of [online covariance matrix estimation](https://en.wikipedia.org/wiki/Algorithms_for_calculating_variance#Online) in the training as an alternative to the current method in PADIM.\n",
        "Calculate the mean in an online fashion as well.\n",
        "Your implementation shall run on the selected `torch.device` (such as GPU).\n",
        "No need to reimplement the testing routine to online in this exercise (although it'd be nice to have for Task 1), albeit small changes might be necessary (such as conversion from `torch.Tensor` to `np.ndarray`).\n",
        "\n",
        "Passing criteria:\n",
        "```python\n",
        "torch.allclose(padim_online.mean, torch.Tensor(padim_offline.mean).to(DEVICE), atol=0.01)\n",
        "torch.allclose(padim_online.cov, torch.Tensor(padim_offline.cov).to(DEVICE), atol=0.01)\n",
        "```\n"
      ]
    },
    {
      "cell_type": "code",
      "execution_count": null,
      "metadata": {
        "id": "E-1wMyouVZxx"
      },
      "outputs": [],
      "source": [
        "class PADIMWithOnlineCovariance(PADIM):\n",
        "\n",
        "    ### TODO: Your code goes here\n",
        "    def __init__(\n",
        "            self,\n",
        "            backbone: str,\n",
        "            device: torch.device,\n",
        "            save_path: Path,\n",
        "            backbone_features_idx: List[int],\n",
        "            class_names=...,\n",
        "            plot_metrics=False,\n",
        "            ) -> None:\n",
        "        super().__init__(backbone, device, save_path, backbone_features_idx, class_names, plot_metrics)\n",
        "\n",
        "    def train(self, train_dataloader: DataLoader, C: int, H: int, W: int):\n",
        "        \"\"\"C, H, W come from the size of embeddings: [B, C, H, W]\"\"\"\n",
        "        pass\n",
        "\n",
        "    ### END OF YOUR CODE\n"
      ]
    },
    {
      "cell_type": "code",
      "execution_count": null,
      "metadata": {
        "id": "7TT0JEi5VZxx"
      },
      "outputs": [],
      "source": [
        "# do not modify\n",
        "seed_all(SEED)\n",
        "class_name = 'bottle'\n",
        "BATCH_SIZE = 1\n",
        "RESIZE = 256 * 1\n",
        "CROP_SIZE = 224 * 1\n",
        "BACKBONE = \"resnet18\"\n",
        "NUMBER_OF_BACKBONE_FEATURES = 30\n",
        "MAX_NUMBER_OF_BACKBONE_FEATURES = 448\n",
        "# DEVICE=\"cpu\"\n",
        "\n",
        "indices = sample_idx(NUMBER_OF_BACKBONE_FEATURES, MAX_NUMBER_OF_BACKBONE_FEATURES).to(DEVICE)\n",
        "\n",
        "run_timestamp = time.time()\n",
        "SAVE_PATH = Path(f\"./results/{run_timestamp}/{class_name}\")\n",
        "\n",
        "train_dataset = MVTecDataset(DATA_PATH, class_name=class_name, is_train=True, resize=RESIZE, cropsize=CROP_SIZE)\n",
        "train_dataloader = DataLoader(train_dataset, batch_size=BATCH_SIZE, pin_memory=True)\n",
        "test_dataset = MVTecDataset(DATA_PATH, class_name=class_name, is_train=False, resize=RESIZE, cropsize=CROP_SIZE)\n",
        "val_dataloader = DataLoader(test_dataset, batch_size=BATCH_SIZE, pin_memory=True)\n",
        "\n",
        "\n",
        "padim_offline = PADIM(\n",
        "    backbone=BACKBONE,\n",
        "    device=DEVICE,\n",
        "    backbone_features_idx=indices,\n",
        "    save_path=SAVE_PATH,\n",
        "    plot_metrics=True,\n",
        ")\n",
        "padim_offline.train(train_dataloader)\n",
        "\n",
        "padim_online = PADIMWithOnlineCovariance(\n",
        "    backbone=BACKBONE,\n",
        "    device=DEVICE,\n",
        "    backbone_features_idx=indices,\n",
        "    save_path=SAVE_PATH,\n",
        "    plot_metrics=True,\n",
        ")\n",
        "padim_online.train(train_dataloader, NUMBER_OF_BACKBONE_FEATURES, int(CROP_SIZE/4), int(CROP_SIZE/4))\n",
        "\n",
        "torch.allclose(padim_online.mean, torch.Tensor(padim_offline.mean).to(DEVICE), atol=0.01) and torch.allclose(padim_online.cov, torch.Tensor(padim_offline.cov).to(DEVICE), atol=0.01)"
      ]
    },
    {
      "cell_type": "markdown",
      "metadata": {
        "id": "cQEY2gVfVZxx"
      },
      "source": [
        "#### 2.3 Performance experiments (10%)\n",
        "If you completed task 2.2, design experiments to empirically compare `space/memory` performance of PADIM training with both traditional and online covariance matrix estimation. Write short conclusions.\n",
        "\n",
        "#### 2.4 Bonus task (optional)\n",
        "You can also add similar experiments with conclusions with regard to the `time` complexity. This task is optional, but if you'll loose points elsewhere, this can help you to make up for some of them."
      ]
    },
    {
      "cell_type": "code",
      "execution_count": null,
      "metadata": {
        "id": "iYH9l98tVZxy"
      },
      "outputs": [],
      "source": [
        "# Your code goes here"
      ]
    },
    {
      "cell_type": "markdown",
      "metadata": {
        "id": "iKuh7U-oVZxy"
      },
      "source": [
        "```Your conclusions go here```"
      ]
    }
  ],
  "metadata": {
    "colab": {
      "provenance": []
    },
    "kernelspec": {
      "display_name": "ml-teaching",
      "language": "python",
      "name": "python3"
    },
    "language_info": {
      "codemirror_mode": {
        "name": "ipython",
        "version": 3
      },
      "file_extension": ".py",
      "mimetype": "text/x-python",
      "name": "python",
      "nbconvert_exporter": "python",
      "pygments_lexer": "ipython3",
      "version": "3.11.6"
    }
  },
  "nbformat": 4,
  "nbformat_minor": 0
}
