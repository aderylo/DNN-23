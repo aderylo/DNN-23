{
  "cells": [
    {
      "cell_type": "markdown",
      "metadata": {
        "id": "ewQyT01qldxD",
        "jukit_cell_id": "KE8mdQxOzy"
      },
      "source": [
        "<center><img src='https://drive.google.com/uc?id=1_utx_ZGclmCwNttSe40kYA6VHzNocdET' height=\"60\"></center>\n",
        "\n",
        "AI TECH - Akademia Innowacyjnych Zastosowań Technologii Cyfrowych. Program Operacyjny Polska Cyfrowa na lata 2014-2020\n",
        "<hr>\n",
        "\n",
        "<center><img src='https://drive.google.com/uc?id=1BXZ0u3562N_MqCLcekI-Ens77Kk4LpPm'></center>\n",
        "\n",
        "<center>\n",
        "Projekt współfinansowany ze środków Unii Europejskiej w ramach Europejskiego Funduszu Rozwoju Regionalnego\n",
        "Program Operacyjny Polska Cyfrowa na lata 2014-2020,\n",
        "Oś Priorytetowa nr 3 \"Cyfrowe kompetencje społeczeństwa\" Działanie  nr 3.2 \"Innowacyjne rozwiązania na rzecz aktywizacji cyfrowej\"\n",
        "Tytuł projektu:  „Akademia Innowacyjnych Zastosowań Technologii Cyfrowych (AI Tech)”\n",
        "    </center>"
      ]
    },
    {
      "cell_type": "markdown",
      "metadata": {
        "id": "dH6S4Q3eldxE",
        "jukit_cell_id": "oJh0BINGcc"
      },
      "source": [
        "# TL;DR\n",
        "\n",
        "1. In this lab scenario you will have a chance to compare performance of the classic RNN and LSTM on a toy example.\n",
        "2. This toy example will show that maintaining memory over even 20 steps is non-trivial.\n",
        "3. Finally, you will see how curriculum learning may allow to train a model on larger sequences.\n",
        "\n",
        "# Problem definition\n",
        "\n",
        "Here we consider a toy example, where the goal is to discriminate between two types of binary sequences:\n",
        "* [Type 0] a sequence with exactly one zero (remaining entries are equal to one).\n",
        "* [Type 1] a sequence full of ones,\n",
        "\n",
        "We are especially interested in the performance of the trained models on discriminating between a sequence full of ones versus a sequence with leading zero followed by ones. Note that in this case the goal of the model is to output the first element of the sequence, as the label (sequence type) is fully determined by the first element of the sequence."
      ]
    },
    {
      "cell_type": "markdown",
      "metadata": {
        "id": "RQCdAiDEldxE",
        "jukit_cell_id": "wtfph2WpCZ"
      },
      "source": [
        "#Implementation"
      ]
    },
    {
      "cell_type": "markdown",
      "metadata": {
        "id": "8qAHYwf2ldxE",
        "jukit_cell_id": "cx7ozEWkZg"
      },
      "source": [
        "## Importing torch\n",
        "\n",
        "Install `torch` and `torchvision`"
      ]
    },
    {
      "cell_type": "code",
      "execution_count": 1,
      "metadata": {
        "id": "35_ui2i7ldxF",
        "jukit_cell_id": "CQdcvU4fiD"
      },
      "outputs": [
        {
          "name": "stdout",
          "output_type": "stream",
          "text": [
            "Requirement already satisfied: torch in /Users/aderylo/work/dnn/.venv/lib/python3.11/site-packages (2.1.0)\n",
            "Requirement already satisfied: torchvision in /Users/aderylo/work/dnn/.venv/lib/python3.11/site-packages (0.16.0)\n",
            "Requirement already satisfied: filelock in /Users/aderylo/work/dnn/.venv/lib/python3.11/site-packages (from torch) (3.13.1)\n",
            "Requirement already satisfied: typing-extensions in /Users/aderylo/work/dnn/.venv/lib/python3.11/site-packages (from torch) (4.8.0)\n",
            "Requirement already satisfied: sympy in /Users/aderylo/work/dnn/.venv/lib/python3.11/site-packages (from torch) (1.12)\n",
            "Requirement already satisfied: networkx in /Users/aderylo/work/dnn/.venv/lib/python3.11/site-packages (from torch) (3.2.1)\n",
            "Requirement already satisfied: jinja2 in /Users/aderylo/work/dnn/.venv/lib/python3.11/site-packages (from torch) (3.1.2)\n",
            "Requirement already satisfied: fsspec in /Users/aderylo/work/dnn/.venv/lib/python3.11/site-packages (from torch) (2023.10.0)\n",
            "Requirement already satisfied: numpy in /Users/aderylo/work/dnn/.venv/lib/python3.11/site-packages (from torchvision) (1.26.1)\n",
            "Requirement already satisfied: requests in /Users/aderylo/work/dnn/.venv/lib/python3.11/site-packages (from torchvision) (2.31.0)\n",
            "Requirement already satisfied: pillow!=8.3.*,>=5.3.0 in /Users/aderylo/work/dnn/.venv/lib/python3.11/site-packages (from torchvision) (10.1.0)\n",
            "Requirement already satisfied: MarkupSafe>=2.0 in /Users/aderylo/work/dnn/.venv/lib/python3.11/site-packages (from jinja2->torch) (2.1.3)\n",
            "Requirement already satisfied: charset-normalizer<4,>=2 in /Users/aderylo/work/dnn/.venv/lib/python3.11/site-packages (from requests->torchvision) (3.3.2)\n",
            "Requirement already satisfied: idna<4,>=2.5 in /Users/aderylo/work/dnn/.venv/lib/python3.11/site-packages (from requests->torchvision) (3.4)\n",
            "Requirement already satisfied: urllib3<3,>=1.21.1 in /Users/aderylo/work/dnn/.venv/lib/python3.11/site-packages (from requests->torchvision) (2.0.7)\n",
            "Requirement already satisfied: certifi>=2017.4.17 in /Users/aderylo/work/dnn/.venv/lib/python3.11/site-packages (from requests->torchvision) (2023.7.22)\n",
            "Requirement already satisfied: mpmath>=0.19 in /Users/aderylo/work/dnn/.venv/lib/python3.11/site-packages (from sympy->torch) (1.3.0)\n",
            "\n",
            "\u001b[1m[\u001b[0m\u001b[34;49mnotice\u001b[0m\u001b[1;39;49m]\u001b[0m\u001b[39;49m A new release of pip is available: \u001b[0m\u001b[31;49m23.3.1\u001b[0m\u001b[39;49m -> \u001b[0m\u001b[32;49m23.3.2\u001b[0m\n",
            "\u001b[1m[\u001b[0m\u001b[34;49mnotice\u001b[0m\u001b[1;39;49m]\u001b[0m\u001b[39;49m To update, run: \u001b[0m\u001b[32;49mpip install --upgrade pip\u001b[0m\n"
          ]
        }
      ],
      "source": [
        "!pip3 install torch torchvision"
      ]
    },
    {
      "cell_type": "code",
      "execution_count": 1,
      "metadata": {
        "id": "ASoDZODgldxF",
        "jukit_cell_id": "qQCiUqSXtp",
        "outputId": "07535b2b-ed07-49e4-bef1-900fb61aaa7a"
      },
      "outputs": [
        {
          "data": {
            "text/plain": [
              "<torch._C.Generator at 0x1251dd5d0>"
            ]
          },
          "execution_count": 1,
          "metadata": {},
          "output_type": "execute_result"
        }
      ],
      "source": [
        "import torch\n",
        "import torch.nn as nn\n",
        "import torch.optim as optim\n",
        "import torch.nn.functional as F\n",
        "from typing import List\n",
        "from tqdm import tqdm\n",
        "\n",
        "torch.manual_seed(1)"
      ]
    },
    {
      "cell_type": "markdown",
      "metadata": {
        "id": "osu5f8DkldxG",
        "jukit_cell_id": "IhLStTGQkn"
      },
      "source": [
        "## Understand dimensionality\n",
        "\n",
        "Check the input and output specification [LSTM](https://pytorch.org/docs/stable/generated/torch.nn.LSTM.html) and [RNN](https://pytorch.org/docs/stable/generated/torch.nn.RNN.html). The following snippet shows how we can process\n",
        "a sequence by LSTM and output a vector of size `hidden_dim` after reading\n",
        "each token of the sequence."
      ]
    },
    {
      "cell_type": "code",
      "execution_count": 2,
      "metadata": {
        "id": "EJwOMk2lldxH",
        "jukit_cell_id": "bnw9OesZOX",
        "outputId": "8ea90df6-8525-4dbd-d7b2-5e57537bb773"
      },
      "outputs": [
        {
          "name": "stdout",
          "output_type": "stream",
          "text": [
            "i=0 out=tensor([[[-0.0675,  0.1179,  0.1081,  0.0414, -0.0341]]])\n",
            "i=1 out=tensor([[[-0.1067,  0.1726,  0.1400,  0.0902, -0.0596]]])\n",
            "i=2 out=tensor([[[-0.1148,  0.1885,  0.1956,  0.0974, -0.0840]]])\n",
            "i=3 out=tensor([[[-0.1270,  0.2031,  0.1495,  0.1249, -0.0860]]])\n",
            "i=4 out=tensor([[[-0.1281,  0.2019,  0.1810,  0.1475, -0.1027]]])\n",
            "i=5 out=tensor([[[-0.1274,  0.2060,  0.0798,  0.1330, -0.0860]]])\n",
            "i=6 out=tensor([[[-0.1318,  0.2039,  0.0997,  0.1772, -0.1011]]])\n",
            "i=7 out=tensor([[[-0.1145,  0.2008, -0.0431,  0.1051, -0.0717]]])\n",
            "i=8 out=tensor([[[-0.1289,  0.1989,  0.0515,  0.1944, -0.1030]]])\n",
            "i=9 out=tensor([[[-0.1329,  0.1920,  0.0686,  0.1772, -0.0988]]])\n",
            "Final hidden state=tensor([[[-0.1329,  0.1920,  0.0686,  0.1772, -0.0988]]]) cell state=tensor([[[-0.2590,  0.4080,  0.1307,  0.4329, -0.2895]]])\n"
          ]
        }
      ],
      "source": [
        "hidden_dim = 5\n",
        "lstm = nn.LSTM(1, hidden_dim)  # Input sequence contains elements - vectors of size 1\n",
        "\n",
        "# create a random sequence\n",
        "sequence = [torch.randn(1) for _ in range(10)]\n",
        "\n",
        "# initialize the hidden state (including cell state)\n",
        "hidden = (torch.zeros(1, 1, 5),\n",
        "          torch.zeros(1, 1, 5))\n",
        "\n",
        "for i, elem in enumerate(sequence):\n",
        "  # we are processing only a single element of the sequence, and there\n",
        "  # is only one sample (sequence) in the batch, the third one\n",
        "  # corresponds to the fact that our sequence contains elemenents,\n",
        "  # which can be treated as vectors of size 1\n",
        "  out, hidden = lstm(elem.view(1, 1, 1), hidden)\n",
        "  print(f'i={i} out={out.detach()}')\n",
        "print(f'Final hidden state={hidden[0].detach()} cell state={hidden[1].detach()}')"
      ]
    },
    {
      "cell_type": "markdown",
      "metadata": {
        "id": "wdG-HEQBldxH",
        "jukit_cell_id": "PRbz6shJ8T"
      },
      "source": [
        "## To implement\n",
        "\n",
        "Process the whole sequence all at once by calling `lstm` only once and check that the output is exactly the same as above (remember to initialize the hidden state the same way)."
      ]
    },
    {
      "cell_type": "code",
      "execution_count": 3,
      "metadata": {
        "id": "SnB1iNUYldxI",
        "jukit_cell_id": "TfIHNzHo3z"
      },
      "outputs": [
        {
          "name": "stdout",
          "output_type": "stream",
          "text": [
            "i=0 out=tensor([[-0.0675,  0.1179,  0.1081,  0.0414, -0.0341]])\n",
            "i=1 out=tensor([[-0.1067,  0.1726,  0.1400,  0.0902, -0.0596]])\n",
            "i=2 out=tensor([[-0.1148,  0.1885,  0.1956,  0.0974, -0.0840]])\n",
            "i=3 out=tensor([[-0.1270,  0.2031,  0.1495,  0.1249, -0.0860]])\n",
            "i=4 out=tensor([[-0.1281,  0.2019,  0.1810,  0.1475, -0.1027]])\n",
            "i=5 out=tensor([[-0.1274,  0.2060,  0.0798,  0.1330, -0.0860]])\n",
            "i=6 out=tensor([[-0.1318,  0.2039,  0.0997,  0.1772, -0.1011]])\n",
            "i=7 out=tensor([[-0.1145,  0.2008, -0.0431,  0.1051, -0.0717]])\n",
            "i=8 out=tensor([[-0.1289,  0.1989,  0.0515,  0.1944, -0.1030]])\n",
            "i=9 out=tensor([[-0.1329,  0.1920,  0.0686,  0.1772, -0.0988]])\n",
            "Final hidden state=tensor([[[-0.1329,  0.1920,  0.0686,  0.1772, -0.0988]]]) cell state=tensor([[[-0.2590,  0.4080,  0.1307,  0.4329, -0.2895]]])\n"
          ]
        }
      ],
      "source": [
        "# #########################################################\n",
        "#                    To implement\n",
        "# #########################################################\n",
        "\n",
        "hidden = (torch.zeros(1, 1, 5),\n",
        "          torch.zeros(1, 1, 5))\n",
        "\n",
        "out, hidden = lstm(torch.stack(sequence).view(len(sequence), 1, 1), hidden)\n",
        "\n",
        "for i in range(len(sequence)):\n",
        "  print(f'i={i} out={out[i].detach()}')\n",
        "print(f'Final hidden state={hidden[0].detach()} cell state={hidden[1].detach()}')"
      ]
    },
    {
      "cell_type": "markdown",
      "metadata": {
        "id": "2F2To8-sldxI",
        "jukit_cell_id": "cRU2lN74fU"
      },
      "source": [
        "## Training a model\n",
        "\n",
        "Below we define a very simple model, which is a single layer of LSTM, where the output in each time step is processed by relu followed by a single fully connected layer, the output of which is a single number. We are going\n",
        "to use the number generated after reading the last element of the sequence,\n",
        "which will serve as the logit for our classification problem."
      ]
    },
    {
      "cell_type": "code",
      "execution_count": 4,
      "metadata": {
        "id": "bl2xrO7jldxJ",
        "jukit_cell_id": "eBgIwv79EA"
      },
      "outputs": [],
      "source": [
        "class Model(nn.Module):\n",
        "\n",
        "    def __init__(self, hidden_dim: int):\n",
        "        super(Model, self).__init__()\n",
        "        self.hidden_dim = hidden_dim\n",
        "        self.lstm = nn.LSTM(1, self.hidden_dim)\n",
        "        self.hidden2label = nn.Linear(hidden_dim, 1)\n",
        "\n",
        "    def forward(self, x: torch.Tensor) -> torch.Tensor:\n",
        "        out, _ = self.lstm(x)\n",
        "        sequence_len = x.shape[0]\n",
        "        logits = self.hidden2label(F.relu(out[-1].view(-1)))\n",
        "        return logits"
      ]
    },
    {
      "cell_type": "markdown",
      "metadata": {
        "id": "Xb8FmKVYldxJ",
        "jukit_cell_id": "JgMaOabC4s"
      },
      "source": [
        "Below is a training loop, where we only train on the two hardest examples."
      ]
    },
    {
      "cell_type": "code",
      "execution_count": 23,
      "metadata": {
        "id": "a-bb_Ep_ldxJ",
        "jukit_cell_id": "H2wpWYlQ1Q"
      },
      "outputs": [],
      "source": [
        "SEQUENCE_LEN = 10\n",
        "\n",
        "# Pairs of (sequence, label)\n",
        "HARD_EXAMPLES = [([0.]+(SEQUENCE_LEN-1)*[1.], 0),\n",
        "                 (SEQUENCE_LEN*[1.], 1)]\n",
        "\n",
        "\n",
        "def eval_on_hard_examples(model: nn.Module) -> List[float]:\n",
        "    with torch.no_grad():\n",
        "        logits = []\n",
        "        for sequence in HARD_EXAMPLES:\n",
        "            input = torch.tensor(sequence[0]).view(-1, 1, 1)\n",
        "            logit = model(input)\n",
        "            logits.append(logit.detach())\n",
        "        print(f'Logits for hard examples={logits}')\n",
        "        return logits\n",
        "\n",
        "\n",
        "def train_model(hidden_dim: int, lr: float, num_steps:int = 10000) -> Model:\n",
        "    model = Model(hidden_dim=hidden_dim)\n",
        "    loss_function = nn.BCEWithLogitsLoss()\n",
        "    optimizer = optim.SGD(model.parameters(), lr=lr, momentum=0.99)\n",
        "\n",
        "    pbar = tqdm(range(num_steps))\n",
        "    for step in pbar:\n",
        "        if step % 100 == 0:\n",
        "            logits = eval_on_hard_examples(model)\n",
        "            pbar.set_postfix(logits=logits)\n",
        "\n",
        "        for sequence, label in HARD_EXAMPLES:\n",
        "            model.zero_grad()\n",
        "            logit = model(torch.tensor(sequence).view(-1, 1, 1))\n",
        "\n",
        "            loss = loss_function(logit.view(-1), torch.tensor([label], dtype=torch.float32))\n",
        "            loss.backward()\n",
        "\n",
        "            optimizer.step()\n",
        "\n",
        "    return model"
      ]
    },
    {
      "cell_type": "code",
      "execution_count": 24,
      "metadata": {
        "id": "QfvyuYCmldxK",
        "jukit_cell_id": "jRW2K012Zt",
        "outputId": "8c9632f7-d2fa-4fb4-b61e-f1f1b8fa0c5b"
      },
      "outputs": [
        {
          "name": "stderr",
          "output_type": "stream",
          "text": [
            "  0%|          | 42/10000 [00:00<00:24, 411.41it/s, logits=[tensor([0.0297]), tensor([0.0297])]]"
          ]
        },
        {
          "name": "stdout",
          "output_type": "stream",
          "text": [
            "Logits for hard examples=[tensor([0.0297]), tensor([0.0297])]\n"
          ]
        },
        {
          "name": "stderr",
          "output_type": "stream",
          "text": [
            "  2%|▏         | 172/10000 [00:00<00:22, 427.73it/s, logits=[tensor([0.0209]), tensor([0.0210])]]"
          ]
        },
        {
          "name": "stdout",
          "output_type": "stream",
          "text": [
            "Logits for hard examples=[tensor([0.0209]), tensor([0.0210])]\n"
          ]
        },
        {
          "name": "stderr",
          "output_type": "stream",
          "text": [
            "  3%|▎         | 260/10000 [00:00<00:22, 432.21it/s, logits=[tensor([-0.0037]), tensor([-0.0036])]]"
          ]
        },
        {
          "name": "stdout",
          "output_type": "stream",
          "text": [
            "Logits for hard examples=[tensor([-0.0037]), tensor([-0.0036])]\n"
          ]
        },
        {
          "name": "stderr",
          "output_type": "stream",
          "text": [
            "  3%|▎         | 348/10000 [00:00<00:22, 432.81it/s, logits=[tensor([-6.8108e-05]), tensor([7.8084e-05])]]"
          ]
        },
        {
          "name": "stdout",
          "output_type": "stream",
          "text": [
            "Logits for hard examples=[tensor([-6.8108e-05]), tensor([7.8084e-05])]\n"
          ]
        },
        {
          "name": "stderr",
          "output_type": "stream",
          "text": [
            "  5%|▍         | 478/10000 [00:01<00:22, 421.51it/s, logits=[tensor([0.0024]), tensor([0.0026])]]         "
          ]
        },
        {
          "name": "stdout",
          "output_type": "stream",
          "text": [
            "Logits for hard examples=[tensor([0.0024]), tensor([0.0026])]\n"
          ]
        },
        {
          "name": "stderr",
          "output_type": "stream",
          "text": [
            "  6%|▌         | 564/10000 [00:01<00:22, 419.15it/s, logits=[tensor([0.0011]), tensor([0.0015])]]"
          ]
        },
        {
          "name": "stdout",
          "output_type": "stream",
          "text": [
            "Logits for hard examples=[tensor([0.0011]), tensor([0.0015])]\n"
          ]
        },
        {
          "name": "stderr",
          "output_type": "stream",
          "text": [
            "  6%|▋         | 648/10000 [00:01<00:22, 409.96it/s, logits=[tensor([0.0012]), tensor([0.0020])]]"
          ]
        },
        {
          "name": "stdout",
          "output_type": "stream",
          "text": [
            "Logits for hard examples=[tensor([0.0012]), tensor([0.0020])]\n"
          ]
        },
        {
          "name": "stderr",
          "output_type": "stream",
          "text": [
            "  8%|▊         | 775/10000 [00:01<00:22, 416.46it/s, logits=[tensor([0.0013]), tensor([0.0034])]]"
          ]
        },
        {
          "name": "stdout",
          "output_type": "stream",
          "text": [
            "Logits for hard examples=[tensor([0.0013]), tensor([0.0034])]\n"
          ]
        },
        {
          "name": "stderr",
          "output_type": "stream",
          "text": [
            "  9%|▊         | 860/10000 [00:02<00:21, 418.00it/s, logits=[tensor([-0.0228]), tensor([0.0447])]]"
          ]
        },
        {
          "name": "stdout",
          "output_type": "stream",
          "text": [
            "Logits for hard examples=[tensor([-0.0228]), tensor([0.0447])]\n"
          ]
        },
        {
          "name": "stderr",
          "output_type": "stream",
          "text": [
            "  9%|▉         | 946/10000 [00:02<00:21, 421.10it/s, logits=[tensor([-11.9128]), tensor([10.0840])]]"
          ]
        },
        {
          "name": "stdout",
          "output_type": "stream",
          "text": [
            "Logits for hard examples=[tensor([-11.9128]), tensor([10.0840])]\n"
          ]
        },
        {
          "name": "stderr",
          "output_type": "stream",
          "text": [
            " 11%|█         | 1076/10000 [00:02<00:21, 424.52it/s, logits=[tensor([-14.2278]), tensor([12.4459])]]"
          ]
        },
        {
          "name": "stdout",
          "output_type": "stream",
          "text": [
            "Logits for hard examples=[tensor([-14.2278]), tensor([12.4459])]\n"
          ]
        },
        {
          "name": "stderr",
          "output_type": "stream",
          "text": [
            " 12%|█▏        | 1162/10000 [00:02<00:20, 422.45it/s, logits=[tensor([-14.5208]), tensor([12.7631])]]"
          ]
        },
        {
          "name": "stdout",
          "output_type": "stream",
          "text": [
            "Logits for hard examples=[tensor([-14.5208]), tensor([12.7631])]\n"
          ]
        },
        {
          "name": "stderr",
          "output_type": "stream",
          "text": [
            " 12%|█▏        | 1249/10000 [00:02<00:20, 424.08it/s, logits=[tensor([-14.5648]), tensor([12.8071])]]"
          ]
        },
        {
          "name": "stdout",
          "output_type": "stream",
          "text": [
            "Logits for hard examples=[tensor([-14.5648]), tensor([12.8071])]\n"
          ]
        },
        {
          "name": "stderr",
          "output_type": "stream",
          "text": [
            " 14%|█▍        | 1377/10000 [00:03<00:20, 418.81it/s, logits=[tensor([-14.5756]), tensor([12.8145])]]"
          ]
        },
        {
          "name": "stdout",
          "output_type": "stream",
          "text": [
            "Logits for hard examples=[tensor([-14.5756]), tensor([12.8145])]\n"
          ]
        },
        {
          "name": "stderr",
          "output_type": "stream",
          "text": [
            " 15%|█▍        | 1460/10000 [00:03<00:22, 385.29it/s, logits=[tensor([-14.5818]), tensor([12.8170])]]"
          ]
        },
        {
          "name": "stdout",
          "output_type": "stream",
          "text": [
            "Logits for hard examples=[tensor([-14.5818]), tensor([12.8170])]\n"
          ]
        },
        {
          "name": "stderr",
          "output_type": "stream",
          "text": [
            " 15%|█▌        | 1537/10000 [00:03<00:22, 374.65it/s, logits=[tensor([-14.5874]), tensor([12.8188])]]"
          ]
        },
        {
          "name": "stdout",
          "output_type": "stream",
          "text": [
            "Logits for hard examples=[tensor([-14.5874]), tensor([12.8188])]\n"
          ]
        },
        {
          "name": "stderr",
          "output_type": "stream",
          "text": [
            " 17%|█▋        | 1667/10000 [00:04<00:20, 405.80it/s, logits=[tensor([-14.5929]), tensor([12.8203])]]"
          ]
        },
        {
          "name": "stdout",
          "output_type": "stream",
          "text": [
            "Logits for hard examples=[tensor([-14.5929]), tensor([12.8203])]\n"
          ]
        },
        {
          "name": "stderr",
          "output_type": "stream",
          "text": [
            " 18%|█▊        | 1750/10000 [00:04<00:20, 403.88it/s, logits=[tensor([-14.5984]), tensor([12.8219])]]"
          ]
        },
        {
          "name": "stdout",
          "output_type": "stream",
          "text": [
            "Logits for hard examples=[tensor([-14.5984]), tensor([12.8219])]\n"
          ]
        },
        {
          "name": "stderr",
          "output_type": "stream",
          "text": [
            " 19%|█▉        | 1880/10000 [00:04<00:19, 419.05it/s, logits=[tensor([-14.6038]), tensor([12.8234])]]"
          ]
        },
        {
          "name": "stdout",
          "output_type": "stream",
          "text": [
            "Logits for hard examples=[tensor([-14.6038]), tensor([12.8234])]\n"
          ]
        },
        {
          "name": "stderr",
          "output_type": "stream",
          "text": [
            " 20%|█▉        | 1964/10000 [00:04<00:19, 411.77it/s, logits=[tensor([-14.6093]), tensor([12.8249])]]"
          ]
        },
        {
          "name": "stdout",
          "output_type": "stream",
          "text": [
            "Logits for hard examples=[tensor([-14.6093]), tensor([12.8249])]\n"
          ]
        },
        {
          "name": "stderr",
          "output_type": "stream",
          "text": [
            " 20%|██        | 2048/10000 [00:04<00:19, 410.51it/s, logits=[tensor([-14.6147]), tensor([12.8264])]]"
          ]
        },
        {
          "name": "stdout",
          "output_type": "stream",
          "text": [
            "Logits for hard examples=[tensor([-14.6147]), tensor([12.8264])]\n"
          ]
        },
        {
          "name": "stderr",
          "output_type": "stream",
          "text": [
            " 22%|██▏       | 2180/10000 [00:05<00:18, 426.79it/s, logits=[tensor([-14.6201]), tensor([12.8279])]]"
          ]
        },
        {
          "name": "stdout",
          "output_type": "stream",
          "text": [
            "Logits for hard examples=[tensor([-14.6201]), tensor([12.8279])]\n"
          ]
        },
        {
          "name": "stderr",
          "output_type": "stream",
          "text": [
            " 23%|██▎       | 2266/10000 [00:05<00:18, 426.98it/s, logits=[tensor([-14.6254]), tensor([12.8294])]]"
          ]
        },
        {
          "name": "stdout",
          "output_type": "stream",
          "text": [
            "Logits for hard examples=[tensor([-14.6254]), tensor([12.8294])]\n"
          ]
        },
        {
          "name": "stderr",
          "output_type": "stream",
          "text": [
            " 24%|██▎       | 2353/10000 [00:05<00:17, 427.42it/s, logits=[tensor([-14.6308]), tensor([12.8308])]]"
          ]
        },
        {
          "name": "stdout",
          "output_type": "stream",
          "text": [
            "Logits for hard examples=[tensor([-14.6308]), tensor([12.8308])]\n"
          ]
        },
        {
          "name": "stderr",
          "output_type": "stream",
          "text": [
            " 24%|██▍       | 2442/10000 [00:05<00:17, 428.01it/s, logits=[tensor([-14.6360]), tensor([12.8322])]]"
          ]
        },
        {
          "name": "stdout",
          "output_type": "stream",
          "text": [
            "Logits for hard examples=[tensor([-14.6360]), tensor([12.8322])]\n"
          ]
        },
        {
          "name": "stderr",
          "output_type": "stream",
          "text": [
            " 26%|██▌       | 2571/10000 [00:06<00:17, 419.34it/s, logits=[tensor([-14.6413]), tensor([12.8336])]]"
          ]
        },
        {
          "name": "stdout",
          "output_type": "stream",
          "text": [
            "Logits for hard examples=[tensor([-14.6413]), tensor([12.8336])]\n"
          ]
        },
        {
          "name": "stderr",
          "output_type": "stream",
          "text": [
            " 27%|██▋       | 2656/10000 [00:06<00:17, 416.83it/s, logits=[tensor([-14.6465]), tensor([12.8351])]]"
          ]
        },
        {
          "name": "stdout",
          "output_type": "stream",
          "text": [
            "Logits for hard examples=[tensor([-14.6465]), tensor([12.8351])]\n"
          ]
        },
        {
          "name": "stderr",
          "output_type": "stream",
          "text": [
            " 28%|██▊       | 2783/10000 [00:06<00:17, 419.78it/s, logits=[tensor([-14.6518]), tensor([12.8365])]]"
          ]
        },
        {
          "name": "stdout",
          "output_type": "stream",
          "text": [
            "Logits for hard examples=[tensor([-14.6518]), tensor([12.8365])]\n"
          ]
        },
        {
          "name": "stderr",
          "output_type": "stream",
          "text": [
            " 29%|██▊       | 2869/10000 [00:06<00:16, 422.50it/s, logits=[tensor([-14.6570]), tensor([12.8379])]]"
          ]
        },
        {
          "name": "stdout",
          "output_type": "stream",
          "text": [
            "Logits for hard examples=[tensor([-14.6570]), tensor([12.8379])]\n"
          ]
        },
        {
          "name": "stderr",
          "output_type": "stream",
          "text": [
            " 30%|██▉       | 2955/10000 [00:07<00:16, 424.56it/s, logits=[tensor([-14.6622]), tensor([12.8393])]]"
          ]
        },
        {
          "name": "stdout",
          "output_type": "stream",
          "text": [
            "Logits for hard examples=[tensor([-14.6622]), tensor([12.8393])]\n"
          ]
        },
        {
          "name": "stderr",
          "output_type": "stream",
          "text": [
            " 30%|███       | 3041/10000 [00:07<00:16, 420.43it/s, logits=[tensor([-14.6673]), tensor([12.8407])]]"
          ]
        },
        {
          "name": "stdout",
          "output_type": "stream",
          "text": [
            "Logits for hard examples=[tensor([-14.6673]), tensor([12.8407])]\n"
          ]
        },
        {
          "name": "stderr",
          "output_type": "stream",
          "text": [
            " 32%|███▏      | 3170/10000 [00:07<00:16, 419.66it/s, logits=[tensor([-14.6725]), tensor([12.8422])]]"
          ]
        },
        {
          "name": "stdout",
          "output_type": "stream",
          "text": [
            "Logits for hard examples=[tensor([-14.6725]), tensor([12.8422])]\n"
          ]
        },
        {
          "name": "stderr",
          "output_type": "stream",
          "text": [
            " 33%|███▎      | 3258/10000 [00:07<00:15, 426.15it/s, logits=[tensor([-14.6776]), tensor([12.8436])]]"
          ]
        },
        {
          "name": "stdout",
          "output_type": "stream",
          "text": [
            "Logits for hard examples=[tensor([-14.6776]), tensor([12.8436])]\n"
          ]
        },
        {
          "name": "stderr",
          "output_type": "stream",
          "text": [
            " 33%|███▎      | 3345/10000 [00:08<00:15, 428.94it/s, logits=[tensor([-14.6827]), tensor([12.8450])]]"
          ]
        },
        {
          "name": "stdout",
          "output_type": "stream",
          "text": [
            "Logits for hard examples=[tensor([-14.6827]), tensor([12.8450])]\n"
          ]
        },
        {
          "name": "stderr",
          "output_type": "stream",
          "text": [
            " 35%|███▍      | 3477/10000 [00:08<00:15, 425.55it/s, logits=[tensor([-14.6878]), tensor([12.8464])]]"
          ]
        },
        {
          "name": "stdout",
          "output_type": "stream",
          "text": [
            "Logits for hard examples=[tensor([-14.6878]), tensor([12.8464])]\n"
          ]
        },
        {
          "name": "stderr",
          "output_type": "stream",
          "text": [
            " 36%|███▌      | 3563/10000 [00:08<00:15, 421.94it/s, logits=[tensor([-14.6928]), tensor([12.8478])]]"
          ]
        },
        {
          "name": "stdout",
          "output_type": "stream",
          "text": [
            "Logits for hard examples=[tensor([-14.6928]), tensor([12.8478])]\n"
          ]
        },
        {
          "name": "stderr",
          "output_type": "stream",
          "text": [
            " 36%|███▋      | 3648/10000 [00:08<00:15, 417.76it/s, logits=[tensor([-14.6978]), tensor([12.8493])]]"
          ]
        },
        {
          "name": "stdout",
          "output_type": "stream",
          "text": [
            "Logits for hard examples=[tensor([-14.6978]), tensor([12.8493])]\n"
          ]
        },
        {
          "name": "stderr",
          "output_type": "stream",
          "text": [
            " 38%|███▊      | 3776/10000 [00:09<00:14, 422.03it/s, logits=[tensor([-14.7028]), tensor([12.8507])]]"
          ]
        },
        {
          "name": "stdout",
          "output_type": "stream",
          "text": [
            "Logits for hard examples=[tensor([-14.7028]), tensor([12.8507])]\n"
          ]
        },
        {
          "name": "stderr",
          "output_type": "stream",
          "text": [
            " 39%|███▊      | 3863/10000 [00:09<00:14, 426.16it/s, logits=[tensor([-14.7078]), tensor([12.8521])]]"
          ]
        },
        {
          "name": "stdout",
          "output_type": "stream",
          "text": [
            "Logits for hard examples=[tensor([-14.7078]), tensor([12.8521])]\n"
          ]
        },
        {
          "name": "stderr",
          "output_type": "stream",
          "text": [
            " 39%|███▉      | 3949/10000 [00:09<00:14, 421.48it/s, logits=[tensor([-14.7128]), tensor([12.8535])]]"
          ]
        },
        {
          "name": "stdout",
          "output_type": "stream",
          "text": [
            "Logits for hard examples=[tensor([-14.7128]), tensor([12.8535])]\n"
          ]
        },
        {
          "name": "stderr",
          "output_type": "stream",
          "text": [
            " 41%|████      | 4079/10000 [00:09<00:14, 422.63it/s, logits=[tensor([-14.7178]), tensor([12.8550])]]"
          ]
        },
        {
          "name": "stdout",
          "output_type": "stream",
          "text": [
            "Logits for hard examples=[tensor([-14.7178]), tensor([12.8550])]\n"
          ]
        },
        {
          "name": "stderr",
          "output_type": "stream",
          "text": [
            " 42%|████▏     | 4167/10000 [00:09<00:13, 428.21it/s, logits=[tensor([-14.7227]), tensor([12.8564])]]"
          ]
        },
        {
          "name": "stdout",
          "output_type": "stream",
          "text": [
            "Logits for hard examples=[tensor([-14.7227]), tensor([12.8564])]\n"
          ]
        },
        {
          "name": "stderr",
          "output_type": "stream",
          "text": [
            " 43%|████▎     | 4253/10000 [00:10<00:13, 428.42it/s, logits=[tensor([-14.7276]), tensor([12.8578])]]"
          ]
        },
        {
          "name": "stdout",
          "output_type": "stream",
          "text": [
            "Logits for hard examples=[tensor([-14.7276]), tensor([12.8578])]\n"
          ]
        },
        {
          "name": "stderr",
          "output_type": "stream",
          "text": [
            " 44%|████▍     | 4382/10000 [00:10<00:13, 421.91it/s, logits=[tensor([-14.7325]), tensor([12.8592])]]"
          ]
        },
        {
          "name": "stdout",
          "output_type": "stream",
          "text": [
            "Logits for hard examples=[tensor([-14.7325]), tensor([12.8592])]\n"
          ]
        },
        {
          "name": "stderr",
          "output_type": "stream",
          "text": [
            " 45%|████▍     | 4468/10000 [00:10<00:13, 418.94it/s, logits=[tensor([-14.7373]), tensor([12.8607])]]"
          ]
        },
        {
          "name": "stdout",
          "output_type": "stream",
          "text": [
            "Logits for hard examples=[tensor([-14.7373]), tensor([12.8607])]\n"
          ]
        },
        {
          "name": "stderr",
          "output_type": "stream",
          "text": [
            " 46%|████▌     | 4553/10000 [00:10<00:13, 417.78it/s, logits=[tensor([-14.7421]), tensor([12.8621])]]"
          ]
        },
        {
          "name": "stdout",
          "output_type": "stream",
          "text": [
            "Logits for hard examples=[tensor([-14.7421]), tensor([12.8621])]\n"
          ]
        },
        {
          "name": "stderr",
          "output_type": "stream",
          "text": [
            " 47%|████▋     | 4680/10000 [00:11<00:13, 406.86it/s, logits=[tensor([-14.7468]), tensor([12.8635])]]"
          ]
        },
        {
          "name": "stdout",
          "output_type": "stream",
          "text": [
            "Logits for hard examples=[tensor([-14.7468]), tensor([12.8635])]\n"
          ]
        },
        {
          "name": "stderr",
          "output_type": "stream",
          "text": [
            " 48%|████▊     | 4767/10000 [00:11<00:12, 420.41it/s, logits=[tensor([-14.7515]), tensor([12.8649])]]"
          ]
        },
        {
          "name": "stdout",
          "output_type": "stream",
          "text": [
            "Logits for hard examples=[tensor([-14.7515]), tensor([12.8649])]\n"
          ]
        },
        {
          "name": "stderr",
          "output_type": "stream",
          "text": [
            " 49%|████▊     | 4853/10000 [00:11<00:12, 419.86it/s, logits=[tensor([-14.7562]), tensor([12.8664])]]"
          ]
        },
        {
          "name": "stdout",
          "output_type": "stream",
          "text": [
            "Logits for hard examples=[tensor([-14.7562]), tensor([12.8664])]\n"
          ]
        },
        {
          "name": "stderr",
          "output_type": "stream",
          "text": [
            " 50%|████▉     | 4983/10000 [00:11<00:11, 425.52it/s, logits=[tensor([-14.7609]), tensor([12.8678])]]"
          ]
        },
        {
          "name": "stdout",
          "output_type": "stream",
          "text": [
            "Logits for hard examples=[tensor([-14.7609]), tensor([12.8678])]\n"
          ]
        },
        {
          "name": "stderr",
          "output_type": "stream",
          "text": [
            " 51%|█████     | 5069/10000 [00:12<00:11, 425.35it/s, logits=[tensor([-14.7656]), tensor([12.8692])]]"
          ]
        },
        {
          "name": "stdout",
          "output_type": "stream",
          "text": [
            "Logits for hard examples=[tensor([-14.7656]), tensor([12.8692])]\n"
          ]
        },
        {
          "name": "stderr",
          "output_type": "stream",
          "text": [
            " 52%|█████▏    | 5155/10000 [00:12<00:11, 425.37it/s, logits=[tensor([-14.7702]), tensor([12.8706])]]"
          ]
        },
        {
          "name": "stdout",
          "output_type": "stream",
          "text": [
            "Logits for hard examples=[tensor([-14.7702]), tensor([12.8706])]\n"
          ]
        },
        {
          "name": "stderr",
          "output_type": "stream",
          "text": [
            " 52%|█████▏    | 5241/10000 [00:12<00:13, 364.25it/s, logits=[tensor([-14.7749]), tensor([12.8721])]]"
          ]
        },
        {
          "name": "stdout",
          "output_type": "stream",
          "text": [
            "Logits for hard examples=[tensor([-14.7749]), tensor([12.8721])]\n"
          ]
        },
        {
          "name": "stderr",
          "output_type": "stream",
          "text": [
            " 54%|█████▎    | 5356/10000 [00:12<00:13, 336.00it/s, logits=[tensor([-14.7795]), tensor([12.8735])]]"
          ]
        },
        {
          "name": "stdout",
          "output_type": "stream",
          "text": [
            "Logits for hard examples=[tensor([-14.7795]), tensor([12.8735])]\n"
          ]
        },
        {
          "name": "stderr",
          "output_type": "stream",
          "text": [
            " 54%|█████▍    | 5433/10000 [00:13<00:13, 343.91it/s, logits=[tensor([-14.7841]), tensor([12.8749])]]"
          ]
        },
        {
          "name": "stdout",
          "output_type": "stream",
          "text": [
            "Logits for hard examples=[tensor([-14.7841]), tensor([12.8749])]\n"
          ]
        },
        {
          "name": "stderr",
          "output_type": "stream",
          "text": [
            " 55%|█████▌    | 5543/10000 [00:13<00:12, 351.03it/s, logits=[tensor([-14.7887]), tensor([12.8763])]]"
          ]
        },
        {
          "name": "stdout",
          "output_type": "stream",
          "text": [
            "Logits for hard examples=[tensor([-14.7887]), tensor([12.8763])]\n"
          ]
        },
        {
          "name": "stderr",
          "output_type": "stream",
          "text": [
            " 57%|█████▋    | 5667/10000 [00:13<00:11, 390.34it/s, logits=[tensor([-14.7932]), tensor([12.8777])]]"
          ]
        },
        {
          "name": "stdout",
          "output_type": "stream",
          "text": [
            "Logits for hard examples=[tensor([-14.7932]), tensor([12.8777])]\n"
          ]
        },
        {
          "name": "stderr",
          "output_type": "stream",
          "text": [
            " 58%|█████▊    | 5752/10000 [00:13<00:10, 405.67it/s, logits=[tensor([-14.7977]), tensor([12.8791])]]"
          ]
        },
        {
          "name": "stdout",
          "output_type": "stream",
          "text": [
            "Logits for hard examples=[tensor([-14.7977]), tensor([12.8791])]\n"
          ]
        },
        {
          "name": "stderr",
          "output_type": "stream",
          "text": [
            " 59%|█████▉    | 5878/10000 [00:14<00:10, 411.48it/s, logits=[tensor([-14.8022]), tensor([12.8805])]]"
          ]
        },
        {
          "name": "stdout",
          "output_type": "stream",
          "text": [
            "Logits for hard examples=[tensor([-14.8022]), tensor([12.8805])]\n"
          ]
        },
        {
          "name": "stderr",
          "output_type": "stream",
          "text": [
            " 60%|█████▉    | 5962/10000 [00:14<00:09, 413.59it/s, logits=[tensor([-14.8067]), tensor([12.8819])]]"
          ]
        },
        {
          "name": "stdout",
          "output_type": "stream",
          "text": [
            "Logits for hard examples=[tensor([-14.8067]), tensor([12.8819])]\n"
          ]
        },
        {
          "name": "stderr",
          "output_type": "stream",
          "text": [
            " 60%|██████    | 6046/10000 [00:14<00:09, 405.32it/s, logits=[tensor([-14.8112]), tensor([12.8833])]]"
          ]
        },
        {
          "name": "stdout",
          "output_type": "stream",
          "text": [
            "Logits for hard examples=[tensor([-14.8112]), tensor([12.8833])]\n"
          ]
        },
        {
          "name": "stderr",
          "output_type": "stream",
          "text": [
            " 62%|██████▏   | 6173/10000 [00:14<00:09, 413.23it/s, logits=[tensor([-14.8157]), tensor([12.8847])]]"
          ]
        },
        {
          "name": "stdout",
          "output_type": "stream",
          "text": [
            "Logits for hard examples=[tensor([-14.8157]), tensor([12.8847])]\n"
          ]
        },
        {
          "name": "stderr",
          "output_type": "stream",
          "text": [
            " 63%|██████▎   | 6259/10000 [00:15<00:08, 417.77it/s, logits=[tensor([-14.8201]), tensor([12.8861])]]"
          ]
        },
        {
          "name": "stdout",
          "output_type": "stream",
          "text": [
            "Logits for hard examples=[tensor([-14.8201]), tensor([12.8861])]\n"
          ]
        },
        {
          "name": "stderr",
          "output_type": "stream",
          "text": [
            " 63%|██████▎   | 6348/10000 [00:15<00:08, 428.36it/s, logits=[tensor([-14.8245]), tensor([12.8875])]]"
          ]
        },
        {
          "name": "stdout",
          "output_type": "stream",
          "text": [
            "Logits for hard examples=[tensor([-14.8245]), tensor([12.8875])]\n"
          ]
        },
        {
          "name": "stderr",
          "output_type": "stream",
          "text": [
            " 65%|██████▍   | 6480/10000 [00:15<00:08, 431.97it/s, logits=[tensor([-14.8289]), tensor([12.8889])]]"
          ]
        },
        {
          "name": "stdout",
          "output_type": "stream",
          "text": [
            "Logits for hard examples=[tensor([-14.8289]), tensor([12.8889])]\n"
          ]
        },
        {
          "name": "stderr",
          "output_type": "stream",
          "text": [
            " 66%|██████▌   | 6569/10000 [00:15<00:07, 436.67it/s, logits=[tensor([-14.8333]), tensor([12.8903])]]"
          ]
        },
        {
          "name": "stdout",
          "output_type": "stream",
          "text": [
            "Logits for hard examples=[tensor([-14.8333]), tensor([12.8903])]\n"
          ]
        },
        {
          "name": "stderr",
          "output_type": "stream",
          "text": [
            " 67%|██████▋   | 6657/10000 [00:16<00:07, 432.84it/s, logits=[tensor([-14.8376]), tensor([12.8917])]]"
          ]
        },
        {
          "name": "stdout",
          "output_type": "stream",
          "text": [
            "Logits for hard examples=[tensor([-14.8376]), tensor([12.8917])]\n"
          ]
        },
        {
          "name": "stderr",
          "output_type": "stream",
          "text": [
            " 67%|██████▋   | 6745/10000 [00:16<00:07, 428.83it/s, logits=[tensor([-14.8419]), tensor([12.8931])]]"
          ]
        },
        {
          "name": "stdout",
          "output_type": "stream",
          "text": [
            "Logits for hard examples=[tensor([-14.8419]), tensor([12.8931])]\n"
          ]
        },
        {
          "name": "stderr",
          "output_type": "stream",
          "text": [
            " 69%|██████▉   | 6877/10000 [00:16<00:07, 430.77it/s, logits=[tensor([-14.8462]), tensor([12.8946])]]"
          ]
        },
        {
          "name": "stdout",
          "output_type": "stream",
          "text": [
            "Logits for hard examples=[tensor([-14.8462]), tensor([12.8946])]\n"
          ]
        },
        {
          "name": "stderr",
          "output_type": "stream",
          "text": [
            " 70%|██████▉   | 6966/10000 [00:16<00:06, 433.45it/s, logits=[tensor([-14.8503]), tensor([12.8960])]]"
          ]
        },
        {
          "name": "stdout",
          "output_type": "stream",
          "text": [
            "Logits for hard examples=[tensor([-14.8503]), tensor([12.8960])]\n"
          ]
        },
        {
          "name": "stderr",
          "output_type": "stream",
          "text": [
            " 71%|███████   | 7055/10000 [00:17<00:06, 434.98it/s, logits=[tensor([-14.8545]), tensor([12.8974])]]"
          ]
        },
        {
          "name": "stdout",
          "output_type": "stream",
          "text": [
            "Logits for hard examples=[tensor([-14.8545]), tensor([12.8974])]\n"
          ]
        },
        {
          "name": "stderr",
          "output_type": "stream",
          "text": [
            " 72%|███████▏  | 7187/10000 [00:17<00:06, 435.66it/s, logits=[tensor([-14.8586]), tensor([12.8988])]]"
          ]
        },
        {
          "name": "stdout",
          "output_type": "stream",
          "text": [
            "Logits for hard examples=[tensor([-14.8586]), tensor([12.8988])]\n"
          ]
        },
        {
          "name": "stderr",
          "output_type": "stream",
          "text": [
            " 73%|███████▎  | 7276/10000 [00:17<00:06, 440.41it/s, logits=[tensor([-14.8628]), tensor([12.9002])]]"
          ]
        },
        {
          "name": "stdout",
          "output_type": "stream",
          "text": [
            "Logits for hard examples=[tensor([-14.8628]), tensor([12.9002])]\n"
          ]
        },
        {
          "name": "stderr",
          "output_type": "stream",
          "text": [
            " 74%|███████▎  | 7366/10000 [00:17<00:06, 437.90it/s, logits=[tensor([-14.8669]), tensor([12.9016])]]"
          ]
        },
        {
          "name": "stdout",
          "output_type": "stream",
          "text": [
            "Logits for hard examples=[tensor([-14.8669]), tensor([12.9016])]\n"
          ]
        },
        {
          "name": "stderr",
          "output_type": "stream",
          "text": [
            " 75%|███████▍  | 7455/10000 [00:17<00:05, 436.81it/s, logits=[tensor([-14.8710]), tensor([12.9030])]]"
          ]
        },
        {
          "name": "stdout",
          "output_type": "stream",
          "text": [
            "Logits for hard examples=[tensor([-14.8710]), tensor([12.9030])]\n"
          ]
        },
        {
          "name": "stderr",
          "output_type": "stream",
          "text": [
            " 76%|███████▌  | 7588/10000 [00:18<00:05, 437.32it/s, logits=[tensor([-14.8751]), tensor([12.9044])]]"
          ]
        },
        {
          "name": "stdout",
          "output_type": "stream",
          "text": [
            "Logits for hard examples=[tensor([-14.8751]), tensor([12.9044])]\n"
          ]
        },
        {
          "name": "stderr",
          "output_type": "stream",
          "text": [
            " 77%|███████▋  | 7676/10000 [00:18<00:05, 430.75it/s, logits=[tensor([-14.8791]), tensor([12.9058])]]"
          ]
        },
        {
          "name": "stdout",
          "output_type": "stream",
          "text": [
            "Logits for hard examples=[tensor([-14.8791]), tensor([12.9058])]\n"
          ]
        },
        {
          "name": "stderr",
          "output_type": "stream",
          "text": [
            " 78%|███████▊  | 7764/10000 [00:18<00:05, 430.21it/s, logits=[tensor([-14.8832]), tensor([12.9072])]]"
          ]
        },
        {
          "name": "stdout",
          "output_type": "stream",
          "text": [
            "Logits for hard examples=[tensor([-14.8832]), tensor([12.9072])]\n"
          ]
        },
        {
          "name": "stderr",
          "output_type": "stream",
          "text": [
            " 79%|███████▊  | 7851/10000 [00:18<00:05, 426.81it/s, logits=[tensor([-14.8872]), tensor([12.9086])]]"
          ]
        },
        {
          "name": "stdout",
          "output_type": "stream",
          "text": [
            "Logits for hard examples=[tensor([-14.8872]), tensor([12.9086])]\n"
          ]
        },
        {
          "name": "stderr",
          "output_type": "stream",
          "text": [
            " 80%|███████▉  | 7982/10000 [00:19<00:04, 428.23it/s, logits=[tensor([-14.8912]), tensor([12.9100])]]"
          ]
        },
        {
          "name": "stdout",
          "output_type": "stream",
          "text": [
            "Logits for hard examples=[tensor([-14.8912]), tensor([12.9100])]\n"
          ]
        },
        {
          "name": "stderr",
          "output_type": "stream",
          "text": [
            " 81%|████████  | 8068/10000 [00:19<00:04, 426.24it/s, logits=[tensor([-14.8952]), tensor([12.9114])]]"
          ]
        },
        {
          "name": "stdout",
          "output_type": "stream",
          "text": [
            "Logits for hard examples=[tensor([-14.8952]), tensor([12.9114])]\n"
          ]
        },
        {
          "name": "stderr",
          "output_type": "stream",
          "text": [
            " 82%|████████▏ | 8155/10000 [00:19<00:04, 426.95it/s, logits=[tensor([-14.8992]), tensor([12.9128])]]"
          ]
        },
        {
          "name": "stdout",
          "output_type": "stream",
          "text": [
            "Logits for hard examples=[tensor([-14.8992]), tensor([12.9128])]\n"
          ]
        },
        {
          "name": "stderr",
          "output_type": "stream",
          "text": [
            " 83%|████████▎ | 8285/10000 [00:19<00:04, 426.97it/s, logits=[tensor([-14.9031]), tensor([12.9142])]]"
          ]
        },
        {
          "name": "stdout",
          "output_type": "stream",
          "text": [
            "Logits for hard examples=[tensor([-14.9031]), tensor([12.9142])]\n"
          ]
        },
        {
          "name": "stderr",
          "output_type": "stream",
          "text": [
            " 84%|████████▎ | 8371/10000 [00:20<00:04, 404.43it/s, logits=[tensor([-14.9070]), tensor([12.9156])]]"
          ]
        },
        {
          "name": "stdout",
          "output_type": "stream",
          "text": [
            "Logits for hard examples=[tensor([-14.9070]), tensor([12.9156])]\n"
          ]
        },
        {
          "name": "stderr",
          "output_type": "stream",
          "text": [
            " 85%|████████▍ | 8454/10000 [00:20<00:03, 409.37it/s, logits=[tensor([-14.9109]), tensor([12.9170])]]"
          ]
        },
        {
          "name": "stdout",
          "output_type": "stream",
          "text": [
            "Logits for hard examples=[tensor([-14.9109]), tensor([12.9170])]\n"
          ]
        },
        {
          "name": "stderr",
          "output_type": "stream",
          "text": [
            " 86%|████████▌ | 8585/10000 [00:20<00:03, 422.31it/s, logits=[tensor([-14.9148]), tensor([12.9185])]]"
          ]
        },
        {
          "name": "stdout",
          "output_type": "stream",
          "text": [
            "Logits for hard examples=[tensor([-14.9148]), tensor([12.9185])]\n"
          ]
        },
        {
          "name": "stderr",
          "output_type": "stream",
          "text": [
            " 87%|████████▋ | 8671/10000 [00:20<00:03, 420.12it/s, logits=[tensor([-14.9186]), tensor([12.9199])]]"
          ]
        },
        {
          "name": "stdout",
          "output_type": "stream",
          "text": [
            "Logits for hard examples=[tensor([-14.9186]), tensor([12.9199])]\n"
          ]
        },
        {
          "name": "stderr",
          "output_type": "stream",
          "text": [
            " 88%|████████▊ | 8757/10000 [00:21<00:02, 418.12it/s, logits=[tensor([-14.9224]), tensor([12.9213])]]"
          ]
        },
        {
          "name": "stdout",
          "output_type": "stream",
          "text": [
            "Logits for hard examples=[tensor([-14.9224]), tensor([12.9213])]\n"
          ]
        },
        {
          "name": "stderr",
          "output_type": "stream",
          "text": [
            " 89%|████████▉ | 8883/10000 [00:21<00:02, 417.54it/s, logits=[tensor([-14.9262]), tensor([12.9227])]]"
          ]
        },
        {
          "name": "stdout",
          "output_type": "stream",
          "text": [
            "Logits for hard examples=[tensor([-14.9262]), tensor([12.9227])]\n"
          ]
        },
        {
          "name": "stderr",
          "output_type": "stream",
          "text": [
            " 90%|████████▉ | 8967/10000 [00:21<00:02, 411.45it/s, logits=[tensor([-14.9300]), tensor([12.9240])]]"
          ]
        },
        {
          "name": "stdout",
          "output_type": "stream",
          "text": [
            "Logits for hard examples=[tensor([-14.9300]), tensor([12.9240])]\n"
          ]
        },
        {
          "name": "stderr",
          "output_type": "stream",
          "text": [
            " 91%|█████████ | 9051/10000 [00:21<00:02, 402.32it/s, logits=[tensor([-14.9338]), tensor([12.9254])]]"
          ]
        },
        {
          "name": "stdout",
          "output_type": "stream",
          "text": [
            "Logits for hard examples=[tensor([-14.9338]), tensor([12.9254])]\n"
          ]
        },
        {
          "name": "stderr",
          "output_type": "stream",
          "text": [
            " 92%|█████████▏| 9178/10000 [00:22<00:02, 409.09it/s, logits=[tensor([-14.9375]), tensor([12.9267])]]"
          ]
        },
        {
          "name": "stdout",
          "output_type": "stream",
          "text": [
            "Logits for hard examples=[tensor([-14.9375]), tensor([12.9267])]\n"
          ]
        },
        {
          "name": "stderr",
          "output_type": "stream",
          "text": [
            " 93%|█████████▎| 9262/10000 [00:22<00:01, 410.55it/s, logits=[tensor([-14.9412]), tensor([12.9281])]]"
          ]
        },
        {
          "name": "stdout",
          "output_type": "stream",
          "text": [
            "Logits for hard examples=[tensor([-14.9412]), tensor([12.9281])]\n"
          ]
        },
        {
          "name": "stderr",
          "output_type": "stream",
          "text": [
            " 93%|█████████▎| 9346/10000 [00:22<00:01, 413.48it/s, logits=[tensor([-14.9449]), tensor([12.9294])]]"
          ]
        },
        {
          "name": "stdout",
          "output_type": "stream",
          "text": [
            "Logits for hard examples=[tensor([-14.9449]), tensor([12.9294])]\n"
          ]
        },
        {
          "name": "stderr",
          "output_type": "stream",
          "text": [
            " 95%|█████████▍| 9476/10000 [00:22<00:01, 424.34it/s, logits=[tensor([-14.9485]), tensor([12.9307])]]"
          ]
        },
        {
          "name": "stdout",
          "output_type": "stream",
          "text": [
            "Logits for hard examples=[tensor([-14.9485]), tensor([12.9307])]\n"
          ]
        },
        {
          "name": "stderr",
          "output_type": "stream",
          "text": [
            " 96%|█████████▌| 9563/10000 [00:22<00:01, 429.39it/s, logits=[tensor([-14.9521]), tensor([12.9321])]]"
          ]
        },
        {
          "name": "stdout",
          "output_type": "stream",
          "text": [
            "Logits for hard examples=[tensor([-14.9521]), tensor([12.9321])]\n"
          ]
        },
        {
          "name": "stderr",
          "output_type": "stream",
          "text": [
            " 97%|█████████▋| 9651/10000 [00:23<00:00, 433.62it/s, logits=[tensor([-14.9557]), tensor([12.9334])]]"
          ]
        },
        {
          "name": "stdout",
          "output_type": "stream",
          "text": [
            "Logits for hard examples=[tensor([-14.9557]), tensor([12.9334])]\n"
          ]
        },
        {
          "name": "stderr",
          "output_type": "stream",
          "text": [
            " 98%|█████████▊| 9783/10000 [00:23<00:00, 428.57it/s, logits=[tensor([-14.9592]), tensor([12.9348])]]"
          ]
        },
        {
          "name": "stdout",
          "output_type": "stream",
          "text": [
            "Logits for hard examples=[tensor([-14.9592]), tensor([12.9348])]\n"
          ]
        },
        {
          "name": "stderr",
          "output_type": "stream",
          "text": [
            " 99%|█████████▊| 9869/10000 [00:23<00:00, 413.37it/s, logits=[tensor([-14.9622]), tensor([12.9361])]]"
          ]
        },
        {
          "name": "stdout",
          "output_type": "stream",
          "text": [
            "Logits for hard examples=[tensor([-14.9622]), tensor([12.9361])]\n"
          ]
        },
        {
          "name": "stderr",
          "output_type": "stream",
          "text": [
            "100%|█████████▉| 9953/10000 [00:23<00:00, 412.94it/s, logits=[tensor([-14.9623]), tensor([12.9374])]]"
          ]
        },
        {
          "name": "stdout",
          "output_type": "stream",
          "text": [
            "Logits for hard examples=[tensor([-14.9623]), tensor([12.9374])]\n"
          ]
        },
        {
          "name": "stderr",
          "output_type": "stream",
          "text": [
            "100%|██████████| 10000/10000 [00:24<00:00, 416.31it/s, logits=[tensor([-14.9623]), tensor([12.9374])]]\n"
          ]
        }
      ],
      "source": [
        "model = train_model(hidden_dim=20, lr=0.01, num_steps=10000)"
      ]
    },
    {
      "cell_type": "markdown",
      "metadata": {
        "id": "HGz_Kig5ldxK",
        "jukit_cell_id": "18VLypK3Ez"
      },
      "source": [
        "## To implement\n",
        "\n",
        "1. Check for what values of `SEQUENCE_LEN` the model is able to discriminate betweeh the two hard examples (after training).\n",
        "2. Instead of training on `HARD_EXAMPLES` only, modify the training loop to train on sequences where zero may be in any position of the sequence (so any valid sequence of `Type 0`, not just the hardest one). After modifying the training loop check for what values of `SEQUENCE_LEN` you can train the model successfully.\n",
        "3. Replace LSTM by a classic RNN and check for what values of `SEQUENCE_LEN` you can train the model successfully.\n",
        "4. Write a proper curricullum learning loop, where in a loop you consider longer and longer sequences, where expansion of the sequence length happens only after the model is trained successfully on the current length.\n",
        "\n",
        "Note that for steps 2-4 you may need to change the value of `num_steps`."
      ]
    },
    {
      "cell_type": "markdown",
      "metadata": {},
      "source": [
        "#### Task 1 \n",
        "Check for what values of `SEQUENCE_LEN` the model is able to discriminate betweeh the two hard examples (after training)."
      ]
    },
    {
      "cell_type": "code",
      "execution_count": 22,
      "metadata": {},
      "outputs": [
        {
          "name": "stdout",
          "output_type": "stream",
          "text": [
            "Logits for hard examples=[tensor([-11.6428]), tensor([12.3284])]\n"
          ]
        },
        {
          "data": {
            "text/plain": [
              "[tensor([-11.6428]), tensor([12.3284])]"
            ]
          },
          "execution_count": 22,
          "metadata": {},
          "output_type": "execute_result"
        }
      ],
      "source": [
        "eval_on_hard_examples(model)"
      ]
    },
    {
      "cell_type": "code",
      "execution_count": 29,
      "metadata": {},
      "outputs": [],
      "source": [
        "def eval_accuracy(model : nn.Module, x : list[list[float]], y : list[int]) -> None:\n",
        "    with torch.no_grad():\n",
        "        correct = 0\n",
        "        for sequence, label in zip(x, y):\n",
        "            input = torch.tensor(sequence).view(-1, 1, 1)\n",
        "            logit = model(input)\n",
        "            if int(logit > 0.5) == label:\n",
        "                correct += 1\n",
        "\n",
        "        accuracy = correct / len(x)\n",
        "        print(f'Accuracy={accuracy * 100:.2f}%')"
      ]
    },
    {
      "cell_type": "code",
      "execution_count": 30,
      "metadata": {},
      "outputs": [
        {
          "name": "stdout",
          "output_type": "stream",
          "text": [
            "Accuracy=100.00%\n"
          ]
        }
      ],
      "source": [
        "eval_accuracy(model, [sequence for sequence, _ in HARD_EXAMPLES],\n",
        "              [label for _, label in HARD_EXAMPLES])"
      ]
    },
    {
      "cell_type": "markdown",
      "metadata": {},
      "source": [
        "### Task 2\n",
        "\n",
        "Instead of training on `HARD_EXAMPLES` only, modify the training loop to train on sequences where zero may be in any position of the sequence (so any valid sequence of `Type 0`, not just the hardest one). After modifying the training loop check for what values of `SEQUENCE_LEN` you can train the model successfully.\n"
      ]
    },
    {
      "cell_type": "code",
      "execution_count": 31,
      "metadata": {},
      "outputs": [],
      "source": [
        "def train_model(hidden_dim: int, x : list[list[float]], y : list[int],\n",
        "                 lr: float, num_steps:int = 10000) -> Model:\n",
        "    model = Model(hidden_dim=hidden_dim)\n",
        "    loss_function = nn.BCEWithLogitsLoss()\n",
        "    optimizer = optim.SGD(model.parameters(), lr=lr, momentum=0.99)\n",
        "\n",
        "    pbar = tqdm(range(num_steps))\n",
        "    for _ in pbar:\n",
        "\n",
        "        for sequence, label in zip(x, y):\n",
        "            model.zero_grad()\n",
        "            logit = model(torch.tensor(sequence).view(-1, 1, 1))\n",
        "\n",
        "            loss = loss_function(logit.view(-1), torch.tensor([label], dtype=torch.float32))\n",
        "            loss.backward()\n",
        "\n",
        "            optimizer.step()\n",
        "\n",
        "    return model"
      ]
    },
    {
      "cell_type": "code",
      "execution_count": null,
      "metadata": {},
      "outputs": [],
      "source": [
        "def generate_data(sequence_len: int, num_examples: int) -> tuple[list[list[float]], list[int]]:\n",
        "    x = []\n",
        "    y = []\n",
        "    for _ in range(num_examples):\n",
        "        sequence = sequence_len * [1.]\n",
        "        label = 1\n",
        "        if torch.rand(1) > 0.5:\n",
        "            sequence[torch.randint(0, sequence_len, (1,))[0]] = 0.\n",
        "            label = 0\n",
        "\n",
        "        x.append(sequence)\n",
        "        y.append(label)\n",
        "\n",
        "    return x, y"
      ]
    },
    {
      "cell_type": "markdown",
      "metadata": {},
      "source": [
        "### Task 3\n",
        "\n",
        "Replace LSTM by a classic RNN and check for what values of `SEQUENCE_LEN` you can train the model successfully.\n"
      ]
    },
    {
      "cell_type": "markdown",
      "metadata": {},
      "source": [
        "### Task 4\n",
        "\n",
        "Write a proper curricullum learning loop, where in a loop you consider longer and longer sequences, where expansion of the sequence length happens only after the model is trained successfully on the current length.\n"
      ]
    }
  ],
  "metadata": {
    "anaconda-cloud": {},
    "colab": {
      "provenance": []
    },
    "kernelspec": {
      "display_name": "python",
      "language": "python",
      "name": "python3"
    },
    "language_info": {
      "codemirror_mode": {
        "name": "ipython",
        "version": 3
      },
      "file_extension": ".py",
      "mimetype": "text/x-python",
      "name": "python",
      "nbconvert_exporter": "python",
      "pygments_lexer": "ipython3",
      "version": "3.11.6"
    }
  },
  "nbformat": 4,
  "nbformat_minor": 0
}
