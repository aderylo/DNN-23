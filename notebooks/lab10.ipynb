{
  "cells": [
    {
      "cell_type": "markdown",
      "metadata": {
        "id": "ewQyT01qldxD",
        "jukit_cell_id": "KE8mdQxOzy"
      },
      "source": [
        "<center><img src='https://drive.google.com/uc?id=1_utx_ZGclmCwNttSe40kYA6VHzNocdET' height=\"60\"></center>\n",
        "\n",
        "AI TECH - Akademia Innowacyjnych Zastosowań Technologii Cyfrowych. Program Operacyjny Polska Cyfrowa na lata 2014-2020\n",
        "<hr>\n",
        "\n",
        "<center><img src='https://drive.google.com/uc?id=1BXZ0u3562N_MqCLcekI-Ens77Kk4LpPm'></center>\n",
        "\n",
        "<center>\n",
        "Projekt współfinansowany ze środków Unii Europejskiej w ramach Europejskiego Funduszu Rozwoju Regionalnego\n",
        "Program Operacyjny Polska Cyfrowa na lata 2014-2020,\n",
        "Oś Priorytetowa nr 3 \"Cyfrowe kompetencje społeczeństwa\" Działanie  nr 3.2 \"Innowacyjne rozwiązania na rzecz aktywizacji cyfrowej\"\n",
        "Tytuł projektu:  „Akademia Innowacyjnych Zastosowań Technologii Cyfrowych (AI Tech)”\n",
        "    </center>"
      ]
    },
    {
      "cell_type": "markdown",
      "metadata": {
        "id": "dH6S4Q3eldxE",
        "jukit_cell_id": "oJh0BINGcc"
      },
      "source": [
        "# TL;DR\n",
        "\n",
        "1. In this lab scenario you will have a chance to compare performance of the classic RNN and LSTM on a toy example.\n",
        "2. This toy example will show that maintaining memory over even 20 steps is non-trivial.\n",
        "3. Finally, you will see how curriculum learning may allow to train a model on larger sequences.\n",
        "\n",
        "# Problem definition\n",
        "\n",
        "Here we consider a toy example, where the goal is to discriminate between two types of binary sequences:\n",
        "* [Type 0] a sequence with exactly one zero (remaining entries are equal to one).\n",
        "* [Type 1] a sequence full of ones,\n",
        "\n",
        "We are especially interested in the performance of the trained models on discriminating between a sequence full of ones versus a sequence with leading zero followed by ones. Note that in this case the goal of the model is to output the first element of the sequence, as the label (sequence type) is fully determined by the first element of the sequence."
      ]
    },
    {
      "cell_type": "markdown",
      "metadata": {
        "id": "RQCdAiDEldxE",
        "jukit_cell_id": "wtfph2WpCZ"
      },
      "source": [
        "#Implementation"
      ]
    },
    {
      "cell_type": "markdown",
      "metadata": {
        "id": "8qAHYwf2ldxE",
        "jukit_cell_id": "cx7ozEWkZg"
      },
      "source": [
        "## Importing torch\n",
        "\n",
        "Install `torch` and `torchvision`"
      ]
    },
    {
      "cell_type": "code",
      "execution_count": 1,
      "metadata": {
        "id": "35_ui2i7ldxF",
        "jukit_cell_id": "CQdcvU4fiD"
      },
      "outputs": [
        {
          "name": "stdout",
          "output_type": "stream",
          "text": [
            "Requirement already satisfied: torch in /Users/aderylo/work/dnn/.venv/lib/python3.11/site-packages (2.1.0)\n",
            "Requirement already satisfied: torchvision in /Users/aderylo/work/dnn/.venv/lib/python3.11/site-packages (0.16.0)\n",
            "Requirement already satisfied: filelock in /Users/aderylo/work/dnn/.venv/lib/python3.11/site-packages (from torch) (3.13.1)\n",
            "Requirement already satisfied: typing-extensions in /Users/aderylo/work/dnn/.venv/lib/python3.11/site-packages (from torch) (4.8.0)\n",
            "Requirement already satisfied: sympy in /Users/aderylo/work/dnn/.venv/lib/python3.11/site-packages (from torch) (1.12)\n",
            "Requirement already satisfied: networkx in /Users/aderylo/work/dnn/.venv/lib/python3.11/site-packages (from torch) (3.2.1)\n",
            "Requirement already satisfied: jinja2 in /Users/aderylo/work/dnn/.venv/lib/python3.11/site-packages (from torch) (3.1.2)\n",
            "Requirement already satisfied: fsspec in /Users/aderylo/work/dnn/.venv/lib/python3.11/site-packages (from torch) (2023.10.0)\n",
            "Requirement already satisfied: numpy in /Users/aderylo/work/dnn/.venv/lib/python3.11/site-packages (from torchvision) (1.26.1)\n",
            "Requirement already satisfied: requests in /Users/aderylo/work/dnn/.venv/lib/python3.11/site-packages (from torchvision) (2.31.0)\n",
            "Requirement already satisfied: pillow!=8.3.*,>=5.3.0 in /Users/aderylo/work/dnn/.venv/lib/python3.11/site-packages (from torchvision) (10.1.0)\n",
            "Requirement already satisfied: MarkupSafe>=2.0 in /Users/aderylo/work/dnn/.venv/lib/python3.11/site-packages (from jinja2->torch) (2.1.3)\n",
            "Requirement already satisfied: charset-normalizer<4,>=2 in /Users/aderylo/work/dnn/.venv/lib/python3.11/site-packages (from requests->torchvision) (3.3.2)\n",
            "Requirement already satisfied: idna<4,>=2.5 in /Users/aderylo/work/dnn/.venv/lib/python3.11/site-packages (from requests->torchvision) (3.4)\n",
            "Requirement already satisfied: urllib3<3,>=1.21.1 in /Users/aderylo/work/dnn/.venv/lib/python3.11/site-packages (from requests->torchvision) (2.0.7)\n",
            "Requirement already satisfied: certifi>=2017.4.17 in /Users/aderylo/work/dnn/.venv/lib/python3.11/site-packages (from requests->torchvision) (2023.7.22)\n",
            "Requirement already satisfied: mpmath>=0.19 in /Users/aderylo/work/dnn/.venv/lib/python3.11/site-packages (from sympy->torch) (1.3.0)\n",
            "\n",
            "\u001b[1m[\u001b[0m\u001b[34;49mnotice\u001b[0m\u001b[1;39;49m]\u001b[0m\u001b[39;49m A new release of pip is available: \u001b[0m\u001b[31;49m23.3.1\u001b[0m\u001b[39;49m -> \u001b[0m\u001b[32;49m23.3.2\u001b[0m\n",
            "\u001b[1m[\u001b[0m\u001b[34;49mnotice\u001b[0m\u001b[1;39;49m]\u001b[0m\u001b[39;49m To update, run: \u001b[0m\u001b[32;49mpip install --upgrade pip\u001b[0m\n"
          ]
        }
      ],
      "source": [
        "!pip3 install torch torchvision"
      ]
    },
    {
      "cell_type": "code",
      "execution_count": 2,
      "metadata": {
        "id": "ASoDZODgldxF",
        "jukit_cell_id": "qQCiUqSXtp",
        "outputId": "07535b2b-ed07-49e4-bef1-900fb61aaa7a"
      },
      "outputs": [
        {
          "data": {
            "text/plain": [
              "<torch._C.Generator at 0x120a455f0>"
            ]
          },
          "execution_count": 2,
          "metadata": {},
          "output_type": "execute_result"
        }
      ],
      "source": [
        "import torch\n",
        "import torch.nn as nn\n",
        "import torch.optim as optim\n",
        "import torch.nn.functional as F\n",
        "from typing import List\n",
        "from tqdm import tqdm\n",
        "\n",
        "torch.manual_seed(1)"
      ]
    },
    {
      "cell_type": "markdown",
      "metadata": {
        "id": "osu5f8DkldxG",
        "jukit_cell_id": "IhLStTGQkn"
      },
      "source": [
        "## Understand dimensionality\n",
        "\n",
        "Check the input and output specification [LSTM](https://pytorch.org/docs/stable/generated/torch.nn.LSTM.html) and [RNN](https://pytorch.org/docs/stable/generated/torch.nn.RNN.html). The following snippet shows how we can process\n",
        "a sequence by LSTM and output a vector of size `hidden_dim` after reading\n",
        "each token of the sequence."
      ]
    },
    {
      "cell_type": "code",
      "execution_count": 3,
      "metadata": {
        "id": "EJwOMk2lldxH",
        "jukit_cell_id": "bnw9OesZOX",
        "outputId": "8ea90df6-8525-4dbd-d7b2-5e57537bb773"
      },
      "outputs": [
        {
          "name": "stdout",
          "output_type": "stream",
          "text": [
            "i=0 out=tensor([[[-0.0675,  0.1179,  0.1081,  0.0414, -0.0341]]])\n",
            "i=1 out=tensor([[[-0.1067,  0.1726,  0.1400,  0.0902, -0.0596]]])\n",
            "i=2 out=tensor([[[-0.1148,  0.1885,  0.1956,  0.0974, -0.0840]]])\n",
            "i=3 out=tensor([[[-0.1270,  0.2031,  0.1495,  0.1249, -0.0860]]])\n",
            "i=4 out=tensor([[[-0.1281,  0.2019,  0.1810,  0.1475, -0.1027]]])\n",
            "i=5 out=tensor([[[-0.1274,  0.2060,  0.0798,  0.1330, -0.0860]]])\n",
            "i=6 out=tensor([[[-0.1318,  0.2039,  0.0997,  0.1772, -0.1011]]])\n",
            "i=7 out=tensor([[[-0.1145,  0.2008, -0.0431,  0.1051, -0.0717]]])\n",
            "i=8 out=tensor([[[-0.1289,  0.1989,  0.0515,  0.1944, -0.1030]]])\n",
            "i=9 out=tensor([[[-0.1329,  0.1920,  0.0686,  0.1772, -0.0988]]])\n",
            "Final hidden state=tensor([[[-0.1329,  0.1920,  0.0686,  0.1772, -0.0988]]]) cell state=tensor([[[-0.2590,  0.4080,  0.1307,  0.4329, -0.2895]]])\n"
          ]
        }
      ],
      "source": [
        "hidden_dim = 5\n",
        "lstm = nn.LSTM(1, hidden_dim)  # Input sequence contains elements - vectors of size 1\n",
        "\n",
        "# create a random sequence\n",
        "sequence = [torch.randn(1) for _ in range(10)]\n",
        "\n",
        "# initialize the hidden state (including cell state)\n",
        "hidden = (torch.zeros(1, 1, 5),\n",
        "          torch.zeros(1, 1, 5))\n",
        "\n",
        "for i, elem in enumerate(sequence):\n",
        "  # we are processing only a single element of the sequence, and there\n",
        "  # is only one sample (sequence) in the batch, the third one\n",
        "  # corresponds to the fact that our sequence contains elemenents,\n",
        "  # which can be treated as vectors of size 1\n",
        "  out, hidden = lstm(elem.view(1, 1, 1), hidden)\n",
        "  print(f'i={i} out={out.detach()}')\n",
        "print(f'Final hidden state={hidden[0].detach()} cell state={hidden[1].detach()}')"
      ]
    },
    {
      "cell_type": "markdown",
      "metadata": {
        "id": "wdG-HEQBldxH",
        "jukit_cell_id": "PRbz6shJ8T"
      },
      "source": [
        "## To implement\n",
        "\n",
        "Process the whole sequence all at once by calling `lstm` only once and check that the output is exactly the same as above (remember to initialize the hidden state the same way)."
      ]
    },
    {
      "cell_type": "code",
      "execution_count": 4,
      "metadata": {
        "id": "SnB1iNUYldxI",
        "jukit_cell_id": "TfIHNzHo3z"
      },
      "outputs": [
        {
          "name": "stdout",
          "output_type": "stream",
          "text": [
            "i=0 out=tensor([[-0.0675,  0.1179,  0.1081,  0.0414, -0.0341]])\n",
            "i=1 out=tensor([[-0.1067,  0.1726,  0.1400,  0.0902, -0.0596]])\n",
            "i=2 out=tensor([[-0.1148,  0.1885,  0.1956,  0.0974, -0.0840]])\n",
            "i=3 out=tensor([[-0.1270,  0.2031,  0.1495,  0.1249, -0.0860]])\n",
            "i=4 out=tensor([[-0.1281,  0.2019,  0.1810,  0.1475, -0.1027]])\n",
            "i=5 out=tensor([[-0.1274,  0.2060,  0.0798,  0.1330, -0.0860]])\n",
            "i=6 out=tensor([[-0.1318,  0.2039,  0.0997,  0.1772, -0.1011]])\n",
            "i=7 out=tensor([[-0.1145,  0.2008, -0.0431,  0.1051, -0.0717]])\n",
            "i=8 out=tensor([[-0.1289,  0.1989,  0.0515,  0.1944, -0.1030]])\n",
            "i=9 out=tensor([[-0.1329,  0.1920,  0.0686,  0.1772, -0.0988]])\n",
            "Final hidden state=tensor([[[-0.1329,  0.1920,  0.0686,  0.1772, -0.0988]]]) cell state=tensor([[[-0.2590,  0.4080,  0.1307,  0.4329, -0.2895]]])\n"
          ]
        }
      ],
      "source": [
        "# #########################################################\n",
        "#                    To implement\n",
        "# #########################################################\n",
        "\n",
        "hidden = (torch.zeros(1, 1, 5),\n",
        "          torch.zeros(1, 1, 5))\n",
        "\n",
        "out, hidden = lstm(torch.stack(sequence).view(len(sequence), 1, 1), hidden)\n",
        "\n",
        "for i in range(len(sequence)):\n",
        "  print(f'i={i} out={out[i].detach()}')\n",
        "print(f'Final hidden state={hidden[0].detach()} cell state={hidden[1].detach()}')"
      ]
    },
    {
      "cell_type": "markdown",
      "metadata": {
        "id": "2F2To8-sldxI",
        "jukit_cell_id": "cRU2lN74fU"
      },
      "source": [
        "## Training a model\n",
        "\n",
        "Below we define a very simple model, which is a single layer of LSTM, where the output in each time step is processed by relu followed by a single fully connected layer, the output of which is a single number. We are going\n",
        "to use the number generated after reading the last element of the sequence,\n",
        "which will serve as the logit for our classification problem."
      ]
    },
    {
      "cell_type": "code",
      "execution_count": 5,
      "metadata": {
        "id": "bl2xrO7jldxJ",
        "jukit_cell_id": "eBgIwv79EA"
      },
      "outputs": [],
      "source": [
        "class Model(nn.Module):\n",
        "\n",
        "    def __init__(self, hidden_dim: int):\n",
        "        super(Model, self).__init__()\n",
        "        self.hidden_dim = hidden_dim\n",
        "        self.lstm = nn.LSTM(1, self.hidden_dim)\n",
        "        self.hidden2label = nn.Linear(hidden_dim, 1)\n",
        "\n",
        "    def forward(self, x: torch.Tensor) -> torch.Tensor:\n",
        "        out, _ = self.lstm(x)\n",
        "        sequence_len = x.shape[0]\n",
        "        logits = self.hidden2label(F.relu(out[-1].view(-1)))\n",
        "        return logits"
      ]
    },
    {
      "cell_type": "markdown",
      "metadata": {
        "id": "Xb8FmKVYldxJ",
        "jukit_cell_id": "JgMaOabC4s"
      },
      "source": [
        "Below is a training loop, where we only train on the two hardest examples."
      ]
    },
    {
      "cell_type": "code",
      "execution_count": 6,
      "metadata": {
        "id": "a-bb_Ep_ldxJ",
        "jukit_cell_id": "H2wpWYlQ1Q"
      },
      "outputs": [],
      "source": [
        "SEQUENCE_LEN = 10\n",
        "\n",
        "# Pairs of (sequence, label)\n",
        "HARD_EXAMPLES = [([0.]+(SEQUENCE_LEN-1)*[1.], 0),\n",
        "                 (SEQUENCE_LEN*[1.], 1)]\n",
        "\n",
        "\n",
        "def eval_on_hard_examples(model: nn.Module) -> List[float]:\n",
        "    with torch.no_grad():\n",
        "        logits = []\n",
        "        for sequence in HARD_EXAMPLES:\n",
        "            input = torch.tensor(sequence[0]).view(-1, 1, 1)\n",
        "            logit = model(input)\n",
        "            logits.append(logit.detach())\n",
        "        print(f'Logits for hard examples={logits}')\n",
        "        return logits\n",
        "\n",
        "\n",
        "def train_model(hidden_dim: int, lr: float, num_steps:int = 10000) -> None:\n",
        "    model = Model(hidden_dim=hidden_dim)\n",
        "    loss_function = nn.BCEWithLogitsLoss()\n",
        "    optimizer = optim.SGD(model.parameters(), lr=lr, momentum=0.99)\n",
        "\n",
        "    pbar = tqdm(range(num_steps))\n",
        "    for step in pbar:\n",
        "        if step % 100 == 0:\n",
        "            logits = eval_on_hard_examples(model)\n",
        "            pbar.set_postfix(logits=logits)\n",
        "\n",
        "        for sequence, label in HARD_EXAMPLES:\n",
        "            model.zero_grad()\n",
        "            logit = model(torch.tensor(sequence).view(-1, 1, 1))\n",
        "\n",
        "            loss = loss_function(logit.view(-1), torch.tensor([label], dtype=torch.float32))\n",
        "            loss.backward()\n",
        "\n",
        "            optimizer.step()"
      ]
    },
    {
      "cell_type": "code",
      "execution_count": 7,
      "metadata": {
        "id": "QfvyuYCmldxK",
        "jukit_cell_id": "jRW2K012Zt",
        "outputId": "8c9632f7-d2fa-4fb4-b61e-f1f1b8fa0c5b"
      },
      "outputs": [
        {
          "name": "stderr",
          "output_type": "stream",
          "text": [
            "  1%|          | 70/10000 [00:00<00:27, 362.99it/s, logits=[tensor([-0.1775]), tensor([-0.1774])]]"
          ]
        },
        {
          "name": "stdout",
          "output_type": "stream",
          "text": [
            "Logits for hard examples=[tensor([-0.1775]), tensor([-0.1774])]\n"
          ]
        },
        {
          "name": "stderr",
          "output_type": "stream",
          "text": [
            "  2%|▏         | 154/10000 [00:00<00:24, 399.33it/s, logits=[tensor([0.0095]), tensor([0.0097])]] "
          ]
        },
        {
          "name": "stdout",
          "output_type": "stream",
          "text": [
            "Logits for hard examples=[tensor([0.0095]), tensor([0.0097])]\n"
          ]
        },
        {
          "name": "stderr",
          "output_type": "stream",
          "text": [
            "  3%|▎         | 280/10000 [00:00<00:23, 413.26it/s, logits=[tensor([0.0259]), tensor([0.0263])]]"
          ]
        },
        {
          "name": "stdout",
          "output_type": "stream",
          "text": [
            "Logits for hard examples=[tensor([0.0259]), tensor([0.0263])]\n"
          ]
        },
        {
          "name": "stderr",
          "output_type": "stream",
          "text": [
            "  4%|▎         | 364/10000 [00:00<00:23, 410.20it/s, logits=[tensor([-0.0017]), tensor([-0.0009])]]"
          ]
        },
        {
          "name": "stdout",
          "output_type": "stream",
          "text": [
            "Logits for hard examples=[tensor([-0.0017]), tensor([-0.0009])]\n"
          ]
        },
        {
          "name": "stderr",
          "output_type": "stream",
          "text": [
            "  4%|▍         | 449/10000 [00:01<00:23, 409.32it/s, logits=[tensor([-0.0034]), tensor([7.1801e-05])]]"
          ]
        },
        {
          "name": "stdout",
          "output_type": "stream",
          "text": [
            "Logits for hard examples=[tensor([-0.0034]), tensor([7.1801e-05])]\n"
          ]
        },
        {
          "name": "stderr",
          "output_type": "stream",
          "text": [
            "  6%|▌         | 576/10000 [00:01<00:23, 409.19it/s, logits=[tensor([-3.0632]), tensor([3.5531])]]    "
          ]
        },
        {
          "name": "stdout",
          "output_type": "stream",
          "text": [
            "Logits for hard examples=[tensor([-3.0632]), tensor([3.5531])]\n"
          ]
        },
        {
          "name": "stderr",
          "output_type": "stream",
          "text": [
            "  7%|▋         | 659/10000 [00:01<00:22, 409.98it/s, logits=[tensor([-11.0094]), tensor([10.8645])]]"
          ]
        },
        {
          "name": "stdout",
          "output_type": "stream",
          "text": [
            "Logits for hard examples=[tensor([-11.0094]), tensor([10.8645])]\n"
          ]
        },
        {
          "name": "stderr",
          "output_type": "stream",
          "text": [
            "  7%|▋         | 745/10000 [00:01<00:22, 417.72it/s, logits=[tensor([-12.1567]), tensor([11.9191])]]"
          ]
        },
        {
          "name": "stdout",
          "output_type": "stream",
          "text": [
            "Logits for hard examples=[tensor([-12.1567]), tensor([11.9191])]\n"
          ]
        },
        {
          "name": "stderr",
          "output_type": "stream",
          "text": [
            "  9%|▊         | 872/10000 [00:02<00:21, 420.11it/s, logits=[tensor([-12.3136]), tensor([12.0644])]]"
          ]
        },
        {
          "name": "stdout",
          "output_type": "stream",
          "text": [
            "Logits for hard examples=[tensor([-12.3136]), tensor([12.0644])]\n"
          ]
        },
        {
          "name": "stderr",
          "output_type": "stream",
          "text": [
            " 10%|▉         | 960/10000 [00:02<00:21, 426.87it/s, logits=[tensor([-12.3368]), tensor([12.0874])]]"
          ]
        },
        {
          "name": "stdout",
          "output_type": "stream",
          "text": [
            "Logits for hard examples=[tensor([-12.3368]), tensor([12.0874])]\n"
          ]
        },
        {
          "name": "stderr",
          "output_type": "stream",
          "text": [
            " 10%|█         | 1046/10000 [00:02<00:21, 424.41it/s, logits=[tensor([-12.3421]), tensor([12.0939])]]"
          ]
        },
        {
          "name": "stdout",
          "output_type": "stream",
          "text": [
            "Logits for hard examples=[tensor([-12.3421]), tensor([12.0939])]\n"
          ]
        },
        {
          "name": "stderr",
          "output_type": "stream",
          "text": [
            " 12%|█▏        | 1177/10000 [00:02<00:20, 426.57it/s, logits=[tensor([-12.3448]), tensor([12.0982])]]"
          ]
        },
        {
          "name": "stdout",
          "output_type": "stream",
          "text": [
            "Logits for hard examples=[tensor([-12.3448]), tensor([12.0982])]\n"
          ]
        },
        {
          "name": "stderr",
          "output_type": "stream",
          "text": [
            " 13%|█▎        | 1263/10000 [00:03<00:20, 419.82it/s, logits=[tensor([-12.3473]), tensor([12.1022])]]"
          ]
        },
        {
          "name": "stdout",
          "output_type": "stream",
          "text": [
            "Logits for hard examples=[tensor([-12.3473]), tensor([12.1022])]\n"
          ]
        },
        {
          "name": "stderr",
          "output_type": "stream",
          "text": [
            " 13%|█▎        | 1347/10000 [00:03<00:20, 414.38it/s, logits=[tensor([-12.3498]), tensor([12.1062])]]"
          ]
        },
        {
          "name": "stdout",
          "output_type": "stream",
          "text": [
            "Logits for hard examples=[tensor([-12.3498]), tensor([12.1062])]\n"
          ]
        },
        {
          "name": "stderr",
          "output_type": "stream",
          "text": [
            " 15%|█▍        | 1473/10000 [00:03<00:20, 409.95it/s, logits=[tensor([-12.3523]), tensor([12.1101])]]"
          ]
        },
        {
          "name": "stdout",
          "output_type": "stream",
          "text": [
            "Logits for hard examples=[tensor([-12.3523]), tensor([12.1101])]\n"
          ]
        },
        {
          "name": "stderr",
          "output_type": "stream",
          "text": [
            " 16%|█▌        | 1555/10000 [00:03<00:21, 394.45it/s, logits=[tensor([-12.3547]), tensor([12.1140])]]"
          ]
        },
        {
          "name": "stdout",
          "output_type": "stream",
          "text": [
            "Logits for hard examples=[tensor([-12.3547]), tensor([12.1140])]\n"
          ]
        },
        {
          "name": "stderr",
          "output_type": "stream",
          "text": [
            " 17%|█▋        | 1681/10000 [00:04<00:20, 407.21it/s, logits=[tensor([-12.3571]), tensor([12.1179])]]"
          ]
        },
        {
          "name": "stdout",
          "output_type": "stream",
          "text": [
            "Logits for hard examples=[tensor([-12.3571]), tensor([12.1179])]\n"
          ]
        },
        {
          "name": "stderr",
          "output_type": "stream",
          "text": [
            " 18%|█▊        | 1764/10000 [00:04<00:20, 408.09it/s, logits=[tensor([-12.3595]), tensor([12.1218])]]"
          ]
        },
        {
          "name": "stdout",
          "output_type": "stream",
          "text": [
            "Logits for hard examples=[tensor([-12.3595]), tensor([12.1218])]\n"
          ]
        },
        {
          "name": "stderr",
          "output_type": "stream",
          "text": [
            " 18%|█▊        | 1850/10000 [00:04<00:19, 415.70it/s, logits=[tensor([-12.3619]), tensor([12.1257])]]"
          ]
        },
        {
          "name": "stdout",
          "output_type": "stream",
          "text": [
            "Logits for hard examples=[tensor([-12.3619]), tensor([12.1257])]\n"
          ]
        },
        {
          "name": "stderr",
          "output_type": "stream",
          "text": [
            " 20%|█▉        | 1978/10000 [00:04<00:19, 419.25it/s, logits=[tensor([-12.3643]), tensor([12.1295])]]"
          ]
        },
        {
          "name": "stdout",
          "output_type": "stream",
          "text": [
            "Logits for hard examples=[tensor([-12.3643]), tensor([12.1295])]\n"
          ]
        },
        {
          "name": "stderr",
          "output_type": "stream",
          "text": [
            " 21%|██        | 2063/10000 [00:05<00:18, 418.73it/s, logits=[tensor([-12.3667]), tensor([12.1333])]]"
          ]
        },
        {
          "name": "stdout",
          "output_type": "stream",
          "text": [
            "Logits for hard examples=[tensor([-12.3667]), tensor([12.1333])]\n"
          ]
        },
        {
          "name": "stderr",
          "output_type": "stream",
          "text": [
            " 21%|██▏       | 2147/10000 [00:05<00:18, 415.68it/s, logits=[tensor([-12.3691]), tensor([12.1372])]]"
          ]
        },
        {
          "name": "stdout",
          "output_type": "stream",
          "text": [
            "Logits for hard examples=[tensor([-12.3691]), tensor([12.1372])]\n"
          ]
        },
        {
          "name": "stderr",
          "output_type": "stream",
          "text": [
            " 23%|██▎       | 2276/10000 [00:05<00:18, 421.03it/s, logits=[tensor([-12.3714]), tensor([12.1410])]]"
          ]
        },
        {
          "name": "stdout",
          "output_type": "stream",
          "text": [
            "Logits for hard examples=[tensor([-12.3714]), tensor([12.1410])]\n"
          ]
        },
        {
          "name": "stderr",
          "output_type": "stream",
          "text": [
            " 24%|██▎       | 2361/10000 [00:05<00:18, 412.67it/s, logits=[tensor([-12.3737]), tensor([12.1448])]]"
          ]
        },
        {
          "name": "stdout",
          "output_type": "stream",
          "text": [
            "Logits for hard examples=[tensor([-12.3737]), tensor([12.1448])]\n"
          ]
        },
        {
          "name": "stderr",
          "output_type": "stream",
          "text": [
            " 24%|██▍       | 2445/10000 [00:05<00:18, 411.81it/s, logits=[tensor([-12.3761]), tensor([12.1486])]]"
          ]
        },
        {
          "name": "stdout",
          "output_type": "stream",
          "text": [
            "Logits for hard examples=[tensor([-12.3761]), tensor([12.1486])]\n"
          ]
        },
        {
          "name": "stderr",
          "output_type": "stream",
          "text": [
            " 26%|██▌       | 2572/10000 [00:06<00:18, 412.52it/s, logits=[tensor([-12.3784]), tensor([12.1523])]]"
          ]
        },
        {
          "name": "stdout",
          "output_type": "stream",
          "text": [
            "Logits for hard examples=[tensor([-12.3784]), tensor([12.1523])]\n"
          ]
        },
        {
          "name": "stderr",
          "output_type": "stream",
          "text": [
            " 27%|██▋       | 2656/10000 [00:06<00:17, 409.47it/s, logits=[tensor([-12.3808]), tensor([12.1560])]]"
          ]
        },
        {
          "name": "stdout",
          "output_type": "stream",
          "text": [
            "Logits for hard examples=[tensor([-12.3808]), tensor([12.1560])]\n"
          ]
        },
        {
          "name": "stderr",
          "output_type": "stream",
          "text": [
            " 28%|██▊       | 2783/10000 [00:06<00:17, 413.25it/s, logits=[tensor([-12.3831]), tensor([12.1597])]]"
          ]
        },
        {
          "name": "stdout",
          "output_type": "stream",
          "text": [
            "Logits for hard examples=[tensor([-12.3831]), tensor([12.1597])]\n"
          ]
        },
        {
          "name": "stderr",
          "output_type": "stream",
          "text": [
            " 29%|██▊       | 2866/10000 [00:06<00:17, 408.79it/s, logits=[tensor([-12.3854]), tensor([12.1634])]]"
          ]
        },
        {
          "name": "stdout",
          "output_type": "stream",
          "text": [
            "Logits for hard examples=[tensor([-12.3854]), tensor([12.1634])]\n"
          ]
        },
        {
          "name": "stderr",
          "output_type": "stream",
          "text": [
            " 30%|██▉       | 2950/10000 [00:07<00:17, 411.27it/s, logits=[tensor([-12.3877]), tensor([12.1670])]]"
          ]
        },
        {
          "name": "stdout",
          "output_type": "stream",
          "text": [
            "Logits for hard examples=[tensor([-12.3877]), tensor([12.1670])]\n"
          ]
        },
        {
          "name": "stderr",
          "output_type": "stream",
          "text": [
            " 31%|███       | 3076/10000 [00:07<00:17, 400.13it/s, logits=[tensor([-12.3900]), tensor([12.1707])]]"
          ]
        },
        {
          "name": "stdout",
          "output_type": "stream",
          "text": [
            "Logits for hard examples=[tensor([-12.3900]), tensor([12.1707])]\n"
          ]
        },
        {
          "name": "stderr",
          "output_type": "stream",
          "text": [
            " 32%|███▏      | 3159/10000 [00:07<00:16, 403.40it/s, logits=[tensor([-12.3923]), tensor([12.1743])]]"
          ]
        },
        {
          "name": "stdout",
          "output_type": "stream",
          "text": [
            "Logits for hard examples=[tensor([-12.3923]), tensor([12.1743])]\n"
          ]
        },
        {
          "name": "stderr",
          "output_type": "stream",
          "text": [
            " 32%|███▏      | 3241/10000 [00:07<00:16, 404.12it/s, logits=[tensor([-12.3946]), tensor([12.1779])]]"
          ]
        },
        {
          "name": "stdout",
          "output_type": "stream",
          "text": [
            "Logits for hard examples=[tensor([-12.3946]), tensor([12.1779])]\n"
          ]
        },
        {
          "name": "stderr",
          "output_type": "stream",
          "text": [
            " 34%|███▎      | 3368/10000 [00:08<00:16, 410.12it/s, logits=[tensor([-12.3969]), tensor([12.1814])]]"
          ]
        },
        {
          "name": "stdout",
          "output_type": "stream",
          "text": [
            "Logits for hard examples=[tensor([-12.3969]), tensor([12.1814])]\n"
          ]
        },
        {
          "name": "stderr",
          "output_type": "stream",
          "text": [
            " 35%|███▍      | 3451/10000 [00:08<00:16, 406.90it/s, logits=[tensor([-12.3992]), tensor([12.1850])]]"
          ]
        },
        {
          "name": "stdout",
          "output_type": "stream",
          "text": [
            "Logits for hard examples=[tensor([-12.3992]), tensor([12.1850])]\n"
          ]
        },
        {
          "name": "stderr",
          "output_type": "stream",
          "text": [
            " 36%|███▌      | 3575/10000 [00:08<00:15, 407.29it/s, logits=[tensor([-12.4015]), tensor([12.1886])]]"
          ]
        },
        {
          "name": "stdout",
          "output_type": "stream",
          "text": [
            "Logits for hard examples=[tensor([-12.4015]), tensor([12.1886])]\n"
          ]
        },
        {
          "name": "stderr",
          "output_type": "stream",
          "text": [
            " 37%|███▋      | 3658/10000 [00:08<00:15, 406.66it/s, logits=[tensor([-12.4038]), tensor([12.1922])]]"
          ]
        },
        {
          "name": "stdout",
          "output_type": "stream",
          "text": [
            "Logits for hard examples=[tensor([-12.4038]), tensor([12.1922])]\n"
          ]
        },
        {
          "name": "stderr",
          "output_type": "stream",
          "text": [
            " 37%|███▋      | 3743/10000 [00:09<00:15, 412.87it/s, logits=[tensor([-12.4061]), tensor([12.1957])]]"
          ]
        },
        {
          "name": "stdout",
          "output_type": "stream",
          "text": [
            "Logits for hard examples=[tensor([-12.4061]), tensor([12.1957])]\n"
          ]
        },
        {
          "name": "stderr",
          "output_type": "stream",
          "text": [
            " 39%|███▊      | 3872/10000 [00:09<00:14, 415.86it/s, logits=[tensor([-12.4084]), tensor([12.1992])]]"
          ]
        },
        {
          "name": "stdout",
          "output_type": "stream",
          "text": [
            "Logits for hard examples=[tensor([-12.4084]), tensor([12.1992])]\n"
          ]
        },
        {
          "name": "stderr",
          "output_type": "stream",
          "text": [
            " 40%|███▉      | 3959/10000 [00:09<00:14, 423.87it/s, logits=[tensor([-12.4106]), tensor([12.2027])]]"
          ]
        },
        {
          "name": "stdout",
          "output_type": "stream",
          "text": [
            "Logits for hard examples=[tensor([-12.4106]), tensor([12.2027])]\n"
          ]
        },
        {
          "name": "stderr",
          "output_type": "stream",
          "text": [
            " 40%|████      | 4045/10000 [00:09<00:14, 420.53it/s, logits=[tensor([-12.4129]), tensor([12.2063])]]"
          ]
        },
        {
          "name": "stdout",
          "output_type": "stream",
          "text": [
            "Logits for hard examples=[tensor([-12.4129]), tensor([12.2063])]\n"
          ]
        },
        {
          "name": "stderr",
          "output_type": "stream",
          "text": [
            " 42%|████▏     | 4175/10000 [00:10<00:13, 423.93it/s, logits=[tensor([-12.4152]), tensor([12.2098])]]"
          ]
        },
        {
          "name": "stdout",
          "output_type": "stream",
          "text": [
            "Logits for hard examples=[tensor([-12.4152]), tensor([12.2098])]\n"
          ]
        },
        {
          "name": "stderr",
          "output_type": "stream",
          "text": [
            " 43%|████▎     | 4261/10000 [00:10<00:13, 423.29it/s, logits=[tensor([-12.4175]), tensor([12.2133])]]"
          ]
        },
        {
          "name": "stdout",
          "output_type": "stream",
          "text": [
            "Logits for hard examples=[tensor([-12.4175]), tensor([12.2133])]\n"
          ]
        },
        {
          "name": "stderr",
          "output_type": "stream",
          "text": [
            " 43%|████▎     | 4347/10000 [00:10<00:13, 423.70it/s, logits=[tensor([-12.4197]), tensor([12.2168])]]"
          ]
        },
        {
          "name": "stdout",
          "output_type": "stream",
          "text": [
            "Logits for hard examples=[tensor([-12.4197]), tensor([12.2168])]\n"
          ]
        },
        {
          "name": "stderr",
          "output_type": "stream",
          "text": [
            " 45%|████▍     | 4476/10000 [00:10<00:13, 422.09it/s, logits=[tensor([-12.4220]), tensor([12.2203])]]"
          ]
        },
        {
          "name": "stdout",
          "output_type": "stream",
          "text": [
            "Logits for hard examples=[tensor([-12.4220]), tensor([12.2203])]\n"
          ]
        },
        {
          "name": "stderr",
          "output_type": "stream",
          "text": [
            " 46%|████▌     | 4563/10000 [00:11<00:12, 424.07it/s, logits=[tensor([-12.4242]), tensor([12.2237])]]"
          ]
        },
        {
          "name": "stdout",
          "output_type": "stream",
          "text": [
            "Logits for hard examples=[tensor([-12.4242]), tensor([12.2237])]\n"
          ]
        },
        {
          "name": "stderr",
          "output_type": "stream",
          "text": [
            " 46%|████▋     | 4649/10000 [00:11<00:13, 406.50it/s, logits=[tensor([-12.4265]), tensor([12.2271])]]"
          ]
        },
        {
          "name": "stdout",
          "output_type": "stream",
          "text": [
            "Logits for hard examples=[tensor([-12.4265]), tensor([12.2271])]\n"
          ]
        },
        {
          "name": "stderr",
          "output_type": "stream",
          "text": [
            " 48%|████▊     | 4777/10000 [00:11<00:12, 416.09it/s, logits=[tensor([-12.4287]), tensor([12.2306])]]"
          ]
        },
        {
          "name": "stdout",
          "output_type": "stream",
          "text": [
            "Logits for hard examples=[tensor([-12.4287]), tensor([12.2306])]\n"
          ]
        },
        {
          "name": "stderr",
          "output_type": "stream",
          "text": [
            " 49%|████▊     | 4862/10000 [00:11<00:12, 417.45it/s, logits=[tensor([-12.4310]), tensor([12.2340])]]"
          ]
        },
        {
          "name": "stdout",
          "output_type": "stream",
          "text": [
            "Logits for hard examples=[tensor([-12.4310]), tensor([12.2340])]\n"
          ]
        },
        {
          "name": "stderr",
          "output_type": "stream",
          "text": [
            " 49%|████▉     | 4948/10000 [00:11<00:12, 419.01it/s, logits=[tensor([-12.4332]), tensor([12.2374])]]"
          ]
        },
        {
          "name": "stdout",
          "output_type": "stream",
          "text": [
            "Logits for hard examples=[tensor([-12.4332]), tensor([12.2374])]\n"
          ]
        },
        {
          "name": "stderr",
          "output_type": "stream",
          "text": [
            " 51%|█████     | 5078/10000 [00:12<00:11, 420.26it/s, logits=[tensor([-12.4355]), tensor([12.2409])]]"
          ]
        },
        {
          "name": "stdout",
          "output_type": "stream",
          "text": [
            "Logits for hard examples=[tensor([-12.4355]), tensor([12.2409])]\n"
          ]
        },
        {
          "name": "stderr",
          "output_type": "stream",
          "text": [
            " 52%|█████▏    | 5164/10000 [00:12<00:11, 417.40it/s, logits=[tensor([-12.4377]), tensor([12.2443])]]"
          ]
        },
        {
          "name": "stdout",
          "output_type": "stream",
          "text": [
            "Logits for hard examples=[tensor([-12.4377]), tensor([12.2443])]\n"
          ]
        },
        {
          "name": "stderr",
          "output_type": "stream",
          "text": [
            " 52%|█████▎    | 5250/10000 [00:12<00:11, 419.26it/s, logits=[tensor([-12.4400]), tensor([12.2476])]]"
          ]
        },
        {
          "name": "stdout",
          "output_type": "stream",
          "text": [
            "Logits for hard examples=[tensor([-12.4400]), tensor([12.2476])]\n"
          ]
        },
        {
          "name": "stderr",
          "output_type": "stream",
          "text": [
            " 54%|█████▍    | 5381/10000 [00:13<00:10, 424.57it/s, logits=[tensor([-12.4422]), tensor([12.2510])]]"
          ]
        },
        {
          "name": "stdout",
          "output_type": "stream",
          "text": [
            "Logits for hard examples=[tensor([-12.4422]), tensor([12.2510])]\n"
          ]
        },
        {
          "name": "stderr",
          "output_type": "stream",
          "text": [
            " 55%|█████▍    | 5467/10000 [00:13<00:10, 421.63it/s, logits=[tensor([-12.4445]), tensor([12.2543])]]"
          ]
        },
        {
          "name": "stdout",
          "output_type": "stream",
          "text": [
            "Logits for hard examples=[tensor([-12.4445]), tensor([12.2543])]\n"
          ]
        },
        {
          "name": "stderr",
          "output_type": "stream",
          "text": [
            " 56%|█████▌    | 5553/10000 [00:13<00:10, 419.24it/s, logits=[tensor([-12.4467]), tensor([12.2577])]]"
          ]
        },
        {
          "name": "stdout",
          "output_type": "stream",
          "text": [
            "Logits for hard examples=[tensor([-12.4467]), tensor([12.2577])]\n"
          ]
        },
        {
          "name": "stderr",
          "output_type": "stream",
          "text": [
            " 57%|█████▋    | 5684/10000 [00:13<00:10, 424.11it/s, logits=[tensor([-12.4489]), tensor([12.2610])]]"
          ]
        },
        {
          "name": "stdout",
          "output_type": "stream",
          "text": [
            "Logits for hard examples=[tensor([-12.4489]), tensor([12.2610])]\n"
          ]
        },
        {
          "name": "stderr",
          "output_type": "stream",
          "text": [
            " 58%|█████▊    | 5772/10000 [00:13<00:09, 426.16it/s, logits=[tensor([-12.4511]), tensor([12.2644])]]"
          ]
        },
        {
          "name": "stdout",
          "output_type": "stream",
          "text": [
            "Logits for hard examples=[tensor([-12.4511]), tensor([12.2644])]\n"
          ]
        },
        {
          "name": "stderr",
          "output_type": "stream",
          "text": [
            " 59%|█████▊    | 5858/10000 [00:14<00:09, 419.34it/s, logits=[tensor([-12.4534]), tensor([12.2677])]]"
          ]
        },
        {
          "name": "stdout",
          "output_type": "stream",
          "text": [
            "Logits for hard examples=[tensor([-12.4534]), tensor([12.2677])]\n"
          ]
        },
        {
          "name": "stderr",
          "output_type": "stream",
          "text": [
            " 59%|█████▉    | 5944/10000 [00:14<00:09, 419.27it/s, logits=[tensor([-12.4556]), tensor([12.2710])]]"
          ]
        },
        {
          "name": "stdout",
          "output_type": "stream",
          "text": [
            "Logits for hard examples=[tensor([-12.4556]), tensor([12.2710])]\n"
          ]
        },
        {
          "name": "stderr",
          "output_type": "stream",
          "text": [
            " 61%|██████    | 6073/10000 [00:14<00:09, 419.87it/s, logits=[tensor([-12.4578]), tensor([12.2743])]]"
          ]
        },
        {
          "name": "stdout",
          "output_type": "stream",
          "text": [
            "Logits for hard examples=[tensor([-12.4578]), tensor([12.2743])]\n"
          ]
        },
        {
          "name": "stderr",
          "output_type": "stream",
          "text": [
            " 62%|██████▏   | 6158/10000 [00:14<00:09, 409.32it/s, logits=[tensor([-12.4600]), tensor([12.2776])]]"
          ]
        },
        {
          "name": "stdout",
          "output_type": "stream",
          "text": [
            "Logits for hard examples=[tensor([-12.4600]), tensor([12.2776])]\n"
          ]
        },
        {
          "name": "stderr",
          "output_type": "stream",
          "text": [
            " 62%|██████▏   | 6241/10000 [00:15<00:09, 406.06it/s, logits=[tensor([-12.4622]), tensor([12.2809])]]"
          ]
        },
        {
          "name": "stdout",
          "output_type": "stream",
          "text": [
            "Logits for hard examples=[tensor([-12.4622]), tensor([12.2809])]\n"
          ]
        },
        {
          "name": "stderr",
          "output_type": "stream",
          "text": [
            " 64%|██████▎   | 6369/10000 [00:15<00:08, 411.84it/s, logits=[tensor([-12.4644]), tensor([12.2842])]]"
          ]
        },
        {
          "name": "stdout",
          "output_type": "stream",
          "text": [
            "Logits for hard examples=[tensor([-12.4644]), tensor([12.2842])]\n"
          ]
        },
        {
          "name": "stderr",
          "output_type": "stream",
          "text": [
            " 65%|██████▍   | 6455/10000 [00:15<00:08, 418.39it/s, logits=[tensor([-12.4666]), tensor([12.2874])]]"
          ]
        },
        {
          "name": "stdout",
          "output_type": "stream",
          "text": [
            "Logits for hard examples=[tensor([-12.4666]), tensor([12.2874])]\n"
          ]
        },
        {
          "name": "stderr",
          "output_type": "stream",
          "text": [
            " 66%|██████▌   | 6583/10000 [00:15<00:08, 418.67it/s, logits=[tensor([-12.4688]), tensor([12.2907])]]"
          ]
        },
        {
          "name": "stdout",
          "output_type": "stream",
          "text": [
            "Logits for hard examples=[tensor([-12.4688]), tensor([12.2907])]\n"
          ]
        },
        {
          "name": "stderr",
          "output_type": "stream",
          "text": [
            " 67%|██████▋   | 6668/10000 [00:16<00:07, 419.60it/s, logits=[tensor([-12.4710]), tensor([12.2940])]]"
          ]
        },
        {
          "name": "stdout",
          "output_type": "stream",
          "text": [
            "Logits for hard examples=[tensor([-12.4710]), tensor([12.2940])]\n"
          ]
        },
        {
          "name": "stderr",
          "output_type": "stream",
          "text": [
            " 68%|██████▊   | 6752/10000 [00:16<00:07, 416.03it/s, logits=[tensor([-12.4732]), tensor([12.2972])]]"
          ]
        },
        {
          "name": "stdout",
          "output_type": "stream",
          "text": [
            "Logits for hard examples=[tensor([-12.4732]), tensor([12.2972])]\n"
          ]
        },
        {
          "name": "stderr",
          "output_type": "stream",
          "text": [
            " 69%|██████▉   | 6881/10000 [00:16<00:07, 416.93it/s, logits=[tensor([-12.4753]), tensor([12.3004])]]"
          ]
        },
        {
          "name": "stdout",
          "output_type": "stream",
          "text": [
            "Logits for hard examples=[tensor([-12.4753]), tensor([12.3004])]\n"
          ]
        },
        {
          "name": "stderr",
          "output_type": "stream",
          "text": [
            " 70%|██████▉   | 6965/10000 [00:16<00:07, 414.33it/s, logits=[tensor([-12.4775]), tensor([12.3036])]]"
          ]
        },
        {
          "name": "stdout",
          "output_type": "stream",
          "text": [
            "Logits for hard examples=[tensor([-12.4775]), tensor([12.3036])]\n"
          ]
        },
        {
          "name": "stderr",
          "output_type": "stream",
          "text": [
            " 70%|███████   | 7049/10000 [00:17<00:07, 410.86it/s, logits=[tensor([-12.4797]), tensor([12.3069])]]"
          ]
        },
        {
          "name": "stdout",
          "output_type": "stream",
          "text": [
            "Logits for hard examples=[tensor([-12.4797]), tensor([12.3069])]\n"
          ]
        },
        {
          "name": "stderr",
          "output_type": "stream",
          "text": [
            " 72%|███████▏  | 7177/10000 [00:17<00:06, 416.07it/s, logits=[tensor([-12.4819]), tensor([12.3101])]]"
          ]
        },
        {
          "name": "stdout",
          "output_type": "stream",
          "text": [
            "Logits for hard examples=[tensor([-12.4819]), tensor([12.3101])]\n"
          ]
        },
        {
          "name": "stderr",
          "output_type": "stream",
          "text": [
            " 73%|███████▎  | 7261/10000 [00:17<00:06, 414.12it/s, logits=[tensor([-12.4841]), tensor([12.3133])]]"
          ]
        },
        {
          "name": "stdout",
          "output_type": "stream",
          "text": [
            "Logits for hard examples=[tensor([-12.4841]), tensor([12.3133])]\n"
          ]
        },
        {
          "name": "stderr",
          "output_type": "stream",
          "text": [
            " 73%|███████▎  | 7345/10000 [00:17<00:06, 410.46it/s, logits=[tensor([-12.4862]), tensor([12.3165])]]"
          ]
        },
        {
          "name": "stdout",
          "output_type": "stream",
          "text": [
            "Logits for hard examples=[tensor([-12.4862]), tensor([12.3165])]\n"
          ]
        },
        {
          "name": "stderr",
          "output_type": "stream",
          "text": [
            " 75%|███████▍  | 7473/10000 [00:18<00:06, 405.22it/s, logits=[tensor([-12.4884]), tensor([12.3197])]]"
          ]
        },
        {
          "name": "stdout",
          "output_type": "stream",
          "text": [
            "Logits for hard examples=[tensor([-12.4884]), tensor([12.3197])]\n"
          ]
        },
        {
          "name": "stderr",
          "output_type": "stream",
          "text": [
            " 76%|███████▌  | 7556/10000 [00:18<00:06, 407.08it/s, logits=[tensor([-12.4906]), tensor([12.3228])]]"
          ]
        },
        {
          "name": "stdout",
          "output_type": "stream",
          "text": [
            "Logits for hard examples=[tensor([-12.4906]), tensor([12.3228])]\n"
          ]
        },
        {
          "name": "stderr",
          "output_type": "stream",
          "text": [
            " 77%|███████▋  | 7685/10000 [00:18<00:05, 419.54it/s, logits=[tensor([-12.4928]), tensor([12.3259])]]"
          ]
        },
        {
          "name": "stdout",
          "output_type": "stream",
          "text": [
            "Logits for hard examples=[tensor([-12.4928]), tensor([12.3259])]\n"
          ]
        },
        {
          "name": "stderr",
          "output_type": "stream",
          "text": [
            " 78%|███████▊  | 7769/10000 [00:18<00:05, 414.93it/s, logits=[tensor([-12.4950]), tensor([12.3290])]]"
          ]
        },
        {
          "name": "stdout",
          "output_type": "stream",
          "text": [
            "Logits for hard examples=[tensor([-12.4950]), tensor([12.3290])]\n"
          ]
        },
        {
          "name": "stderr",
          "output_type": "stream",
          "text": [
            " 79%|███████▊  | 7854/10000 [00:18<00:05, 416.92it/s, logits=[tensor([-12.4971]), tensor([12.3321])]]"
          ]
        },
        {
          "name": "stdout",
          "output_type": "stream",
          "text": [
            "Logits for hard examples=[tensor([-12.4971]), tensor([12.3321])]\n"
          ]
        },
        {
          "name": "stderr",
          "output_type": "stream",
          "text": [
            " 80%|███████▉  | 7982/10000 [00:19<00:04, 418.32it/s, logits=[tensor([-12.4993]), tensor([12.3352])]]"
          ]
        },
        {
          "name": "stdout",
          "output_type": "stream",
          "text": [
            "Logits for hard examples=[tensor([-12.4993]), tensor([12.3352])]\n"
          ]
        },
        {
          "name": "stderr",
          "output_type": "stream",
          "text": [
            " 81%|████████  | 8066/10000 [00:19<00:04, 416.12it/s, logits=[tensor([-12.5015]), tensor([12.3384])]]"
          ]
        },
        {
          "name": "stdout",
          "output_type": "stream",
          "text": [
            "Logits for hard examples=[tensor([-12.5015]), tensor([12.3384])]\n"
          ]
        },
        {
          "name": "stderr",
          "output_type": "stream",
          "text": [
            " 82%|████████▏ | 8150/10000 [00:19<00:04, 411.67it/s, logits=[tensor([-12.5036]), tensor([12.3415])]]"
          ]
        },
        {
          "name": "stdout",
          "output_type": "stream",
          "text": [
            "Logits for hard examples=[tensor([-12.5036]), tensor([12.3415])]\n"
          ]
        },
        {
          "name": "stderr",
          "output_type": "stream",
          "text": [
            " 83%|████████▎ | 8279/10000 [00:20<00:04, 416.59it/s, logits=[tensor([-12.5058]), tensor([12.3446])]]"
          ]
        },
        {
          "name": "stdout",
          "output_type": "stream",
          "text": [
            "Logits for hard examples=[tensor([-12.5058]), tensor([12.3446])]\n"
          ]
        },
        {
          "name": "stderr",
          "output_type": "stream",
          "text": [
            " 84%|████████▎ | 8366/10000 [00:20<00:03, 419.58it/s, logits=[tensor([-12.5079]), tensor([12.3477])]]"
          ]
        },
        {
          "name": "stdout",
          "output_type": "stream",
          "text": [
            "Logits for hard examples=[tensor([-12.5079]), tensor([12.3477])]\n"
          ]
        },
        {
          "name": "stderr",
          "output_type": "stream",
          "text": [
            " 84%|████████▍ | 8450/10000 [00:20<00:03, 410.02it/s, logits=[tensor([-12.5101]), tensor([12.3507])]]"
          ]
        },
        {
          "name": "stdout",
          "output_type": "stream",
          "text": [
            "Logits for hard examples=[tensor([-12.5101]), tensor([12.3507])]\n"
          ]
        },
        {
          "name": "stderr",
          "output_type": "stream",
          "text": [
            " 86%|████████▌ | 8577/10000 [00:20<00:03, 412.11it/s, logits=[tensor([-12.5123]), tensor([12.3537])]]"
          ]
        },
        {
          "name": "stdout",
          "output_type": "stream",
          "text": [
            "Logits for hard examples=[tensor([-12.5123]), tensor([12.3537])]\n"
          ]
        },
        {
          "name": "stderr",
          "output_type": "stream",
          "text": [
            " 87%|████████▋ | 8662/10000 [00:20<00:03, 415.53it/s, logits=[tensor([-12.5144]), tensor([12.3566])]]"
          ]
        },
        {
          "name": "stdout",
          "output_type": "stream",
          "text": [
            "Logits for hard examples=[tensor([-12.5144]), tensor([12.3566])]\n"
          ]
        },
        {
          "name": "stderr",
          "output_type": "stream",
          "text": [
            " 87%|████████▋ | 8746/10000 [00:21<00:03, 408.25it/s, logits=[tensor([-12.5166]), tensor([12.3596])]]"
          ]
        },
        {
          "name": "stdout",
          "output_type": "stream",
          "text": [
            "Logits for hard examples=[tensor([-12.5166]), tensor([12.3596])]\n"
          ]
        },
        {
          "name": "stderr",
          "output_type": "stream",
          "text": [
            " 89%|████████▉ | 8876/10000 [00:21<00:02, 416.06it/s, logits=[tensor([-12.5188]), tensor([12.3626])]]"
          ]
        },
        {
          "name": "stdout",
          "output_type": "stream",
          "text": [
            "Logits for hard examples=[tensor([-12.5188]), tensor([12.3626])]\n"
          ]
        },
        {
          "name": "stderr",
          "output_type": "stream",
          "text": [
            " 90%|████████▉ | 8960/10000 [00:21<00:02, 412.79it/s, logits=[tensor([-12.5209]), tensor([12.3656])]]"
          ]
        },
        {
          "name": "stdout",
          "output_type": "stream",
          "text": [
            "Logits for hard examples=[tensor([-12.5209]), tensor([12.3656])]\n"
          ]
        },
        {
          "name": "stderr",
          "output_type": "stream",
          "text": [
            " 90%|█████████ | 9045/10000 [00:21<00:02, 416.39it/s, logits=[tensor([-12.5231]), tensor([12.3685])]]"
          ]
        },
        {
          "name": "stdout",
          "output_type": "stream",
          "text": [
            "Logits for hard examples=[tensor([-12.5231]), tensor([12.3685])]\n"
          ]
        },
        {
          "name": "stderr",
          "output_type": "stream",
          "text": [
            " 92%|█████████▏| 9173/10000 [00:22<00:01, 419.44it/s, logits=[tensor([-12.5252]), tensor([12.3715])]]"
          ]
        },
        {
          "name": "stdout",
          "output_type": "stream",
          "text": [
            "Logits for hard examples=[tensor([-12.5252]), tensor([12.3715])]\n"
          ]
        },
        {
          "name": "stderr",
          "output_type": "stream",
          "text": [
            " 93%|█████████▎| 9258/10000 [00:22<00:01, 418.55it/s, logits=[tensor([-12.5274]), tensor([12.3745])]]"
          ]
        },
        {
          "name": "stdout",
          "output_type": "stream",
          "text": [
            "Logits for hard examples=[tensor([-12.5274]), tensor([12.3745])]\n"
          ]
        },
        {
          "name": "stderr",
          "output_type": "stream",
          "text": [
            " 93%|█████████▎| 9342/10000 [00:22<00:01, 414.79it/s, logits=[tensor([-12.5295]), tensor([12.3773])]]"
          ]
        },
        {
          "name": "stdout",
          "output_type": "stream",
          "text": [
            "Logits for hard examples=[tensor([-12.5295]), tensor([12.3773])]\n"
          ]
        },
        {
          "name": "stderr",
          "output_type": "stream",
          "text": [
            " 95%|█████████▍| 9470/10000 [00:22<00:01, 417.90it/s, logits=[tensor([-12.5317]), tensor([12.3802])]]"
          ]
        },
        {
          "name": "stdout",
          "output_type": "stream",
          "text": [
            "Logits for hard examples=[tensor([-12.5317]), tensor([12.3802])]\n"
          ]
        },
        {
          "name": "stderr",
          "output_type": "stream",
          "text": [
            " 96%|█████████▌| 9556/10000 [00:23<00:01, 421.28it/s, logits=[tensor([-12.5338]), tensor([12.3831])]]"
          ]
        },
        {
          "name": "stdout",
          "output_type": "stream",
          "text": [
            "Logits for hard examples=[tensor([-12.5338]), tensor([12.3831])]\n"
          ]
        },
        {
          "name": "stderr",
          "output_type": "stream",
          "text": [
            " 96%|█████████▋| 9642/10000 [00:23<00:00, 420.59it/s, logits=[tensor([-12.5359]), tensor([12.3860])]]"
          ]
        },
        {
          "name": "stdout",
          "output_type": "stream",
          "text": [
            "Logits for hard examples=[tensor([-12.5359]), tensor([12.3860])]\n"
          ]
        },
        {
          "name": "stderr",
          "output_type": "stream",
          "text": [
            " 98%|█████████▊| 9770/10000 [00:23<00:00, 419.38it/s, logits=[tensor([-12.5381]), tensor([12.3889])]]"
          ]
        },
        {
          "name": "stdout",
          "output_type": "stream",
          "text": [
            "Logits for hard examples=[tensor([-12.5381]), tensor([12.3889])]\n"
          ]
        },
        {
          "name": "stderr",
          "output_type": "stream",
          "text": [
            " 99%|█████████▊| 9854/10000 [00:23<00:00, 415.50it/s, logits=[tensor([-12.5402]), tensor([12.3918])]]"
          ]
        },
        {
          "name": "stdout",
          "output_type": "stream",
          "text": [
            "Logits for hard examples=[tensor([-12.5402]), tensor([12.3918])]\n"
          ]
        },
        {
          "name": "stderr",
          "output_type": "stream",
          "text": [
            " 99%|█████████▉| 9939/10000 [00:24<00:00, 409.00it/s, logits=[tensor([-12.5423]), tensor([12.3946])]]"
          ]
        },
        {
          "name": "stdout",
          "output_type": "stream",
          "text": [
            "Logits for hard examples=[tensor([-12.5423]), tensor([12.3946])]\n"
          ]
        },
        {
          "name": "stderr",
          "output_type": "stream",
          "text": [
            "100%|██████████| 10000/10000 [00:24<00:00, 413.99it/s, logits=[tensor([-12.5423]), tensor([12.3946])]]\n"
          ]
        }
      ],
      "source": [
        "train_model(hidden_dim=20, lr=0.01, num_steps=10000)"
      ]
    },
    {
      "cell_type": "markdown",
      "metadata": {
        "id": "HGz_Kig5ldxK",
        "jukit_cell_id": "18VLypK3Ez"
      },
      "source": [
        "## To implement\n",
        "\n",
        "1. Check for what values of `SEQUENCE_LEN` the model is able to discriminate betweeh the two hard examples (after training).\n",
        "2. Instead of training on `HARD_EXAMPLES` only, modify the training loop to train on sequences where zero may be in any position of the sequence (so any valid sequence of `Type 0`, not just the hardest one). After modifying the training loop check for what values of `SEQUENCE_LEN` you can train the model successfully.\n",
        "3. Replace LSTM by a classic RNN and check for what values of `SEQUENCE_LEN` you can train the model successfully.\n",
        "4. Write a proper curricullum learning loop, where in a loop you consider longer and longer sequences, where expansion of the sequence length happens only after the model is trained successfully on the current length.\n",
        "\n",
        "Note that for steps 2-4 you may need to change the value of `num_steps`."
      ]
    }
  ],
  "metadata": {
    "anaconda-cloud": {},
    "colab": {
      "provenance": []
    },
    "kernelspec": {
      "display_name": "python",
      "language": "python",
      "name": "python3"
    },
    "language_info": {
      "codemirror_mode": {
        "name": "ipython",
        "version": 3
      },
      "file_extension": ".py",
      "mimetype": "text/x-python",
      "name": "python",
      "nbconvert_exporter": "python",
      "pygments_lexer": "ipython3",
      "version": "3.11.6"
    }
  },
  "nbformat": 4,
  "nbformat_minor": 0
}
