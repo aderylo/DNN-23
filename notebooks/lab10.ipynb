{
  "cells": [
    {
      "cell_type": "markdown",
      "metadata": {
        "id": "ewQyT01qldxD",
        "jukit_cell_id": "KE8mdQxOzy"
      },
      "source": [
        "<center><img src='https://drive.google.com/uc?id=1_utx_ZGclmCwNttSe40kYA6VHzNocdET' height=\"60\"></center>\n",
        "\n",
        "AI TECH - Akademia Innowacyjnych Zastosowań Technologii Cyfrowych. Program Operacyjny Polska Cyfrowa na lata 2014-2020\n",
        "<hr>\n",
        "\n",
        "<center><img src='https://drive.google.com/uc?id=1BXZ0u3562N_MqCLcekI-Ens77Kk4LpPm'></center>\n",
        "\n",
        "<center>\n",
        "Projekt współfinansowany ze środków Unii Europejskiej w ramach Europejskiego Funduszu Rozwoju Regionalnego\n",
        "Program Operacyjny Polska Cyfrowa na lata 2014-2020,\n",
        "Oś Priorytetowa nr 3 \"Cyfrowe kompetencje społeczeństwa\" Działanie  nr 3.2 \"Innowacyjne rozwiązania na rzecz aktywizacji cyfrowej\"\n",
        "Tytuł projektu:  „Akademia Innowacyjnych Zastosowań Technologii Cyfrowych (AI Tech)”\n",
        "    </center>"
      ]
    },
    {
      "cell_type": "markdown",
      "metadata": {
        "id": "dH6S4Q3eldxE",
        "jukit_cell_id": "oJh0BINGcc"
      },
      "source": [
        "# TL;DR\n",
        "\n",
        "1. In this lab scenario you will have a chance to compare performance of the classic RNN and LSTM on a toy example.\n",
        "2. This toy example will show that maintaining memory over even 20 steps is non-trivial.\n",
        "3. Finally, you will see how curriculum learning may allow to train a model on larger sequences.\n",
        "\n",
        "# Problem definition\n",
        "\n",
        "Here we consider a toy example, where the goal is to discriminate between two types of binary sequences:\n",
        "* [Type 0] a sequence with exactly one zero (remaining entries are equal to one).\n",
        "* [Type 1] a sequence full of ones,\n",
        "\n",
        "We are especially interested in the performance of the trained models on discriminating between a sequence full of ones versus a sequence with leading zero followed by ones. Note that in this case the goal of the model is to output the first element of the sequence, as the label (sequence type) is fully determined by the first element of the sequence."
      ]
    },
    {
      "cell_type": "markdown",
      "metadata": {
        "id": "RQCdAiDEldxE",
        "jukit_cell_id": "wtfph2WpCZ"
      },
      "source": [
        "#Implementation"
      ]
    },
    {
      "cell_type": "markdown",
      "metadata": {
        "id": "8qAHYwf2ldxE",
        "jukit_cell_id": "cx7ozEWkZg"
      },
      "source": [
        "## Importing torch\n",
        "\n",
        "Install `torch` and `torchvision`"
      ]
    },
    {
      "cell_type": "code",
      "execution_count": 4,
      "metadata": {
        "id": "35_ui2i7ldxF",
        "jukit_cell_id": "CQdcvU4fiD"
      },
      "outputs": [
        {
          "name": "stdout",
          "output_type": "stream",
          "text": [
            "Requirement already satisfied: torch in /Users/aderylo/work/dnn/.venv/lib/python3.11/site-packages (2.1.0)\n",
            "Requirement already satisfied: torchvision in /Users/aderylo/work/dnn/.venv/lib/python3.11/site-packages (0.16.0)\n",
            "Requirement already satisfied: filelock in /Users/aderylo/work/dnn/.venv/lib/python3.11/site-packages (from torch) (3.13.1)\n",
            "Requirement already satisfied: typing-extensions in /Users/aderylo/work/dnn/.venv/lib/python3.11/site-packages (from torch) (4.8.0)\n",
            "Requirement already satisfied: sympy in /Users/aderylo/work/dnn/.venv/lib/python3.11/site-packages (from torch) (1.12)\n",
            "Requirement already satisfied: networkx in /Users/aderylo/work/dnn/.venv/lib/python3.11/site-packages (from torch) (3.2.1)\n",
            "Requirement already satisfied: jinja2 in /Users/aderylo/work/dnn/.venv/lib/python3.11/site-packages (from torch) (3.1.2)\n",
            "Requirement already satisfied: fsspec in /Users/aderylo/work/dnn/.venv/lib/python3.11/site-packages (from torch) (2023.10.0)\n",
            "Requirement already satisfied: numpy in /Users/aderylo/work/dnn/.venv/lib/python3.11/site-packages (from torchvision) (1.26.1)\n",
            "Requirement already satisfied: requests in /Users/aderylo/work/dnn/.venv/lib/python3.11/site-packages (from torchvision) (2.31.0)\n",
            "Requirement already satisfied: pillow!=8.3.*,>=5.3.0 in /Users/aderylo/work/dnn/.venv/lib/python3.11/site-packages (from torchvision) (10.1.0)\n",
            "Requirement already satisfied: MarkupSafe>=2.0 in /Users/aderylo/work/dnn/.venv/lib/python3.11/site-packages (from jinja2->torch) (2.1.3)\n",
            "Requirement already satisfied: charset-normalizer<4,>=2 in /Users/aderylo/work/dnn/.venv/lib/python3.11/site-packages (from requests->torchvision) (3.3.2)\n",
            "Requirement already satisfied: idna<4,>=2.5 in /Users/aderylo/work/dnn/.venv/lib/python3.11/site-packages (from requests->torchvision) (3.4)\n",
            "Requirement already satisfied: urllib3<3,>=1.21.1 in /Users/aderylo/work/dnn/.venv/lib/python3.11/site-packages (from requests->torchvision) (2.0.7)\n",
            "Requirement already satisfied: certifi>=2017.4.17 in /Users/aderylo/work/dnn/.venv/lib/python3.11/site-packages (from requests->torchvision) (2023.7.22)\n",
            "Requirement already satisfied: mpmath>=0.19 in /Users/aderylo/work/dnn/.venv/lib/python3.11/site-packages (from sympy->torch) (1.3.0)\n",
            "\n",
            "\u001b[1m[\u001b[0m\u001b[34;49mnotice\u001b[0m\u001b[1;39;49m]\u001b[0m\u001b[39;49m A new release of pip is available: \u001b[0m\u001b[31;49m23.3.1\u001b[0m\u001b[39;49m -> \u001b[0m\u001b[32;49m23.3.2\u001b[0m\n",
            "\u001b[1m[\u001b[0m\u001b[34;49mnotice\u001b[0m\u001b[1;39;49m]\u001b[0m\u001b[39;49m To update, run: \u001b[0m\u001b[32;49mpip install --upgrade pip\u001b[0m\n"
          ]
        }
      ],
      "source": [
        "!pip3 install torch torchvision"
      ]
    },
    {
      "cell_type": "code",
      "execution_count": 5,
      "metadata": {
        "id": "ASoDZODgldxF",
        "jukit_cell_id": "qQCiUqSXtp",
        "outputId": "07535b2b-ed07-49e4-bef1-900fb61aaa7a"
      },
      "outputs": [],
      "source": [
        "import torch\n",
        "import torch.nn as nn\n",
        "import torch.optim as optim\n",
        "import torch.nn.functional as F\n",
        "from typing import List\n",
        "from tqdm import tqdm\n",
        "\n",
        "torch.manual_seed(1)"
      ]
    },
    {
      "cell_type": "markdown",
      "metadata": {
        "id": "osu5f8DkldxG",
        "jukit_cell_id": "IhLStTGQkn"
      },
      "source": [
        "## Understand dimensionality\n",
        "\n",
        "Check the input and output specification [LSTM](https://pytorch.org/docs/stable/generated/torch.nn.LSTM.html) and [RNN](https://pytorch.org/docs/stable/generated/torch.nn.RNN.html). The following snippet shows how we can process\n",
        "a sequence by LSTM and output a vector of size `hidden_dim` after reading\n",
        "each token of the sequence."
      ]
    },
    {
      "cell_type": "code",
      "execution_count": null,
      "metadata": {
        "id": "EJwOMk2lldxH",
        "jukit_cell_id": "bnw9OesZOX",
        "outputId": "8ea90df6-8525-4dbd-d7b2-5e57537bb773"
      },
      "outputs": [
        {
          "name": "stdout",
          "output_type": "stream",
          "text": [
            "i=0 out=tensor([[[-0.0675,  0.1179,  0.1081,  0.0414, -0.0341]]])\n",
            "i=1 out=tensor([[[-0.1067,  0.1726,  0.1400,  0.0902, -0.0596]]])\n",
            "i=2 out=tensor([[[-0.1148,  0.1885,  0.1956,  0.0974, -0.0840]]])\n",
            "i=3 out=tensor([[[-0.1270,  0.2031,  0.1495,  0.1249, -0.0860]]])\n",
            "i=4 out=tensor([[[-0.1281,  0.2019,  0.1810,  0.1475, -0.1027]]])\n",
            "i=5 out=tensor([[[-0.1274,  0.2060,  0.0798,  0.1330, -0.0860]]])\n",
            "i=6 out=tensor([[[-0.1318,  0.2039,  0.0997,  0.1772, -0.1011]]])\n",
            "i=7 out=tensor([[[-0.1145,  0.2008, -0.0431,  0.1051, -0.0717]]])\n",
            "i=8 out=tensor([[[-0.1289,  0.1989,  0.0515,  0.1944, -0.1030]]])\n",
            "i=9 out=tensor([[[-0.1329,  0.1920,  0.0686,  0.1772, -0.0988]]])\n",
            "Final hidden state=tensor([[[-0.1329,  0.1920,  0.0686,  0.1772, -0.0988]]]) cell state=tensor([[[-0.2590,  0.4080,  0.1307,  0.4329, -0.2895]]])\n"
          ]
        }
      ],
      "source": [
        "hidden_dim = 5\n",
        "lstm = nn.LSTM(1, hidden_dim)  # Input sequence contains elements - vectors of size 1\n",
        "\n",
        "# create a random sequence\n",
        "sequence = [torch.randn(1) for _ in range(10)]\n",
        "\n",
        "# initialize the hidden state (including cell state)\n",
        "hidden = (torch.zeros(1, 1, 5),\n",
        "          torch.zeros(1, 1, 5))\n",
        "\n",
        "for i, elem in enumerate(sequence):\n",
        "  # we are processing only a single element of the sequence, and there\n",
        "  # is only one sample (sequence) in the batch, the third one\n",
        "  # corresponds to the fact that our sequence contains elemenents,\n",
        "  # which can be treated as vectors of size 1\n",
        "  out, hidden = lstm(elem.view(1, 1, 1), hidden)\n",
        "  print(f'i={i} out={out.detach()}')\n",
        "print(f'Final hidden state={hidden[0].detach()} cell state={hidden[1].detach()}')"
      ]
    },
    {
      "cell_type": "markdown",
      "metadata": {
        "id": "wdG-HEQBldxH",
        "jukit_cell_id": "PRbz6shJ8T"
      },
      "source": [
        "## To implement\n",
        "\n",
        "Process the whole sequence all at once by calling `lstm` only once and check that the output is exactly the same as above (remember to initialize the hidden state the same way)."
      ]
    },
    {
      "cell_type": "code",
      "execution_count": null,
      "metadata": {
        "id": "SnB1iNUYldxI",
        "jukit_cell_id": "TfIHNzHo3z"
      },
      "outputs": [
        {
          "name": "stdout",
          "output_type": "stream",
          "text": [
            "i=0 out=tensor([[-0.0675,  0.1179,  0.1081,  0.0414, -0.0341]])\n",
            "i=1 out=tensor([[-0.1067,  0.1726,  0.1400,  0.0902, -0.0596]])\n",
            "i=2 out=tensor([[-0.1148,  0.1885,  0.1956,  0.0974, -0.0840]])\n",
            "i=3 out=tensor([[-0.1270,  0.2031,  0.1495,  0.1249, -0.0860]])\n",
            "i=4 out=tensor([[-0.1281,  0.2019,  0.1810,  0.1475, -0.1027]])\n",
            "i=5 out=tensor([[-0.1274,  0.2060,  0.0798,  0.1330, -0.0860]])\n",
            "i=6 out=tensor([[-0.1318,  0.2039,  0.0997,  0.1772, -0.1011]])\n",
            "i=7 out=tensor([[-0.1145,  0.2008, -0.0431,  0.1051, -0.0717]])\n",
            "i=8 out=tensor([[-0.1289,  0.1989,  0.0515,  0.1944, -0.1030]])\n",
            "i=9 out=tensor([[-0.1329,  0.1920,  0.0686,  0.1772, -0.0988]])\n",
            "Final hidden state=tensor([[[-0.1329,  0.1920,  0.0686,  0.1772, -0.0988]]]) cell state=tensor([[[-0.2590,  0.4080,  0.1307,  0.4329, -0.2895]]])\n"
          ]
        }
      ],
      "source": [
        "# #########################################################\n",
        "#                    To implement\n",
        "# #########################################################\n",
        "hidden = (torch.zeros(1, 1, 5),\n",
        "          torch.zeros(1, 1, 5))\n",
        "\n",
        "out, hidden = lstm(torch.stack(sequence).view(len(sequence), 1, 1), hidden)\n",
        "\n",
        "for i in range(len(sequence)):\n",
        "  print(f'i={i} out={out[i].detach()}')\n",
        "print(f'Final hidden state={hidden[0].detach()} cell state={hidden[1].detach()}')"
      ]
    },
    {
      "cell_type": "markdown",
      "metadata": {
        "id": "2F2To8-sldxI",
        "jukit_cell_id": "cRU2lN74fU"
      },
      "source": [
        "## Training a model\n",
        "\n",
        "Below we define a very simple model, which is a single layer of LSTM, where the output in each time step is processed by relu followed by a single fully connected layer, the output of which is a single number. We are going\n",
        "to use the number generated after reading the last element of the sequence,\n",
        "which will serve as the logit for our classification problem."
      ]
    },
    {
      "cell_type": "code",
      "execution_count": null,
      "metadata": {
        "id": "bl2xrO7jldxJ",
        "jukit_cell_id": "eBgIwv79EA"
      },
      "outputs": [],
      "source": [
        "class Model(nn.Module):\n",
        "\n",
        "    def __init__(self, hidden_dim: int):\n",
        "        super(Model, self).__init__()\n",
        "        self.hidden_dim = hidden_dim\n",
        "        self.lstm = nn.LSTM(1, self.hidden_dim)\n",
        "        self.hidden2label = nn.Linear(hidden_dim, 1)\n",
        "\n",
        "    def forward(self, x: torch.Tensor) -> torch.Tensor:\n",
        "        out, _ = self.lstm(x)\n",
        "        sequence_len = x.shape[0]\n",
        "        logits = self.hidden2label(F.relu(out[-1]))\n",
        "        return logits"
      ]
    },
    {
      "cell_type": "markdown",
      "metadata": {
        "id": "Xb8FmKVYldxJ",
        "jukit_cell_id": "JgMaOabC4s"
      },
      "source": [
        "Below is a training loop, where we only train on the two hardest examples."
      ]
    },
    {
      "cell_type": "code",
      "execution_count": null,
      "metadata": {
        "id": "a-bb_Ep_ldxJ",
        "jukit_cell_id": "H2wpWYlQ1Q"
      },
      "outputs": [],
      "source": [
        "SEQUENCE_LEN = 10\n",
        "\n",
        "# Pairs of (sequence, label)\n",
        "HARD_EXAMPLES = [([0.]+(SEQUENCE_LEN-1)*[1.], 0),\n",
        "                 (SEQUENCE_LEN*[1.], 1)]\n",
        "\n",
        "\n",
        "def eval_on_hard_examples(model: nn.Module) -> List[float]:\n",
        "    with torch.no_grad():\n",
        "        logits = []\n",
        "        for sequence in HARD_EXAMPLES:\n",
        "            input = torch.tensor(sequence[0]).view(-1, 1, 1)\n",
        "            logit = model(input)\n",
        "            logits.append(logit.detach())\n",
        "        print(f'Logits for hard examples={logits}')\n",
        "        return logits\n",
        "\n",
        "\n",
        "def train_model(hidden_dim: int, lr: float, num_steps:int = 10000) -> None:\n",
        "    model = Model(hidden_dim=hidden_dim)\n",
        "    loss_function = nn.BCEWithLogitsLoss()\n",
        "    optimizer = optim.SGD(model.parameters(), lr=lr, momentum=0.99)\n",
        "\n",
        "    pbar = tqdm(range(num_steps))\n",
        "    for step in pbar:\n",
        "        if step % 100 == 0:\n",
        "            logits = eval_on_hard_examples(model)\n",
        "            pbar.set_postfix(logits=logits)\n",
        "\n",
        "        for sequence, label in HARD_EXAMPLES:\n",
        "            model.zero_grad()\n",
        "            logit = model(torch.tensor(sequence).view(-1, 1, 1))\n",
        "\n",
        "            loss = loss_function(logit.view(-1), torch.tensor([label], dtype=torch.float32))\n",
        "            loss.backward()\n",
        "\n",
        "            optimizer.step()"
      ]
    },
    {
      "cell_type": "code",
      "execution_count": null,
      "metadata": {
        "id": "QfvyuYCmldxK",
        "jukit_cell_id": "jRW2K012Zt",
        "outputId": "8c9632f7-d2fa-4fb4-b61e-f1f1b8fa0c5b"
      },
      "outputs": [
        {
          "name": "stderr",
          "output_type": "stream",
          "text": [
            "  0%|          | 42/10000 [00:00<00:24, 411.71it/s, logits=[tensor([[-0.1603]]), tensor([[-0.1606]])]]"
          ]
        },
        {
          "name": "stdout",
          "output_type": "stream",
          "text": [
            "Logits for hard examples=[tensor([[-0.1603]]), tensor([[-0.1606]])]\n"
          ]
        },
        {
          "name": "stderr",
          "output_type": "stream",
          "text": [
            "  2%|▏         | 175/10000 [00:00<00:22, 431.26it/s, logits=[tensor([[0.0188]]), tensor([[0.0187]])]] "
          ]
        },
        {
          "name": "stdout",
          "output_type": "stream",
          "text": [
            "Logits for hard examples=[tensor([[0.0188]]), tensor([[0.0187]])]\n"
          ]
        },
        {
          "name": "stderr",
          "output_type": "stream",
          "text": [
            "  3%|▎         | 263/10000 [00:00<00:22, 433.85it/s, logits=[tensor([[0.0211]]), tensor([[0.0211]])]]"
          ]
        },
        {
          "name": "stdout",
          "output_type": "stream",
          "text": [
            "Logits for hard examples=[tensor([[0.0211]]), tensor([[0.0211]])]\n"
          ]
        },
        {
          "name": "stderr",
          "output_type": "stream",
          "text": [
            "  4%|▎         | 353/10000 [00:00<00:21, 439.02it/s, logits=[tensor([[-0.0054]]), tensor([[-0.0054]])]]"
          ]
        },
        {
          "name": "stdout",
          "output_type": "stream",
          "text": [
            "Logits for hard examples=[tensor([[-0.0054]]), tensor([[-0.0054]])]\n"
          ]
        },
        {
          "name": "stderr",
          "output_type": "stream",
          "text": [
            "  5%|▍         | 485/10000 [00:01<00:21, 436.53it/s, logits=[tensor([[0.0013]]), tensor([[0.0014]])]]  "
          ]
        },
        {
          "name": "stdout",
          "output_type": "stream",
          "text": [
            "Logits for hard examples=[tensor([[0.0013]]), tensor([[0.0014]])]\n"
          ]
        },
        {
          "name": "stderr",
          "output_type": "stream",
          "text": [
            "  6%|▌         | 573/10000 [00:01<00:21, 436.26it/s, logits=[tensor([[0.0024]]), tensor([[0.0026]])]]"
          ]
        },
        {
          "name": "stdout",
          "output_type": "stream",
          "text": [
            "Logits for hard examples=[tensor([[0.0024]]), tensor([[0.0026]])]\n"
          ]
        },
        {
          "name": "stderr",
          "output_type": "stream",
          "text": [
            "  7%|▋         | 661/10000 [00:01<00:21, 431.47it/s, logits=[tensor([[0.0012]]), tensor([[0.0016]])]]"
          ]
        },
        {
          "name": "stdout",
          "output_type": "stream",
          "text": [
            "Logits for hard examples=[tensor([[0.0012]]), tensor([[0.0016]])]\n"
          ]
        },
        {
          "name": "stderr",
          "output_type": "stream",
          "text": [
            "  7%|▋         | 748/10000 [00:01<00:21, 423.90it/s, logits=[tensor([[-0.0021]]), tensor([[0.0001]])]]"
          ]
        },
        {
          "name": "stdout",
          "output_type": "stream",
          "text": [
            "Logits for hard examples=[tensor([[-0.0021]]), tensor([[0.0001]])]\n"
          ]
        },
        {
          "name": "stderr",
          "output_type": "stream",
          "text": [
            "  8%|▊         | 834/10000 [00:01<00:23, 386.72it/s, logits=[tensor([[-0.0968]]), tensor([[0.2463]])]]"
          ]
        },
        {
          "name": "stdout",
          "output_type": "stream",
          "text": [
            "Logits for hard examples=[tensor([[-0.0968]]), tensor([[0.2463]])]\n"
          ]
        },
        {
          "name": "stderr",
          "output_type": "stream",
          "text": [
            " 10%|▉         | 970/10000 [00:02<00:21, 424.95it/s, logits=[tensor([[-12.1992]]), tensor([[9.3808]])]]"
          ]
        },
        {
          "name": "stdout",
          "output_type": "stream",
          "text": [
            "Logits for hard examples=[tensor([[-12.1992]]), tensor([[9.3808]])]\n"
          ]
        },
        {
          "name": "stderr",
          "output_type": "stream",
          "text": [
            " 11%|█         | 1057/10000 [00:02<00:20, 426.98it/s, logits=[tensor([[-14.8050]]), tensor([[11.1799]])]]"
          ]
        },
        {
          "name": "stdout",
          "output_type": "stream",
          "text": [
            "Logits for hard examples=[tensor([[-14.8050]]), tensor([[11.1799]])]\n"
          ]
        },
        {
          "name": "stderr",
          "output_type": "stream",
          "text": [
            " 12%|█▏        | 1186/10000 [00:02<00:20, 427.55it/s, logits=[tensor([[-15.1520]]), tensor([[11.4337]])]]"
          ]
        },
        {
          "name": "stdout",
          "output_type": "stream",
          "text": [
            "Logits for hard examples=[tensor([[-15.1520]]), tensor([[11.4337]])]\n"
          ]
        },
        {
          "name": "stderr",
          "output_type": "stream",
          "text": [
            " 13%|█▎        | 1276/10000 [00:02<00:20, 435.77it/s, logits=[tensor([[-15.1977]]), tensor([[11.4754]])]]"
          ]
        },
        {
          "name": "stdout",
          "output_type": "stream",
          "text": [
            "Logits for hard examples=[tensor([[-15.1977]]), tensor([[11.4754]])]\n"
          ]
        },
        {
          "name": "stderr",
          "output_type": "stream",
          "text": [
            " 14%|█▎        | 1364/10000 [00:03<00:19, 435.25it/s, logits=[tensor([[-15.2031]]), tensor([[11.4883]])]]"
          ]
        },
        {
          "name": "stdout",
          "output_type": "stream",
          "text": [
            "Logits for hard examples=[tensor([[-15.2031]]), tensor([[11.4883]])]\n"
          ]
        },
        {
          "name": "stderr",
          "output_type": "stream",
          "text": [
            " 15%|█▍        | 1453/10000 [00:03<00:19, 438.83it/s, logits=[tensor([[-15.2031]]), tensor([[11.4973]])]]"
          ]
        },
        {
          "name": "stdout",
          "output_type": "stream",
          "text": [
            "Logits for hard examples=[tensor([[-15.2031]]), tensor([[11.4973]])]\n"
          ]
        },
        {
          "name": "stderr",
          "output_type": "stream",
          "text": [
            " 16%|█▌        | 1587/10000 [00:03<00:19, 438.59it/s, logits=[tensor([[-15.2024]]), tensor([[11.5056]])]]"
          ]
        },
        {
          "name": "stdout",
          "output_type": "stream",
          "text": [
            "Logits for hard examples=[tensor([[-15.2024]]), tensor([[11.5056]])]\n"
          ]
        },
        {
          "name": "stderr",
          "output_type": "stream",
          "text": [
            " 17%|█▋        | 1676/10000 [00:03<00:18, 441.61it/s, logits=[tensor([[-15.2017]]), tensor([[11.5139]])]]"
          ]
        },
        {
          "name": "stdout",
          "output_type": "stream",
          "text": [
            "Logits for hard examples=[tensor([[-15.2017]]), tensor([[11.5139]])]\n"
          ]
        },
        {
          "name": "stderr",
          "output_type": "stream",
          "text": [
            " 18%|█▊        | 1766/10000 [00:04<00:18, 437.70it/s, logits=[tensor([[-15.2010]]), tensor([[11.5221]])]]"
          ]
        },
        {
          "name": "stdout",
          "output_type": "stream",
          "text": [
            "Logits for hard examples=[tensor([[-15.2010]]), tensor([[11.5221]])]\n"
          ]
        },
        {
          "name": "stderr",
          "output_type": "stream",
          "text": [
            " 19%|█▊        | 1855/10000 [00:04<00:18, 437.91it/s, logits=[tensor([[-15.2002]]), tensor([[11.5301]])]]"
          ]
        },
        {
          "name": "stdout",
          "output_type": "stream",
          "text": [
            "Logits for hard examples=[tensor([[-15.2002]]), tensor([[11.5301]])]\n"
          ]
        },
        {
          "name": "stderr",
          "output_type": "stream",
          "text": [
            " 19%|█▉        | 1945/10000 [00:04<00:18, 432.23it/s, logits=[tensor([[-15.1995]]), tensor([[11.5381]])]]"
          ]
        },
        {
          "name": "stdout",
          "output_type": "stream",
          "text": [
            "Logits for hard examples=[tensor([[-15.1995]]), tensor([[11.5381]])]\n"
          ]
        },
        {
          "name": "stderr",
          "output_type": "stream",
          "text": [
            " 21%|██        | 2079/10000 [00:04<00:18, 437.97it/s, logits=[tensor([[-15.1987]]), tensor([[11.5460]])]]"
          ]
        },
        {
          "name": "stdout",
          "output_type": "stream",
          "text": [
            "Logits for hard examples=[tensor([[-15.1987]]), tensor([[11.5460]])]\n"
          ]
        },
        {
          "name": "stderr",
          "output_type": "stream",
          "text": [
            " 22%|██▏       | 2167/10000 [00:05<00:18, 434.88it/s, logits=[tensor([[-15.1980]]), tensor([[11.5539]])]]"
          ]
        },
        {
          "name": "stdout",
          "output_type": "stream",
          "text": [
            "Logits for hard examples=[tensor([[-15.1980]]), tensor([[11.5539]])]\n"
          ]
        },
        {
          "name": "stderr",
          "output_type": "stream",
          "text": [
            " 23%|██▎       | 2256/10000 [00:05<00:17, 436.75it/s, logits=[tensor([[-15.1972]]), tensor([[11.5618]])]]"
          ]
        },
        {
          "name": "stdout",
          "output_type": "stream",
          "text": [
            "Logits for hard examples=[tensor([[-15.1972]]), tensor([[11.5618]])]\n"
          ]
        },
        {
          "name": "stderr",
          "output_type": "stream",
          "text": [
            " 23%|██▎       | 2345/10000 [00:05<00:17, 438.09it/s, logits=[tensor([[-15.1965]]), tensor([[11.5696]])]]"
          ]
        },
        {
          "name": "stdout",
          "output_type": "stream",
          "text": [
            "Logits for hard examples=[tensor([[-15.1965]]), tensor([[11.5696]])]\n"
          ]
        },
        {
          "name": "stderr",
          "output_type": "stream",
          "text": [
            " 25%|██▍       | 2481/10000 [00:05<00:16, 443.51it/s, logits=[tensor([[-15.1958]]), tensor([[11.5774]])]]"
          ]
        },
        {
          "name": "stdout",
          "output_type": "stream",
          "text": [
            "Logits for hard examples=[tensor([[-15.1958]]), tensor([[11.5774]])]\n"
          ]
        },
        {
          "name": "stderr",
          "output_type": "stream",
          "text": [
            " 26%|██▌       | 2572/10000 [00:05<00:16, 445.19it/s, logits=[tensor([[-15.1952]]), tensor([[11.5851]])]]"
          ]
        },
        {
          "name": "stdout",
          "output_type": "stream",
          "text": [
            "Logits for hard examples=[tensor([[-15.1952]]), tensor([[11.5851]])]\n"
          ]
        },
        {
          "name": "stderr",
          "output_type": "stream",
          "text": [
            " 27%|██▋       | 2663/10000 [00:06<00:16, 443.12it/s, logits=[tensor([[-15.1945]]), tensor([[11.5928]])]]"
          ]
        },
        {
          "name": "stdout",
          "output_type": "stream",
          "text": [
            "Logits for hard examples=[tensor([[-15.1945]]), tensor([[11.5928]])]\n"
          ]
        },
        {
          "name": "stderr",
          "output_type": "stream",
          "text": [
            " 28%|██▊       | 2753/10000 [00:06<00:16, 438.14it/s, logits=[tensor([[-15.1938]]), tensor([[11.6005]])]]"
          ]
        },
        {
          "name": "stdout",
          "output_type": "stream",
          "text": [
            "Logits for hard examples=[tensor([[-15.1938]]), tensor([[11.6005]])]\n"
          ]
        },
        {
          "name": "stderr",
          "output_type": "stream",
          "text": [
            " 29%|██▉       | 2888/10000 [00:06<00:16, 440.25it/s, logits=[tensor([[-15.1931]]), tensor([[11.6081]])]]"
          ]
        },
        {
          "name": "stdout",
          "output_type": "stream",
          "text": [
            "Logits for hard examples=[tensor([[-15.1931]]), tensor([[11.6081]])]\n"
          ]
        },
        {
          "name": "stderr",
          "output_type": "stream",
          "text": [
            " 30%|██▉       | 2978/10000 [00:06<00:15, 440.38it/s, logits=[tensor([[-15.1924]]), tensor([[11.6156]])]]"
          ]
        },
        {
          "name": "stdout",
          "output_type": "stream",
          "text": [
            "Logits for hard examples=[tensor([[-15.1924]]), tensor([[11.6156]])]\n"
          ]
        },
        {
          "name": "stderr",
          "output_type": "stream",
          "text": [
            " 31%|███       | 3068/10000 [00:07<00:15, 439.99it/s, logits=[tensor([[-15.1918]]), tensor([[11.6230]])]]"
          ]
        },
        {
          "name": "stdout",
          "output_type": "stream",
          "text": [
            "Logits for hard examples=[tensor([[-15.1918]]), tensor([[11.6230]])]\n"
          ]
        },
        {
          "name": "stderr",
          "output_type": "stream",
          "text": [
            " 32%|███▏      | 3159/10000 [00:07<00:15, 445.40it/s, logits=[tensor([[-15.1912]]), tensor([[11.6304]])]]"
          ]
        },
        {
          "name": "stdout",
          "output_type": "stream",
          "text": [
            "Logits for hard examples=[tensor([[-15.1912]]), tensor([[11.6304]])]\n"
          ]
        },
        {
          "name": "stderr",
          "output_type": "stream",
          "text": [
            " 32%|███▏      | 3249/10000 [00:07<00:15, 440.85it/s, logits=[tensor([[-15.1905]]), tensor([[11.6376]])]]"
          ]
        },
        {
          "name": "stdout",
          "output_type": "stream",
          "text": [
            "Logits for hard examples=[tensor([[-15.1905]]), tensor([[11.6376]])]\n"
          ]
        },
        {
          "name": "stderr",
          "output_type": "stream",
          "text": [
            " 34%|███▍      | 3385/10000 [00:07<00:14, 442.33it/s, logits=[tensor([[-15.1899]]), tensor([[11.6448]])]]"
          ]
        },
        {
          "name": "stdout",
          "output_type": "stream",
          "text": [
            "Logits for hard examples=[tensor([[-15.1899]]), tensor([[11.6448]])]\n"
          ]
        },
        {
          "name": "stderr",
          "output_type": "stream",
          "text": [
            " 35%|███▍      | 3475/10000 [00:07<00:14, 439.74it/s, logits=[tensor([[-15.1893]]), tensor([[11.6521]])]]"
          ]
        },
        {
          "name": "stdout",
          "output_type": "stream",
          "text": [
            "Logits for hard examples=[tensor([[-15.1893]]), tensor([[11.6521]])]\n"
          ]
        },
        {
          "name": "stderr",
          "output_type": "stream",
          "text": [
            " 36%|███▌      | 3564/10000 [00:08<00:14, 439.52it/s, logits=[tensor([[-15.1886]]), tensor([[11.6592]])]]"
          ]
        },
        {
          "name": "stdout",
          "output_type": "stream",
          "text": [
            "Logits for hard examples=[tensor([[-15.1886]]), tensor([[11.6592]])]\n"
          ]
        },
        {
          "name": "stderr",
          "output_type": "stream",
          "text": [
            " 37%|███▋      | 3652/10000 [00:08<00:14, 438.29it/s, logits=[tensor([[-15.1880]]), tensor([[11.6664]])]]"
          ]
        },
        {
          "name": "stdout",
          "output_type": "stream",
          "text": [
            "Logits for hard examples=[tensor([[-15.1880]]), tensor([[11.6664]])]\n"
          ]
        },
        {
          "name": "stderr",
          "output_type": "stream",
          "text": [
            " 38%|███▊      | 3787/10000 [00:08<00:14, 442.36it/s, logits=[tensor([[-15.1874]]), tensor([[11.6735]])]]"
          ]
        },
        {
          "name": "stdout",
          "output_type": "stream",
          "text": [
            "Logits for hard examples=[tensor([[-15.1874]]), tensor([[11.6735]])]\n"
          ]
        },
        {
          "name": "stderr",
          "output_type": "stream",
          "text": [
            " 39%|███▉      | 3877/10000 [00:08<00:13, 441.39it/s, logits=[tensor([[-15.1868]]), tensor([[11.6806]])]]"
          ]
        },
        {
          "name": "stdout",
          "output_type": "stream",
          "text": [
            "Logits for hard examples=[tensor([[-15.1868]]), tensor([[11.6806]])]\n"
          ]
        },
        {
          "name": "stderr",
          "output_type": "stream",
          "text": [
            " 40%|███▉      | 3968/10000 [00:09<00:13, 444.30it/s, logits=[tensor([[-15.1862]]), tensor([[11.6876]])]]"
          ]
        },
        {
          "name": "stdout",
          "output_type": "stream",
          "text": [
            "Logits for hard examples=[tensor([[-15.1862]]), tensor([[11.6876]])]\n"
          ]
        },
        {
          "name": "stderr",
          "output_type": "stream",
          "text": [
            " 41%|████      | 4058/10000 [00:09<00:13, 440.97it/s, logits=[tensor([[-15.1857]]), tensor([[11.6946]])]]"
          ]
        },
        {
          "name": "stdout",
          "output_type": "stream",
          "text": [
            "Logits for hard examples=[tensor([[-15.1857]]), tensor([[11.6946]])]\n"
          ]
        },
        {
          "name": "stderr",
          "output_type": "stream",
          "text": [
            " 41%|████▏     | 4147/10000 [00:09<00:13, 429.72it/s, logits=[tensor([[-15.1851]]), tensor([[11.7016]])]]"
          ]
        },
        {
          "name": "stdout",
          "output_type": "stream",
          "text": [
            "Logits for hard examples=[tensor([[-15.1851]]), tensor([[11.7016]])]\n"
          ]
        },
        {
          "name": "stderr",
          "output_type": "stream",
          "text": [
            " 43%|████▎     | 4279/10000 [00:09<00:13, 426.12it/s, logits=[tensor([[-15.1845]]), tensor([[11.7085]])]]"
          ]
        },
        {
          "name": "stdout",
          "output_type": "stream",
          "text": [
            "Logits for hard examples=[tensor([[-15.1845]]), tensor([[11.7085]])]\n"
          ]
        },
        {
          "name": "stderr",
          "output_type": "stream",
          "text": [
            " 44%|████▎     | 4368/10000 [00:10<00:12, 433.28it/s, logits=[tensor([[-15.1839]]), tensor([[11.7154]])]]"
          ]
        },
        {
          "name": "stdout",
          "output_type": "stream",
          "text": [
            "Logits for hard examples=[tensor([[-15.1839]]), tensor([[11.7154]])]\n"
          ]
        },
        {
          "name": "stderr",
          "output_type": "stream",
          "text": [
            " 45%|████▍     | 4458/10000 [00:10<00:12, 438.97it/s, logits=[tensor([[-15.1834]]), tensor([[11.7222]])]]"
          ]
        },
        {
          "name": "stdout",
          "output_type": "stream",
          "text": [
            "Logits for hard examples=[tensor([[-15.1834]]), tensor([[11.7222]])]\n"
          ]
        },
        {
          "name": "stderr",
          "output_type": "stream",
          "text": [
            " 45%|████▌     | 4548/10000 [00:10<00:12, 442.34it/s, logits=[tensor([[-15.1828]]), tensor([[11.7290]])]]"
          ]
        },
        {
          "name": "stdout",
          "output_type": "stream",
          "text": [
            "Logits for hard examples=[tensor([[-15.1828]]), tensor([[11.7290]])]\n"
          ]
        },
        {
          "name": "stderr",
          "output_type": "stream",
          "text": [
            " 47%|████▋     | 4683/10000 [00:10<00:12, 442.46it/s, logits=[tensor([[-15.1823]]), tensor([[11.7357]])]]"
          ]
        },
        {
          "name": "stdout",
          "output_type": "stream",
          "text": [
            "Logits for hard examples=[tensor([[-15.1823]]), tensor([[11.7357]])]\n"
          ]
        },
        {
          "name": "stderr",
          "output_type": "stream",
          "text": [
            " 48%|████▊     | 4774/10000 [00:10<00:11, 444.95it/s, logits=[tensor([[-15.1818]]), tensor([[11.7423]])]]"
          ]
        },
        {
          "name": "stdout",
          "output_type": "stream",
          "text": [
            "Logits for hard examples=[tensor([[-15.1818]]), tensor([[11.7423]])]\n"
          ]
        },
        {
          "name": "stderr",
          "output_type": "stream",
          "text": [
            " 49%|████▊     | 4864/10000 [00:11<00:11, 441.58it/s, logits=[tensor([[-15.1813]]), tensor([[11.7488]])]]"
          ]
        },
        {
          "name": "stdout",
          "output_type": "stream",
          "text": [
            "Logits for hard examples=[tensor([[-15.1813]]), tensor([[11.7488]])]\n"
          ]
        },
        {
          "name": "stderr",
          "output_type": "stream",
          "text": [
            " 50%|████▉     | 4954/10000 [00:11<00:11, 442.10it/s, logits=[tensor([[-15.1808]]), tensor([[11.7553]])]]"
          ]
        },
        {
          "name": "stdout",
          "output_type": "stream",
          "text": [
            "Logits for hard examples=[tensor([[-15.1808]]), tensor([[11.7553]])]\n"
          ]
        },
        {
          "name": "stderr",
          "output_type": "stream",
          "text": [
            " 50%|█████     | 5044/10000 [00:11<00:11, 442.45it/s, logits=[tensor([[-15.1803]]), tensor([[11.7618]])]]"
          ]
        },
        {
          "name": "stdout",
          "output_type": "stream",
          "text": [
            "Logits for hard examples=[tensor([[-15.1803]]), tensor([[11.7618]])]\n"
          ]
        },
        {
          "name": "stderr",
          "output_type": "stream",
          "text": [
            " 52%|█████▏    | 5177/10000 [00:11<00:11, 435.20it/s, logits=[tensor([[-15.1798]]), tensor([[11.7683]])]]"
          ]
        },
        {
          "name": "stdout",
          "output_type": "stream",
          "text": [
            "Logits for hard examples=[tensor([[-15.1798]]), tensor([[11.7683]])]\n"
          ]
        },
        {
          "name": "stderr",
          "output_type": "stream",
          "text": [
            " 53%|█████▎    | 5266/10000 [00:12<00:10, 435.99it/s, logits=[tensor([[-15.1793]]), tensor([[11.7747]])]]"
          ]
        },
        {
          "name": "stdout",
          "output_type": "stream",
          "text": [
            "Logits for hard examples=[tensor([[-15.1793]]), tensor([[11.7747]])]\n"
          ]
        },
        {
          "name": "stderr",
          "output_type": "stream",
          "text": [
            " 54%|█████▎    | 5355/10000 [00:12<00:10, 432.43it/s, logits=[tensor([[-15.1788]]), tensor([[11.7812]])]]"
          ]
        },
        {
          "name": "stdout",
          "output_type": "stream",
          "text": [
            "Logits for hard examples=[tensor([[-15.1788]]), tensor([[11.7812]])]\n"
          ]
        },
        {
          "name": "stderr",
          "output_type": "stream",
          "text": [
            " 54%|█████▍    | 5446/10000 [00:12<00:10, 437.85it/s, logits=[tensor([[-15.1784]]), tensor([[11.7876]])]]"
          ]
        },
        {
          "name": "stdout",
          "output_type": "stream",
          "text": [
            "Logits for hard examples=[tensor([[-15.1784]]), tensor([[11.7876]])]\n"
          ]
        },
        {
          "name": "stderr",
          "output_type": "stream",
          "text": [
            " 56%|█████▌    | 5582/10000 [00:12<00:10, 441.21it/s, logits=[tensor([[-15.1779]]), tensor([[11.7939]])]]"
          ]
        },
        {
          "name": "stdout",
          "output_type": "stream",
          "text": [
            "Logits for hard examples=[tensor([[-15.1779]]), tensor([[11.7939]])]\n"
          ]
        },
        {
          "name": "stderr",
          "output_type": "stream",
          "text": [
            " 57%|█████▋    | 5672/10000 [00:13<00:09, 441.42it/s, logits=[tensor([[-15.1775]]), tensor([[11.8003]])]]"
          ]
        },
        {
          "name": "stdout",
          "output_type": "stream",
          "text": [
            "Logits for hard examples=[tensor([[-15.1775]]), tensor([[11.8003]])]\n"
          ]
        },
        {
          "name": "stderr",
          "output_type": "stream",
          "text": [
            " 58%|█████▊    | 5761/10000 [00:13<00:09, 437.39it/s, logits=[tensor([[-15.1770]]), tensor([[11.8066]])]]"
          ]
        },
        {
          "name": "stdout",
          "output_type": "stream",
          "text": [
            "Logits for hard examples=[tensor([[-15.1770]]), tensor([[11.8066]])]\n"
          ]
        },
        {
          "name": "stderr",
          "output_type": "stream",
          "text": [
            " 58%|█████▊    | 5850/10000 [00:13<00:09, 438.05it/s, logits=[tensor([[-15.1766]]), tensor([[11.8129]])]]"
          ]
        },
        {
          "name": "stdout",
          "output_type": "stream",
          "text": [
            "Logits for hard examples=[tensor([[-15.1766]]), tensor([[11.8129]])]\n"
          ]
        },
        {
          "name": "stderr",
          "output_type": "stream",
          "text": [
            " 60%|█████▉    | 5983/10000 [00:13<00:09, 438.32it/s, logits=[tensor([[-15.1761]]), tensor([[11.8191]])]]"
          ]
        },
        {
          "name": "stdout",
          "output_type": "stream",
          "text": [
            "Logits for hard examples=[tensor([[-15.1761]]), tensor([[11.8191]])]\n"
          ]
        },
        {
          "name": "stderr",
          "output_type": "stream",
          "text": [
            " 61%|██████    | 6071/10000 [00:13<00:09, 435.25it/s, logits=[tensor([[-15.1757]]), tensor([[11.8253]])]]"
          ]
        },
        {
          "name": "stdout",
          "output_type": "stream",
          "text": [
            "Logits for hard examples=[tensor([[-15.1757]]), tensor([[11.8253]])]\n"
          ]
        },
        {
          "name": "stderr",
          "output_type": "stream",
          "text": [
            " 62%|██████▏   | 6160/10000 [00:14<00:08, 438.50it/s, logits=[tensor([[-15.1752]]), tensor([[11.8315]])]]"
          ]
        },
        {
          "name": "stdout",
          "output_type": "stream",
          "text": [
            "Logits for hard examples=[tensor([[-15.1752]]), tensor([[11.8315]])]\n"
          ]
        },
        {
          "name": "stderr",
          "output_type": "stream",
          "text": [
            " 62%|██████▏   | 6249/10000 [00:14<00:08, 440.65it/s, logits=[tensor([[-15.1748]]), tensor([[11.8377]])]]"
          ]
        },
        {
          "name": "stdout",
          "output_type": "stream",
          "text": [
            "Logits for hard examples=[tensor([[-15.1748]]), tensor([[11.8377]])]\n"
          ]
        },
        {
          "name": "stderr",
          "output_type": "stream",
          "text": [
            " 64%|██████▍   | 6383/10000 [00:14<00:08, 433.61it/s, logits=[tensor([[-15.1744]]), tensor([[11.8439]])]]"
          ]
        },
        {
          "name": "stdout",
          "output_type": "stream",
          "text": [
            "Logits for hard examples=[tensor([[-15.1744]]), tensor([[11.8439]])]\n"
          ]
        },
        {
          "name": "stderr",
          "output_type": "stream",
          "text": [
            " 65%|██████▍   | 6471/10000 [00:14<00:08, 431.59it/s, logits=[tensor([[-15.1739]]), tensor([[11.8499]])]]"
          ]
        },
        {
          "name": "stdout",
          "output_type": "stream",
          "text": [
            "Logits for hard examples=[tensor([[-15.1739]]), tensor([[11.8499]])]\n"
          ]
        },
        {
          "name": "stderr",
          "output_type": "stream",
          "text": [
            " 66%|██████▌   | 6558/10000 [00:15<00:08, 426.50it/s, logits=[tensor([[-15.1735]]), tensor([[11.8559]])]]"
          ]
        },
        {
          "name": "stdout",
          "output_type": "stream",
          "text": [
            "Logits for hard examples=[tensor([[-15.1735]]), tensor([[11.8559]])]\n"
          ]
        },
        {
          "name": "stderr",
          "output_type": "stream",
          "text": [
            " 66%|██████▋   | 6645/10000 [00:15<00:08, 412.77it/s, logits=[tensor([[-15.1731]]), tensor([[11.8618]])]]"
          ]
        },
        {
          "name": "stdout",
          "output_type": "stream",
          "text": [
            "Logits for hard examples=[tensor([[-15.1731]]), tensor([[11.8618]])]\n"
          ]
        },
        {
          "name": "stderr",
          "output_type": "stream",
          "text": [
            " 68%|██████▊   | 6772/10000 [00:15<00:07, 418.11it/s, logits=[tensor([[-15.1728]]), tensor([[11.8676]])]]"
          ]
        },
        {
          "name": "stdout",
          "output_type": "stream",
          "text": [
            "Logits for hard examples=[tensor([[-15.1728]]), tensor([[11.8676]])]\n"
          ]
        },
        {
          "name": "stderr",
          "output_type": "stream",
          "text": [
            " 69%|██████▊   | 6858/10000 [00:15<00:07, 420.51it/s, logits=[tensor([[-15.1724]]), tensor([[11.8735]])]]"
          ]
        },
        {
          "name": "stdout",
          "output_type": "stream",
          "text": [
            "Logits for hard examples=[tensor([[-15.1724]]), tensor([[11.8735]])]\n"
          ]
        },
        {
          "name": "stderr",
          "output_type": "stream",
          "text": [
            " 69%|██████▉   | 6944/10000 [00:15<00:07, 421.59it/s, logits=[tensor([[-15.1720]]), tensor([[11.8793]])]]"
          ]
        },
        {
          "name": "stdout",
          "output_type": "stream",
          "text": [
            "Logits for hard examples=[tensor([[-15.1720]]), tensor([[11.8793]])]\n"
          ]
        },
        {
          "name": "stderr",
          "output_type": "stream",
          "text": [
            " 71%|███████   | 7074/10000 [00:16<00:06, 423.59it/s, logits=[tensor([[-15.1717]]), tensor([[11.8851]])]]"
          ]
        },
        {
          "name": "stdout",
          "output_type": "stream",
          "text": [
            "Logits for hard examples=[tensor([[-15.1717]]), tensor([[11.8851]])]\n"
          ]
        },
        {
          "name": "stderr",
          "output_type": "stream",
          "text": [
            " 72%|███████▏  | 7162/10000 [00:16<00:06, 429.16it/s, logits=[tensor([[-15.1713]]), tensor([[11.8909]])]]"
          ]
        },
        {
          "name": "stdout",
          "output_type": "stream",
          "text": [
            "Logits for hard examples=[tensor([[-15.1713]]), tensor([[11.8909]])]\n"
          ]
        },
        {
          "name": "stderr",
          "output_type": "stream",
          "text": [
            " 72%|███████▏  | 7249/10000 [00:16<00:06, 427.30it/s, logits=[tensor([[-15.1709]]), tensor([[11.8966]])]]"
          ]
        },
        {
          "name": "stdout",
          "output_type": "stream",
          "text": [
            "Logits for hard examples=[tensor([[-15.1709]]), tensor([[11.8966]])]\n"
          ]
        },
        {
          "name": "stderr",
          "output_type": "stream",
          "text": [
            " 74%|███████▍  | 7378/10000 [00:17<00:06, 424.08it/s, logits=[tensor([[-15.1706]]), tensor([[11.9023]])]]"
          ]
        },
        {
          "name": "stdout",
          "output_type": "stream",
          "text": [
            "Logits for hard examples=[tensor([[-15.1706]]), tensor([[11.9023]])]\n"
          ]
        },
        {
          "name": "stderr",
          "output_type": "stream",
          "text": [
            " 75%|███████▍  | 7465/10000 [00:17<00:05, 427.05it/s, logits=[tensor([[-15.1702]]), tensor([[11.9080]])]]"
          ]
        },
        {
          "name": "stdout",
          "output_type": "stream",
          "text": [
            "Logits for hard examples=[tensor([[-15.1702]]), tensor([[11.9080]])]\n"
          ]
        },
        {
          "name": "stderr",
          "output_type": "stream",
          "text": [
            " 76%|███████▌  | 7553/10000 [00:17<00:05, 432.28it/s, logits=[tensor([[-15.1699]]), tensor([[11.9137]])]]"
          ]
        },
        {
          "name": "stdout",
          "output_type": "stream",
          "text": [
            "Logits for hard examples=[tensor([[-15.1699]]), tensor([[11.9137]])]\n"
          ]
        },
        {
          "name": "stderr",
          "output_type": "stream",
          "text": [
            " 77%|███████▋  | 7686/10000 [00:17<00:05, 433.30it/s, logits=[tensor([[-15.1695]]), tensor([[11.9194]])]]"
          ]
        },
        {
          "name": "stdout",
          "output_type": "stream",
          "text": [
            "Logits for hard examples=[tensor([[-15.1695]]), tensor([[11.9194]])]\n"
          ]
        },
        {
          "name": "stderr",
          "output_type": "stream",
          "text": [
            " 78%|███████▊  | 7774/10000 [00:17<00:05, 430.51it/s, logits=[tensor([[-15.1692]]), tensor([[11.9250]])]]"
          ]
        },
        {
          "name": "stdout",
          "output_type": "stream",
          "text": [
            "Logits for hard examples=[tensor([[-15.1692]]), tensor([[11.9250]])]\n"
          ]
        },
        {
          "name": "stderr",
          "output_type": "stream",
          "text": [
            " 79%|███████▊  | 7861/10000 [00:18<00:05, 424.05it/s, logits=[tensor([[-15.1689]]), tensor([[11.9306]])]]"
          ]
        },
        {
          "name": "stdout",
          "output_type": "stream",
          "text": [
            "Logits for hard examples=[tensor([[-15.1689]]), tensor([[11.9306]])]\n"
          ]
        },
        {
          "name": "stderr",
          "output_type": "stream",
          "text": [
            " 79%|███████▉  | 7946/10000 [00:18<00:04, 417.41it/s, logits=[tensor([[-15.1685]]), tensor([[11.9362]])]]"
          ]
        },
        {
          "name": "stdout",
          "output_type": "stream",
          "text": [
            "Logits for hard examples=[tensor([[-15.1685]]), tensor([[11.9362]])]\n"
          ]
        },
        {
          "name": "stderr",
          "output_type": "stream",
          "text": [
            " 81%|████████  | 8073/10000 [00:18<00:04, 417.62it/s, logits=[tensor([[-15.1682]]), tensor([[11.9417]])]]"
          ]
        },
        {
          "name": "stdout",
          "output_type": "stream",
          "text": [
            "Logits for hard examples=[tensor([[-15.1682]]), tensor([[11.9417]])]\n"
          ]
        },
        {
          "name": "stderr",
          "output_type": "stream",
          "text": [
            " 82%|████████▏ | 8156/10000 [00:18<00:04, 388.27it/s, logits=[tensor([[-15.1679]]), tensor([[11.9473]])]]"
          ]
        },
        {
          "name": "stdout",
          "output_type": "stream",
          "text": [
            "Logits for hard examples=[tensor([[-15.1679]]), tensor([[11.9473]])]\n"
          ]
        },
        {
          "name": "stderr",
          "output_type": "stream",
          "text": [
            " 83%|████████▎ | 8279/10000 [00:19<00:04, 398.21it/s, logits=[tensor([[-15.1676]]), tensor([[11.9528]])]]"
          ]
        },
        {
          "name": "stdout",
          "output_type": "stream",
          "text": [
            "Logits for hard examples=[tensor([[-15.1676]]), tensor([[11.9528]])]\n"
          ]
        },
        {
          "name": "stderr",
          "output_type": "stream",
          "text": [
            " 84%|████████▎ | 8359/10000 [00:19<00:04, 389.70it/s, logits=[tensor([[-15.1673]]), tensor([[11.9584]])]]"
          ]
        },
        {
          "name": "stdout",
          "output_type": "stream",
          "text": [
            "Logits for hard examples=[tensor([[-15.1673]]), tensor([[11.9584]])]\n"
          ]
        },
        {
          "name": "stderr",
          "output_type": "stream",
          "text": [
            " 84%|████████▍ | 8441/10000 [00:19<00:03, 393.14it/s, logits=[tensor([[-15.1670]]), tensor([[11.9639]])]]"
          ]
        },
        {
          "name": "stdout",
          "output_type": "stream",
          "text": [
            "Logits for hard examples=[tensor([[-15.1670]]), tensor([[11.9639]])]\n"
          ]
        },
        {
          "name": "stderr",
          "output_type": "stream",
          "text": [
            " 86%|████████▌ | 8569/10000 [00:19<00:03, 412.06it/s, logits=[tensor([[-15.1667]]), tensor([[11.9693]])]]"
          ]
        },
        {
          "name": "stdout",
          "output_type": "stream",
          "text": [
            "Logits for hard examples=[tensor([[-15.1667]]), tensor([[11.9693]])]\n"
          ]
        },
        {
          "name": "stderr",
          "output_type": "stream",
          "text": [
            " 87%|████████▋ | 8655/10000 [00:20<00:03, 416.88it/s, logits=[tensor([[-15.1664]]), tensor([[11.9747]])]]"
          ]
        },
        {
          "name": "stdout",
          "output_type": "stream",
          "text": [
            "Logits for hard examples=[tensor([[-15.1664]]), tensor([[11.9747]])]\n"
          ]
        },
        {
          "name": "stderr",
          "output_type": "stream",
          "text": [
            " 88%|████████▊ | 8783/10000 [00:20<00:02, 420.61it/s, logits=[tensor([[-15.1661]]), tensor([[11.9801]])]]"
          ]
        },
        {
          "name": "stdout",
          "output_type": "stream",
          "text": [
            "Logits for hard examples=[tensor([[-15.1661]]), tensor([[11.9801]])]\n"
          ]
        },
        {
          "name": "stderr",
          "output_type": "stream",
          "text": [
            " 89%|████████▊ | 8870/10000 [00:20<00:02, 423.13it/s, logits=[tensor([[-15.1658]]), tensor([[11.9855]])]]"
          ]
        },
        {
          "name": "stdout",
          "output_type": "stream",
          "text": [
            "Logits for hard examples=[tensor([[-15.1658]]), tensor([[11.9855]])]\n"
          ]
        },
        {
          "name": "stderr",
          "output_type": "stream",
          "text": [
            " 90%|████████▉ | 8956/10000 [00:20<00:02, 420.69it/s, logits=[tensor([[-15.1655]]), tensor([[11.9907]])]]"
          ]
        },
        {
          "name": "stdout",
          "output_type": "stream",
          "text": [
            "Logits for hard examples=[tensor([[-15.1655]]), tensor([[11.9907]])]\n"
          ]
        },
        {
          "name": "stderr",
          "output_type": "stream",
          "text": [
            " 91%|█████████ | 9086/10000 [00:21<00:02, 425.46it/s, logits=[tensor([[-15.1652]]), tensor([[11.9960]])]]"
          ]
        },
        {
          "name": "stdout",
          "output_type": "stream",
          "text": [
            "Logits for hard examples=[tensor([[-15.1652]]), tensor([[11.9960]])]\n"
          ]
        },
        {
          "name": "stderr",
          "output_type": "stream",
          "text": [
            " 92%|█████████▏| 9172/10000 [00:21<00:01, 424.00it/s, logits=[tensor([[-15.1649]]), tensor([[12.0012]])]]"
          ]
        },
        {
          "name": "stdout",
          "output_type": "stream",
          "text": [
            "Logits for hard examples=[tensor([[-15.1649]]), tensor([[12.0012]])]\n"
          ]
        },
        {
          "name": "stderr",
          "output_type": "stream",
          "text": [
            " 93%|█████████▎| 9257/10000 [00:21<00:01, 417.79it/s, logits=[tensor([[-15.1647]]), tensor([[12.0063]])]]"
          ]
        },
        {
          "name": "stdout",
          "output_type": "stream",
          "text": [
            "Logits for hard examples=[tensor([[-15.1647]]), tensor([[12.0063]])]\n"
          ]
        },
        {
          "name": "stderr",
          "output_type": "stream",
          "text": [
            " 93%|█████████▎| 9341/10000 [00:21<00:01, 402.69it/s, logits=[tensor([[-15.1644]]), tensor([[12.0114]])]]"
          ]
        },
        {
          "name": "stdout",
          "output_type": "stream",
          "text": [
            "Logits for hard examples=[tensor([[-15.1644]]), tensor([[12.0114]])]\n"
          ]
        },
        {
          "name": "stderr",
          "output_type": "stream",
          "text": [
            " 95%|█████████▍| 9468/10000 [00:22<00:01, 411.96it/s, logits=[tensor([[-15.1642]]), tensor([[12.0165]])]]"
          ]
        },
        {
          "name": "stdout",
          "output_type": "stream",
          "text": [
            "Logits for hard examples=[tensor([[-15.1642]]), tensor([[12.0165]])]\n"
          ]
        },
        {
          "name": "stderr",
          "output_type": "stream",
          "text": [
            " 96%|█████████▌| 9552/10000 [00:22<00:01, 412.83it/s, logits=[tensor([[-15.1639]]), tensor([[12.0216]])]]"
          ]
        },
        {
          "name": "stdout",
          "output_type": "stream",
          "text": [
            "Logits for hard examples=[tensor([[-15.1639]]), tensor([[12.0216]])]\n"
          ]
        },
        {
          "name": "stderr",
          "output_type": "stream",
          "text": [
            " 97%|█████████▋| 9679/10000 [00:22<00:00, 415.57it/s, logits=[tensor([[-15.1637]]), tensor([[12.0266]])]]"
          ]
        },
        {
          "name": "stdout",
          "output_type": "stream",
          "text": [
            "Logits for hard examples=[tensor([[-15.1637]]), tensor([[12.0266]])]\n"
          ]
        },
        {
          "name": "stderr",
          "output_type": "stream",
          "text": [
            " 98%|█████████▊| 9764/10000 [00:22<00:00, 415.29it/s, logits=[tensor([[-15.1634]]), tensor([[12.0316]])]]"
          ]
        },
        {
          "name": "stdout",
          "output_type": "stream",
          "text": [
            "Logits for hard examples=[tensor([[-15.1634]]), tensor([[12.0316]])]\n"
          ]
        },
        {
          "name": "stderr",
          "output_type": "stream",
          "text": [
            " 98%|█████████▊| 9848/10000 [00:22<00:00, 412.54it/s, logits=[tensor([[-15.1632]]), tensor([[12.0367]])]]"
          ]
        },
        {
          "name": "stdout",
          "output_type": "stream",
          "text": [
            "Logits for hard examples=[tensor([[-15.1632]]), tensor([[12.0367]])]\n"
          ]
        },
        {
          "name": "stderr",
          "output_type": "stream",
          "text": [
            "100%|█████████▉| 9980/10000 [00:23<00:00, 426.39it/s, logits=[tensor([[-15.1629]]), tensor([[12.0417]])]]"
          ]
        },
        {
          "name": "stdout",
          "output_type": "stream",
          "text": [
            "Logits for hard examples=[tensor([[-15.1629]]), tensor([[12.0417]])]\n"
          ]
        },
        {
          "name": "stderr",
          "output_type": "stream",
          "text": [
            "100%|██████████| 10000/10000 [00:23<00:00, 428.83it/s, logits=[tensor([[-15.1629]]), tensor([[12.0417]])]]\n"
          ]
        }
      ],
      "source": [
        "train_model(hidden_dim=20, lr=0.01, num_steps=10000)"
      ]
    },
    {
      "cell_type": "markdown",
      "metadata": {
        "id": "HGz_Kig5ldxK",
        "jukit_cell_id": "18VLypK3Ez"
      },
      "source": [
        "## To implement\n",
        "\n",
        "1. Check for what values of `SEQUENCE_LEN` the model is able to discriminate betweeh the two hard examples (after training).\n",
        "2. Instead of training on `HARD_EXAMPLES` only, modify the training loop to train on sequences where zero may be in any position of the sequence (so any valid sequence of `Type 0`, not just the hardest one). After modifying the training loop check for what values of `SEQUENCE_LEN` you can train the model successfully.\n",
        "3. Replace LSTM by a classic RNN and check for what values of `SEQUENCE_LEN` you can train the model successfully.\n",
        "4. Write a proper curricullum learning loop, where in a loop you consider longer and longer sequences, where expansion of the sequence length happens only after the model is trained successfully on the current length.\n",
        "\n",
        "Note that for steps 2-4 you may need to change the value of `num_steps`."
      ]
    },
    {
      "cell_type": "markdown",
      "metadata": {},
      "source": [
        "### Task 1:\n",
        "Check for what values of `SEQUENCE_LEN` the model is able to discriminate betweeh the two hard examples (after training)."
      ]
    },
    {
      "cell_type": "code",
      "execution_count": null,
      "metadata": {},
      "outputs": [],
      "source": [
        "def eval_accuracy(model : nn.Module, x : list[list[float]], y : list[int]) -> float:\n",
        "    with torch.no_grad():\n",
        "        correct = 0\n",
        "        for sequence, label in zip(x, y):\n",
        "            input = torch.tensor(sequence).view(-1, 1, 1)\n",
        "            logit = torch.nn.functional.sigmoid(model(input))\n",
        "            if int(logit > 0.5) == label:\n",
        "                correct += 1\n",
        "\n",
        "        accuracy = correct / len(x)\n",
        "        return accuracy\n",
        "\n",
        "def train(hidden_dim: int, lr: float, num_steps:int = 10000, data = HARD_EXAMPLES) -> nn.Module:\n",
        "    device = \"cpu\"\n",
        "    model = Model(hidden_dim=hidden_dim).to(device)\n",
        "    loss_function = nn.BCEWithLogitsLoss()\n",
        "    optimizer = optim.SGD(model.parameters(), lr=lr, momentum=0.99)\n",
        "\n",
        "    pbar = tqdm(range(num_steps))\n",
        "    for _ in pbar:\n",
        "\n",
        "        for sequence, label in data:\n",
        "            model.zero_grad()\n",
        "            logit = model(torch.tensor(sequence).view(-1, 1, 1).to(device))\n",
        "\n",
        "            loss = loss_function(logit.view(-1), torch.tensor([label], dtype=torch.float32).to(device))\n",
        "            loss.backward()\n",
        "\n",
        "            optimizer.step()\n",
        "\n",
        "    return model\n",
        "    "
      ]
    },
    {
      "cell_type": "code",
      "execution_count": null,
      "metadata": {},
      "outputs": [
        {
          "name": "stderr",
          "output_type": "stream",
          "text": [
            "100%|██████████| 10000/10000 [00:22<00:00, 435.06it/s]\n"
          ]
        }
      ],
      "source": [
        "model = train(hidden_dim=20, lr=0.01, num_steps=1000, data=HARD_EXAMPLES)\n",
        "results = {}\n",
        "\n",
        "for seq_len in range(10, 1010, 10):\n",
        "    hard_examples = [([0.]+(seq_len -1)*[1.], 0),\n",
        "                 (seq_len *[1.], 1)]\n",
        "    \n",
        "    results[seq_len] = eval_accuracy(model, [sequence for sequence, _ in HARD_EXAMPLES],\n",
        "              [label for _, label in HARD_EXAMPLES])"
      ]
    },
    {
      "cell_type": "code",
      "execution_count": null,
      "metadata": {},
      "outputs": [
        {
          "data": {
            "image/png": "[encoded data removed]",
            "text/plain": [
              "<Figure size 1000x600 with 1 Axes>"
            ]
          },
          "metadata": {},
          "output_type": "display_data"
        }
      ],
      "source": [
        "import matplotlib.pyplot as plt\n",
        "sequence_lengths = list(results.keys())\n",
        "accuracies = list(results.values())\n",
        "\n",
        "plt.style.use('dark_background')\n",
        "\n",
        "plt.figure(figsize=(10, 6))\n",
        "plt.plot(sequence_lengths, accuracies, marker='o', color='cyan')\n",
        "plt.title('Model Accuracy by Sequence Length', color='white')\n",
        "plt.xlabel('Sequence Length', color='white')\n",
        "plt.ylabel('Accuracy', color='white')\n",
        "plt.ylim(0, 1) \n",
        "plt.grid(True)\n",
        "plt.show()"
      ]
    },
    {
      "cell_type": "markdown",
      "metadata": {},
      "source": [
        "### Task 2\n",
        "\n",
        "Instead of training on `HARD_EXAMPLES` only, modify the training loop to train on sequences where zero may be in any position of the sequence (so any valid sequence of `Type 0`, not just the hardest one). After modifying the training loop check for what values of `SEQUENCE_LEN` you can train the model successfully."
      ]
    },
    {
      "cell_type": "code",
      "execution_count": null,
      "metadata": {},
      "outputs": [],
      "source": [
        "def generate_data(sequence_len: int, num_examples: int):\n",
        "    x = []\n",
        "    y = []\n",
        "    for _ in range(num_examples):\n",
        "        sequence = sequence_len * [1.]\n",
        "        label = 1\n",
        "        if torch.rand(1) > 0.5:\n",
        "            sequence[torch.randint(0, sequence_len, (1,))[0]] = 0.\n",
        "            label = 0\n",
        "\n",
        "        x.append(sequence)\n",
        "        y.append(label)\n",
        "\n",
        "    return list(zip(x, y))"
      ]
    },
    {
      "cell_type": "code",
      "execution_count": null,
      "metadata": {},
      "outputs": [
        {
          "name": "stderr",
          "output_type": "stream",
          "text": [
            "100%|██████████| 100/100 [00:11<00:00,  8.69it/s]\n",
            "100%|██████████| 100/100 [00:20<00:00,  4.94it/s]\n",
            "100%|██████████| 100/100 [00:30<00:00,  3.31it/s]\n",
            "100%|██████████| 100/100 [00:39<00:00,  2.55it/s]\n",
            "100%|██████████| 100/100 [00:47<00:00,  2.13it/s]\n",
            "100%|██████████| 100/100 [00:56<00:00,  1.78it/s]\n",
            "100%|██████████| 100/100 [01:05<00:00,  1.54it/s]\n",
            "100%|██████████| 100/100 [01:13<00:00,  1.36it/s]\n",
            "100%|██████████| 100/100 [01:20<00:00,  1.24it/s]\n"
          ]
        }
      ],
      "source": [
        "acc = {}\n",
        "\n",
        "for seq_len in range(10, 100, 10):\n",
        "    data = generate_data(sequence_len=seq_len, num_examples=100)\n",
        "    test_data = generate_data(sequence_len=seq_len, num_examples=10)\n",
        "    model = train(hidden_dim=20, lr=0.01, num_steps=100, data=data)\n",
        "    x, y = ([sequence for sequence, _ in test_data],\n",
        "              [label for _, label in test_data])\n",
        "    acc[seq_len] = eval_accuracy(model, x, y)\n"
      ]
    },
    {
      "cell_type": "code",
      "execution_count": null,
      "metadata": {},
      "outputs": [
        {
          "data": {
            "image/png": "[encoded data removed]",
            "text/plain": [
              "<Figure size 1000x600 with 1 Axes>"
            ]
          },
          "metadata": {},
          "output_type": "display_data"
        }
      ],
      "source": [
        "sequence_lengths = list(acc.keys())\n",
        "accuracies = list(acc.values())\n",
        "plt.figure(figsize=(10, 6))\n",
        "plt.plot(sequence_lengths, accuracies, marker='o', color='cyan')\n",
        "plt.title('Model Accuracy by Sequence Length', color='white')\n",
        "plt.xlabel('Sequence Length', color='white')\n",
        "plt.ylabel('Accuracy', color='white')\n",
        "plt.ylim(0, 1) \n",
        "plt.grid(True)\n",
        "plt.show()"
      ]
    },
    {
      "cell_type": "markdown",
      "metadata": {},
      "source": [
        "### Task 3\n",
        "\n",
        "Replace LSTM by a classic RNN and check for what values of `SEQUENCE_LEN` you can train the model successfully."
      ]
    },
    {
      "cell_type": "code",
      "execution_count": null,
      "metadata": {},
      "outputs": [],
      "source": [
        "import torch\n",
        "import torch.nn as nn\n",
        "import torch.nn.functional as F\n",
        "\n",
        "class RNNModel(nn.Module):\n",
        "    def __init__(self, hidden_dim: int):\n",
        "        super(RNNModel, self).__init__()\n",
        "        self.hidden_dim = hidden_dim\n",
        "        self.rnn = nn.RNN(input_size=1, hidden_size=self.hidden_dim)\n",
        "        self.hidden2label = nn.Linear(hidden_dim, 1)\n",
        "\n",
        "    def forward(self, x: torch.Tensor) -> torch.Tensor:\n",
        "        out, _ = self.rnn(x)\n",
        "        logits = self.hidden2label(F.relu(out[-1]))\n",
        "        return logits"
      ]
    },
    {
      "cell_type": "code",
      "execution_count": null,
      "metadata": {},
      "outputs": [
        {
          "name": "stderr",
          "output_type": "stream",
          "text": [
            "100%|██████████| 100/100 [00:11<00:00,  8.77it/s]\n",
            "100%|██████████| 100/100 [00:20<00:00,  4.96it/s]\n",
            "100%|██████████| 100/100 [00:28<00:00,  3.46it/s]\n",
            "100%|██████████| 100/100 [00:37<00:00,  2.66it/s]\n",
            "100%|██████████| 100/100 [00:46<00:00,  2.17it/s]\n",
            "100%|██████████| 100/100 [00:54<00:00,  1.83it/s]\n",
            "100%|██████████| 100/100 [01:03<00:00,  1.58it/s]\n",
            "100%|██████████| 100/100 [01:11<00:00,  1.39it/s]\n",
            "100%|██████████| 100/100 [01:20<00:00,  1.24it/s]\n"
          ]
        }
      ],
      "source": [
        "rnn_acc = {}\n",
        "\n",
        "for seq_len in range(10, 100, 10):\n",
        "    data = generate_data(sequence_len=seq_len, num_examples=100)\n",
        "    test_data = generate_data(sequence_len=seq_len, num_examples=10)\n",
        "    model = train(hidden_dim=20, lr=0.01, num_steps=100, data=data)\n",
        "    x, y = ([sequence for sequence, _ in test_data],\n",
        "              [label for _, label in test_data])\n",
        "    rnn_acc[seq_len] = eval_accuracy(model, x, y)"
      ]
    },
    {
      "cell_type": "code",
      "execution_count": null,
      "metadata": {},
      "outputs": [
        {
          "data": {
            "image/png": "[encoded data removed]",
            "text/plain": [
              "<Figure size 1000x600 with 1 Axes>"
            ]
          },
          "metadata": {},
          "output_type": "display_data"
        }
      ],
      "source": [
        "sequence_lengths = list(rnn_acc.keys())\n",
        "accuracies = list(rnn_acc.values())\n",
        "plt.figure(figsize=(10, 6))\n",
        "plt.plot(sequence_lengths, accuracies, marker='o', color='cyan')\n",
        "plt.title('Model Accuracy by Sequence Length', color='white')\n",
        "plt.xlabel('Sequence Length', color='white')\n",
        "plt.ylabel('Accuracy', color='white')\n",
        "plt.ylim(0, 1) \n",
        "plt.grid(True)\n",
        "plt.show()"
      ]
    },
    {
      "cell_type": "markdown",
      "metadata": {},
      "source": [
        "### Task 4\n",
        "Write a proper curricullum learning loop, where in a loop you consider longer and longer sequences, where expansion of the sequence length happens only after the model is trained successfully on the current length."
      ]
    },
    {
      "cell_type": "code",
      "execution_count": null,
      "metadata": {},
      "outputs": [
        {
          "ename": "NameError",
          "evalue": "name 'generate_data' is not defined",
          "output_type": "error",
          "traceback": [
            "\u001b[0;31m---------------------------------------------------------------------------\u001b[0m",
            "\u001b[0;31mNameError\u001b[0m                                 Traceback (most recent call last)",
            "Cell \u001b[0;32mIn[2], line 23\u001b[0m\n\u001b[1;32m     18\u001b[0m         seq_len \u001b[38;5;241m+\u001b[39m\u001b[38;5;241m=\u001b[39m \u001b[38;5;241m1\u001b[39m\n\u001b[1;32m     20\u001b[0m     \u001b[38;5;28;01mreturn\u001b[39;00m model, results\n\u001b[0;32m---> 23\u001b[0m _, results \u001b[38;5;241m=\u001b[39m \u001b[43mcurriculum_learning_loop\u001b[49m\u001b[43m(\u001b[49m\u001b[43m)\u001b[49m\n",
            "Cell \u001b[0;32mIn[2], line 8\u001b[0m, in \u001b[0;36mcurriculum_learning_loop\u001b[0;34m()\u001b[0m\n\u001b[1;32m      5\u001b[0m model \u001b[38;5;241m=\u001b[39m \u001b[38;5;28;01mNone\u001b[39;00m\n\u001b[1;32m      7\u001b[0m \u001b[38;5;28;01mwhile\u001b[39;00m acc \u001b[38;5;241m>\u001b[39m\u001b[38;5;241m=\u001b[39m min_acc:\n\u001b[0;32m----> 8\u001b[0m     data \u001b[38;5;241m=\u001b[39m \u001b[43mgenerate_data\u001b[49m(seq_len, \u001b[38;5;241m100\u001b[39m)\n\u001b[1;32m      9\u001b[0m     test_data \u001b[38;5;241m=\u001b[39m generate_data(seq_len, \u001b[38;5;241m10\u001b[39m)\n\u001b[1;32m     10\u001b[0m     model \u001b[38;5;241m=\u001b[39m train(hidden_dim\u001b[38;5;241m=\u001b[39m\u001b[38;5;241m20\u001b[39m, lr\u001b[38;5;241m=\u001b[39m\u001b[38;5;241m0.1\u001b[39m, num_steps\u001b[38;5;241m=\u001b[39m\u001b[38;5;241m10\u001b[39m, data\u001b[38;5;241m=\u001b[39mdata)\n",
            "\u001b[0;31mNameError\u001b[0m: name 'generate_data' is not defined"
          ]
        }
      ],
      "source": [
        "def curriculum_learning_loop():\n",
        "    seq_len = 10\n",
        "    acc, min_acc = 1.0, 0.8\n",
        "    results = {}\n",
        "    model = None\n",
        "\n",
        "    while acc >= min_acc:\n",
        "        data = generate_data(seq_len, 100)\n",
        "        test_data = generate_data(seq_len, 10)\n",
        "        model = train(hidden_dim=20, lr=0.1, num_steps=10, data=data)\n",
        "\n",
        "        x, y = ([sequence for sequence, _ in test_data],\n",
        "            [label for _, label in test_data])\n",
        "        acc = eval_accuracy(model, x, y)\n",
        "\n",
        "        results[seq_len] = acc\n",
        "        print(f\"Accuracy after training for seq_len={seq_len} : {acc}\")\n",
        "        seq_len += 1\n",
        "\n",
        "    return model, results\n",
        "\n",
        "\n",
        "_, results = curriculum_learning_loop()"
      ]
    },
    {
      "cell_type": "code",
      "execution_count": null,
      "metadata": {},
      "outputs": [],
      "source": []
    }
  ],
  "metadata": {
    "anaconda-cloud": {},
    "colab": {
      "provenance": []
    },
    "kernelspec": {
      "display_name": "python",
      "language": "python",
      "name": "python3"
    },
    "language_info": {
      "codemirror_mode": {
        "name": "ipython",
        "version": 3
      },
      "file_extension": ".py",
      "mimetype": "text/x-python",
      "name": "python",
      "nbconvert_exporter": "python",
      "pygments_lexer": "ipython3",
      "version": "3.11.6"
    }
  },
  "nbformat": 4,
  "nbformat_minor": 0
}
